{
 "cells": [
  {
   "cell_type": "markdown",
   "metadata": {},
   "source": [
    "# Import Packages"
   ]
  },
  {
   "cell_type": "code",
   "execution_count": 1,
   "metadata": {
    "ExecuteTime": {
     "end_time": "2021-04-23T10:28:41.448698Z",
     "start_time": "2021-04-23T10:28:40.746827Z"
    }
   },
   "outputs": [],
   "source": [
    "import pandas as pd\n",
    "import numpy as np\n",
    "from gekko import GEKKO"
   ]
  },
  {
   "cell_type": "markdown",
   "metadata": {},
   "source": [
    "# Import Data\n",
    "\n"
   ]
  },
  {
   "cell_type": "code",
   "execution_count": 2,
   "metadata": {
    "ExecuteTime": {
     "end_time": "2021-04-23T10:28:41.544617Z",
     "start_time": "2021-04-23T10:28:41.451688Z"
    }
   },
   "outputs": [],
   "source": [
    "forecasts = pd.read_csv('C:/dev/verteiler/02_Forecasting_Benchmark/Wareverschiebung-VZ-zu-Filiale.csv')"
   ]
  },
  {
   "cell_type": "code",
   "execution_count": 3,
   "metadata": {
    "ExecuteTime": {
     "end_time": "2021-04-23T10:28:41.576520Z",
     "start_time": "2021-04-23T10:28:41.549570Z"
    }
   },
   "outputs": [
    {
     "data": {
      "text/html": [
       "<div>\n",
       "<style scoped>\n",
       "    .dataframe tbody tr th:only-of-type {\n",
       "        vertical-align: middle;\n",
       "    }\n",
       "\n",
       "    .dataframe tbody tr th {\n",
       "        vertical-align: top;\n",
       "    }\n",
       "\n",
       "    .dataframe thead th {\n",
       "        text-align: right;\n",
       "    }\n",
       "</style>\n",
       "<table border=\"1\" class=\"dataframe\">\n",
       "  <thead>\n",
       "    <tr style=\"text-align: right;\">\n",
       "      <th></th>\n",
       "      <th>Week</th>\n",
       "      <th>Year</th>\n",
       "      <th>Site_ID</th>\n",
       "      <th>Article_ID</th>\n",
       "      <th>Forecast</th>\n",
       "      <th>Min Stock</th>\n",
       "      <th>Article_Desc</th>\n",
       "      <th>Mainsector_ID</th>\n",
       "      <th>Mainsector_Desc</th>\n",
       "      <th>Warengruppe_ID</th>\n",
       "      <th>Warengruppe_Desc</th>\n",
       "      <th>Vendor_ID</th>\n",
       "      <th>Vendor_Name</th>\n",
       "    </tr>\n",
       "  </thead>\n",
       "  <tbody>\n",
       "    <tr>\n",
       "      <th>0</th>\n",
       "      <td>9</td>\n",
       "      <td>2020</td>\n",
       "      <td>107</td>\n",
       "      <td>1171625400</td>\n",
       "      <td>47.25</td>\n",
       "      <td>95.0</td>\n",
       "      <td>BECHER HOBSTAR 35CL</td>\n",
       "      <td>45</td>\n",
       "      <td>Home/Lifestyle</td>\n",
       "      <td>730</td>\n",
       "      <td>Tisch Hartwaren</td>\n",
       "      <td>147322</td>\n",
       "      <td>Kreavita Home Design AG</td>\n",
       "    </tr>\n",
       "    <tr>\n",
       "      <th>1</th>\n",
       "      <td>9</td>\n",
       "      <td>2020</td>\n",
       "      <td>101</td>\n",
       "      <td>1261293900</td>\n",
       "      <td>44.50</td>\n",
       "      <td>89.0</td>\n",
       "      <td>GIN TONIC MIXOLOGY 80CL</td>\n",
       "      <td>45</td>\n",
       "      <td>Home/Lifestyle</td>\n",
       "      <td>730</td>\n",
       "      <td>Tisch Hartwaren</td>\n",
       "      <td>147322</td>\n",
       "      <td>Kreavita Home Design AG</td>\n",
       "    </tr>\n",
       "    <tr>\n",
       "      <th>2</th>\n",
       "      <td>9</td>\n",
       "      <td>2020</td>\n",
       "      <td>116</td>\n",
       "      <td>25587914</td>\n",
       "      <td>35.00</td>\n",
       "      <td>70.0</td>\n",
       "      <td>DREAMFLOR SAND 30X30</td>\n",
       "      <td>45</td>\n",
       "      <td>Home/Lifestyle</td>\n",
       "      <td>630</td>\n",
       "      <td>Bad-Textilien</td>\n",
       "      <td>114207</td>\n",
       "      <td>Weseta Textil AG</td>\n",
       "    </tr>\n",
       "    <tr>\n",
       "      <th>3</th>\n",
       "      <td>9</td>\n",
       "      <td>2020</td>\n",
       "      <td>101</td>\n",
       "      <td>1280659300</td>\n",
       "      <td>27.25</td>\n",
       "      <td>55.0</td>\n",
       "      <td>STABKERZE SCHWARZ 22X240MM</td>\n",
       "      <td>45</td>\n",
       "      <td>Home/Lifestyle</td>\n",
       "      <td>988</td>\n",
       "      <td>Wohnboutique</td>\n",
       "      <td>942081</td>\n",
       "      <td>Herzog Kerzen AG</td>\n",
       "    </tr>\n",
       "    <tr>\n",
       "      <th>4</th>\n",
       "      <td>9</td>\n",
       "      <td>2020</td>\n",
       "      <td>101</td>\n",
       "      <td>23605368</td>\n",
       "      <td>24.50</td>\n",
       "      <td>49.0</td>\n",
       "      <td>BASIC OTA KAFFEE</td>\n",
       "      <td>45</td>\n",
       "      <td>Home/Lifestyle</td>\n",
       "      <td>730</td>\n",
       "      <td>Tisch Hartwaren</td>\n",
       "      <td>331934</td>\n",
       "      <td>Porzellanmanufaktur Kahla/Thüringen</td>\n",
       "    </tr>\n",
       "  </tbody>\n",
       "</table>\n",
       "</div>"
      ],
      "text/plain": [
       "   Week  Year  Site_ID  Article_ID  Forecast  Min Stock  \\\n",
       "0     9  2020      107  1171625400     47.25       95.0   \n",
       "1     9  2020      101  1261293900     44.50       89.0   \n",
       "2     9  2020      116    25587914     35.00       70.0   \n",
       "3     9  2020      101  1280659300     27.25       55.0   \n",
       "4     9  2020      101    23605368     24.50       49.0   \n",
       "\n",
       "                 Article_Desc  Mainsector_ID Mainsector_Desc  Warengruppe_ID  \\\n",
       "0         BECHER HOBSTAR 35CL             45  Home/Lifestyle             730   \n",
       "1     GIN TONIC MIXOLOGY 80CL             45  Home/Lifestyle             730   \n",
       "2        DREAMFLOR SAND 30X30             45  Home/Lifestyle             630   \n",
       "3  STABKERZE SCHWARZ 22X240MM             45  Home/Lifestyle             988   \n",
       "4            BASIC OTA KAFFEE             45  Home/Lifestyle             730   \n",
       "\n",
       "  Warengruppe_Desc  Vendor_ID                          Vendor_Name  \n",
       "0  Tisch Hartwaren     147322              Kreavita Home Design AG  \n",
       "1  Tisch Hartwaren     147322              Kreavita Home Design AG  \n",
       "2    Bad-Textilien     114207                     Weseta Textil AG  \n",
       "3     Wohnboutique     942081                     Herzog Kerzen AG  \n",
       "4  Tisch Hartwaren     331934  Porzellanmanufaktur Kahla/Thüringen  "
      ]
     },
     "execution_count": 3,
     "metadata": {},
     "output_type": "execute_result"
    }
   ],
   "source": [
    "forecasts.head(5)"
   ]
  },
  {
   "cell_type": "markdown",
   "metadata": {},
   "source": [
    "# Optimization"
   ]
  },
  {
   "cell_type": "markdown",
   "metadata": {},
   "source": [
    "Optimization is based on section \"Mixed Integer Nonlinear Programming\" in https://gekko.readthedocs.io/en/latest/examples.html"
   ]
  },
  {
   "cell_type": "code",
   "execution_count": 4,
   "metadata": {
    "ExecuteTime": {
     "end_time": "2021-04-23T10:28:41.592489Z",
     "start_time": "2021-04-23T10:28:41.577492Z"
    }
   },
   "outputs": [],
   "source": [
    "supply = 16 # Verfügbare Menge"
   ]
  },
  {
   "cell_type": "code",
   "execution_count": 5,
   "metadata": {
    "ExecuteTime": {
     "end_time": "2021-04-23T10:28:41.623409Z",
     "start_time": "2021-04-23T10:28:41.593451Z"
    }
   },
   "outputs": [
    {
     "name": "stdout",
     "output_type": "stream",
     "text": [
      "1171625400\n"
     ]
    }
   ],
   "source": [
    "\n",
    "\n",
    "for article in forecasts.Article_ID.drop_duplicates():\n",
    "    print(article)\n",
    "    \n",
    "    df = forecasts.loc[forecasts.Article_ID == article]\n",
    "    \n",
    "    demand = df['Min Stock'].sum()\n",
    "    \n",
    "    if supply >= demand:\n",
    "        print('supply > demand')\n",
    "        #continue\n",
    "        break\n",
    "    \n",
    "    break"
   ]
  },
  {
   "cell_type": "code",
   "execution_count": 6,
   "metadata": {
    "ExecuteTime": {
     "end_time": "2021-04-23T10:28:41.638371Z",
     "start_time": "2021-04-23T10:28:41.624374Z"
    }
   },
   "outputs": [],
   "source": [
    "c1 = 10 # Soll-Lager Filiale 1\n",
    "c2 = 20 # Soll-Lager Filiale 2\n",
    "#-> Sum(Soll-Lager) > Verfügbare Menge"
   ]
  },
  {
   "cell_type": "code",
   "execution_count": 7,
   "metadata": {
    "ExecuteTime": {
     "end_time": "2021-04-23T10:28:41.653606Z",
     "start_time": "2021-04-23T10:28:41.640333Z"
    }
   },
   "outputs": [],
   "source": [
    "m = GEKKO(remote=False) \n",
    "m.options.SOLVER=1\n"
   ]
  },
  {
   "cell_type": "code",
   "execution_count": 8,
   "metadata": {
    "ExecuteTime": {
     "end_time": "2021-04-23T10:28:41.668470Z",
     "start_time": "2021-04-23T10:28:41.655487Z"
    }
   },
   "outputs": [],
   "source": [
    "m.solver_options = ['minlp_maximum_iterations 500', \\\n",
    "                    # minlp iterations with integer solution\n",
    "                    'minlp_max_iter_with_int_sol 10', \\\n",
    "                    # treat minlp as nlp\n",
    "                    'minlp_as_nlp 0', \\\n",
    "                    # nlp sub-problem max iterations\n",
    "                    'nlp_maximum_iterations 50', \\\n",
    "                    # 1 = depth first, 2 = breadth first\n",
    "                    'minlp_branch_method 1', \\\n",
    "                    # maximum deviation from whole number\n",
    "                    'minlp_integer_tol 0.05', \\\n",
    "                    # covergence tolerance\n",
    "                    'minlp_gap_tol 0.01']"
   ]
  },
  {
   "cell_type": "code",
   "execution_count": 9,
   "metadata": {
    "ExecuteTime": {
     "end_time": "2021-04-23T10:28:41.684438Z",
     "start_time": "2021-04-23T10:28:41.669427Z"
    }
   },
   "outputs": [],
   "source": [
    "\n",
    "x1 = m.Var(lb=1,ub=c1, integer=True)\n",
    "x2 = m.Var(lb=1,ub=c2,integer=True)"
   ]
  },
  {
   "cell_type": "code",
   "execution_count": 10,
   "metadata": {
    "ExecuteTime": {
     "end_time": "2021-04-23T10:28:41.700376Z",
     "start_time": "2021-04-23T10:28:41.685388Z"
    }
   },
   "outputs": [
    {
     "data": {
      "text/plain": [
       "<gekko.gekko.EquationObj at 0x249050a1fc8>"
      ]
     },
     "execution_count": 10,
     "metadata": {},
     "output_type": "execute_result"
    }
   ],
   "source": [
    "m.Equation(x1 + x2 <= supply)"
   ]
  },
  {
   "cell_type": "code",
   "execution_count": 11,
   "metadata": {
    "ExecuteTime": {
     "end_time": "2021-04-23T10:28:41.715601Z",
     "start_time": "2021-04-23T10:28:41.701348Z"
    }
   },
   "outputs": [],
   "source": [
    "m.Obj((c1/x1) + (c2/x2))"
   ]
  },
  {
   "cell_type": "code",
   "execution_count": 12,
   "metadata": {
    "ExecuteTime": {
     "end_time": "2021-04-23T10:28:41.777622Z",
     "start_time": "2021-04-23T10:28:41.716599Z"
    }
   },
   "outputs": [],
   "source": [
    "m.solve(disp=False)"
   ]
  },
  {
   "cell_type": "code",
   "execution_count": 13,
   "metadata": {
    "ExecuteTime": {
     "end_time": "2021-04-23T10:28:41.793631Z",
     "start_time": "2021-04-23T10:28:41.778623Z"
    }
   },
   "outputs": [
    {
     "name": "stdout",
     "output_type": "stream",
     "text": [
      "x1: [7.0]\n",
      "x2: [9.0]\n",
      "Objective: 3.6507936508\n"
     ]
    }
   ],
   "source": [
    "print('x1: ' + str(x1.value))\n",
    "print('x2: ' + str(x2.value))\n",
    "print('Objective: ' + str(m.options.objfcnval))\n",
    "\n",
    "#-> Anstatt wie gewünscht c1=10, c2=20 erhalten die Filialen 7 resp. 9 Artikel"
   ]
  }
 ],
 "metadata": {
  "kernelspec": {
   "display_name": "Python 3",
   "language": "python",
   "name": "python3"
  },
  "language_info": {
   "codemirror_mode": {
    "name": "ipython",
    "version": 3
   },
   "file_extension": ".py",
   "mimetype": "text/x-python",
   "name": "python",
   "nbconvert_exporter": "python",
   "pygments_lexer": "ipython3",
   "version": "3.7.6"
  }
 },
 "nbformat": 4,
 "nbformat_minor": 4
}
