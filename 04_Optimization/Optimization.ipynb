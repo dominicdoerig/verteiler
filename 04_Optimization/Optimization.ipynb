{
 "cells": [
  {
   "cell_type": "markdown",
   "metadata": {},
   "source": [
    "# Import Packages"
   ]
  },
  {
   "cell_type": "code",
   "execution_count": 1,
   "metadata": {
    "ExecuteTime": {
     "end_time": "2021-04-25T21:28:41.817995Z",
     "start_time": "2021-04-25T21:28:39.942404Z"
    }
   },
   "outputs": [],
   "source": [
    "import sys\n",
    "sys.path.append('..')\n",
    "\n",
    "import utils\n",
    "import pandas as pd\n",
    "import numpy as np\n",
    "\n",
    "from gekko import GEKKO"
   ]
  },
  {
   "cell_type": "markdown",
   "metadata": {},
   "source": [
    "# Import Data\n",
    "\n"
   ]
  },
  {
   "cell_type": "code",
   "execution_count": 2,
   "metadata": {
    "ExecuteTime": {
     "end_time": "2021-04-25T21:28:41.880940Z",
     "start_time": "2021-04-25T21:28:41.820910Z"
    },
    "scrolled": true
   },
   "outputs": [
    {
     "data": {
      "text/html": [
       "<div>\n",
       "<style scoped>\n",
       "    .dataframe tbody tr th:only-of-type {\n",
       "        vertical-align: middle;\n",
       "    }\n",
       "\n",
       "    .dataframe tbody tr th {\n",
       "        vertical-align: top;\n",
       "    }\n",
       "\n",
       "    .dataframe thead th {\n",
       "        text-align: right;\n",
       "    }\n",
       "</style>\n",
       "<table border=\"1\" class=\"dataframe\">\n",
       "  <thead>\n",
       "    <tr style=\"text-align: right;\">\n",
       "      <th></th>\n",
       "      <th>Week</th>\n",
       "      <th>Year</th>\n",
       "      <th>Site_ID</th>\n",
       "      <th>SKU</th>\n",
       "      <th>Prediction</th>\n",
       "      <th>Turnover</th>\n",
       "    </tr>\n",
       "  </thead>\n",
       "  <tbody>\n",
       "    <tr>\n",
       "      <th>0</th>\n",
       "      <td>47</td>\n",
       "      <td>2020</td>\n",
       "      <td>101</td>\n",
       "      <td>1014557</td>\n",
       "      <td>30.868194</td>\n",
       "      <td>29.9</td>\n",
       "    </tr>\n",
       "    <tr>\n",
       "      <th>1</th>\n",
       "      <td>47</td>\n",
       "      <td>2020</td>\n",
       "      <td>101</td>\n",
       "      <td>1014824</td>\n",
       "      <td>24.796745</td>\n",
       "      <td>0.0</td>\n",
       "    </tr>\n",
       "    <tr>\n",
       "      <th>2</th>\n",
       "      <td>47</td>\n",
       "      <td>2020</td>\n",
       "      <td>101</td>\n",
       "      <td>1016525</td>\n",
       "      <td>56.998503</td>\n",
       "      <td>0.0</td>\n",
       "    </tr>\n",
       "    <tr>\n",
       "      <th>3</th>\n",
       "      <td>47</td>\n",
       "      <td>2020</td>\n",
       "      <td>107</td>\n",
       "      <td>1016525</td>\n",
       "      <td>53.501745</td>\n",
       "      <td>0.0</td>\n",
       "    </tr>\n",
       "    <tr>\n",
       "      <th>4</th>\n",
       "      <td>47</td>\n",
       "      <td>2020</td>\n",
       "      <td>590</td>\n",
       "      <td>1016525</td>\n",
       "      <td>55.250172</td>\n",
       "      <td>0.0</td>\n",
       "    </tr>\n",
       "    <tr>\n",
       "      <th>...</th>\n",
       "      <td>...</td>\n",
       "      <td>...</td>\n",
       "      <td>...</td>\n",
       "      <td>...</td>\n",
       "      <td>...</td>\n",
       "      <td>...</td>\n",
       "    </tr>\n",
       "    <tr>\n",
       "      <th>59869</th>\n",
       "      <td>47</td>\n",
       "      <td>2020</td>\n",
       "      <td>102</td>\n",
       "      <td>1281324700</td>\n",
       "      <td>0.767912</td>\n",
       "      <td>0.0</td>\n",
       "    </tr>\n",
       "    <tr>\n",
       "      <th>59870</th>\n",
       "      <td>47</td>\n",
       "      <td>2020</td>\n",
       "      <td>106</td>\n",
       "      <td>1281324700</td>\n",
       "      <td>0.767912</td>\n",
       "      <td>0.0</td>\n",
       "    </tr>\n",
       "    <tr>\n",
       "      <th>59871</th>\n",
       "      <td>47</td>\n",
       "      <td>2020</td>\n",
       "      <td>115</td>\n",
       "      <td>1281324700</td>\n",
       "      <td>0.767912</td>\n",
       "      <td>0.0</td>\n",
       "    </tr>\n",
       "    <tr>\n",
       "      <th>59872</th>\n",
       "      <td>47</td>\n",
       "      <td>2020</td>\n",
       "      <td>117</td>\n",
       "      <td>1281324700</td>\n",
       "      <td>0.767912</td>\n",
       "      <td>0.0</td>\n",
       "    </tr>\n",
       "    <tr>\n",
       "      <th>59873</th>\n",
       "      <td>47</td>\n",
       "      <td>2020</td>\n",
       "      <td>590</td>\n",
       "      <td>1281324700</td>\n",
       "      <td>0.767912</td>\n",
       "      <td>0.0</td>\n",
       "    </tr>\n",
       "  </tbody>\n",
       "</table>\n",
       "<p>59874 rows × 6 columns</p>\n",
       "</div>"
      ],
      "text/plain": [
       "       Week  Year  Site_ID         SKU  Prediction  Turnover\n",
       "0        47  2020      101     1014557   30.868194      29.9\n",
       "1        47  2020      101     1014824   24.796745       0.0\n",
       "2        47  2020      101     1016525   56.998503       0.0\n",
       "3        47  2020      107     1016525   53.501745       0.0\n",
       "4        47  2020      590     1016525   55.250172       0.0\n",
       "...     ...   ...      ...         ...         ...       ...\n",
       "59869    47  2020      102  1281324700    0.767912       0.0\n",
       "59870    47  2020      106  1281324700    0.767912       0.0\n",
       "59871    47  2020      115  1281324700    0.767912       0.0\n",
       "59872    47  2020      117  1281324700    0.767912       0.0\n",
       "59873    47  2020      590  1281324700    0.767912       0.0\n",
       "\n",
       "[59874 rows x 6 columns]"
      ]
     },
     "execution_count": 2,
     "metadata": {},
     "output_type": "execute_result"
    }
   ],
   "source": [
    "# Import Forecasts from File System\n",
    "forecasts = pd.read_csv(utils.get_project_root()+'/03_Forecasting_LightGBM/forecasts/forecasts.csv')\n",
    "forecasts"
   ]
  },
  {
   "cell_type": "markdown",
   "metadata": {},
   "source": [
    "# Optimization (Example based on Article 1016525)"
   ]
  },
  {
   "cell_type": "markdown",
   "metadata": {},
   "source": [
    "Optimization is based on section \"Mixed Integer Nonlinear Programming\" in https://gekko.readthedocs.io/en/latest/examples.html"
   ]
  },
  {
   "cell_type": "code",
   "execution_count": 3,
   "metadata": {
    "ExecuteTime": {
     "end_time": "2021-04-25T21:28:41.896925Z",
     "start_time": "2021-04-25T21:28:41.881907Z"
    }
   },
   "outputs": [],
   "source": [
    "sku = 1016525\n",
    "supply = 300 # stock at distribution center"
   ]
  },
  {
   "cell_type": "code",
   "execution_count": 4,
   "metadata": {
    "ExecuteTime": {
     "end_time": "2021-04-25T21:28:41.912855Z",
     "start_time": "2021-04-25T21:28:41.897863Z"
    }
   },
   "outputs": [
    {
     "data": {
      "text/html": [
       "<div>\n",
       "<style scoped>\n",
       "    .dataframe tbody tr th:only-of-type {\n",
       "        vertical-align: middle;\n",
       "    }\n",
       "\n",
       "    .dataframe tbody tr th {\n",
       "        vertical-align: top;\n",
       "    }\n",
       "\n",
       "    .dataframe thead th {\n",
       "        text-align: right;\n",
       "    }\n",
       "</style>\n",
       "<table border=\"1\" class=\"dataframe\">\n",
       "  <thead>\n",
       "    <tr style=\"text-align: right;\">\n",
       "      <th></th>\n",
       "      <th>Week</th>\n",
       "      <th>Year</th>\n",
       "      <th>Site_ID</th>\n",
       "      <th>SKU</th>\n",
       "      <th>Prediction</th>\n",
       "      <th>Turnover</th>\n",
       "    </tr>\n",
       "  </thead>\n",
       "  <tbody>\n",
       "    <tr>\n",
       "      <th>2</th>\n",
       "      <td>47</td>\n",
       "      <td>2020</td>\n",
       "      <td>101</td>\n",
       "      <td>1016525</td>\n",
       "      <td>56.998503</td>\n",
       "      <td>0.0</td>\n",
       "    </tr>\n",
       "    <tr>\n",
       "      <th>3</th>\n",
       "      <td>47</td>\n",
       "      <td>2020</td>\n",
       "      <td>107</td>\n",
       "      <td>1016525</td>\n",
       "      <td>53.501745</td>\n",
       "      <td>0.0</td>\n",
       "    </tr>\n",
       "    <tr>\n",
       "      <th>4</th>\n",
       "      <td>47</td>\n",
       "      <td>2020</td>\n",
       "      <td>590</td>\n",
       "      <td>1016525</td>\n",
       "      <td>55.250172</td>\n",
       "      <td>0.0</td>\n",
       "    </tr>\n",
       "    <tr>\n",
       "      <th>5429</th>\n",
       "      <td>47</td>\n",
       "      <td>2020</td>\n",
       "      <td>102</td>\n",
       "      <td>1016525</td>\n",
       "      <td>52.571911</td>\n",
       "      <td>0.0</td>\n",
       "    </tr>\n",
       "    <tr>\n",
       "      <th>5430</th>\n",
       "      <td>47</td>\n",
       "      <td>2020</td>\n",
       "      <td>103</td>\n",
       "      <td>1016525</td>\n",
       "      <td>34.659034</td>\n",
       "      <td>0.0</td>\n",
       "    </tr>\n",
       "    <tr>\n",
       "      <th>5431</th>\n",
       "      <td>47</td>\n",
       "      <td>2020</td>\n",
       "      <td>106</td>\n",
       "      <td>1016525</td>\n",
       "      <td>47.174494</td>\n",
       "      <td>0.0</td>\n",
       "    </tr>\n",
       "    <tr>\n",
       "      <th>5432</th>\n",
       "      <td>47</td>\n",
       "      <td>2020</td>\n",
       "      <td>115</td>\n",
       "      <td>1016525</td>\n",
       "      <td>35.900833</td>\n",
       "      <td>0.0</td>\n",
       "    </tr>\n",
       "    <tr>\n",
       "      <th>5433</th>\n",
       "      <td>47</td>\n",
       "      <td>2020</td>\n",
       "      <td>116</td>\n",
       "      <td>1016525</td>\n",
       "      <td>45.830675</td>\n",
       "      <td>0.0</td>\n",
       "    </tr>\n",
       "    <tr>\n",
       "      <th>26946</th>\n",
       "      <td>47</td>\n",
       "      <td>2020</td>\n",
       "      <td>117</td>\n",
       "      <td>1016525</td>\n",
       "      <td>8.075953</td>\n",
       "      <td>0.0</td>\n",
       "    </tr>\n",
       "  </tbody>\n",
       "</table>\n",
       "</div>"
      ],
      "text/plain": [
       "       Week  Year  Site_ID      SKU  Prediction  Turnover\n",
       "2        47  2020      101  1016525   56.998503       0.0\n",
       "3        47  2020      107  1016525   53.501745       0.0\n",
       "4        47  2020      590  1016525   55.250172       0.0\n",
       "5429     47  2020      102  1016525   52.571911       0.0\n",
       "5430     47  2020      103  1016525   34.659034       0.0\n",
       "5431     47  2020      106  1016525   47.174494       0.0\n",
       "5432     47  2020      115  1016525   35.900833       0.0\n",
       "5433     47  2020      116  1016525   45.830675       0.0\n",
       "26946    47  2020      117  1016525    8.075953       0.0"
      ]
     },
     "execution_count": 4,
     "metadata": {},
     "output_type": "execute_result"
    }
   ],
   "source": [
    "forecasts['Prediction'] = forecasts['Prediction']\n",
    "forecasts.loc[forecasts.SKU == sku]"
   ]
  },
  {
   "cell_type": "code",
   "execution_count": 5,
   "metadata": {
    "ExecuteTime": {
     "end_time": "2021-04-25T21:28:41.990793Z",
     "start_time": "2021-04-25T21:28:41.913822Z"
    }
   },
   "outputs": [],
   "source": [
    "\n",
    "df = forecasts.loc[forecasts.SKU == sku]\n",
    "\n",
    "demand = df.Prediction.sum()\n",
    "\n",
    "if supply >= demand:\n",
    "    raise ValueError('supply > demand -> no optimization needed.')\n",
    "    \n",
    "\n",
    "c_g101 = float(df.loc[df.Site_ID == 101]['Prediction'])\n",
    "c_g102 = float(df.loc[df.Site_ID == 102]['Prediction'])\n",
    "c_g103 = float(df.loc[df.Site_ID == 103]['Prediction'])\n",
    "c_g106 = float(df.loc[df.Site_ID == 106]['Prediction'])\n",
    "c_g107 = float(df.loc[df.Site_ID == 107]['Prediction'])\n",
    "c_g115 = float(df.loc[df.Site_ID == 115]['Prediction'])\n",
    "c_g116 = float(df.loc[df.Site_ID == 116]['Prediction'])\n",
    "c_g117 = float(df.loc[df.Site_ID == 117]['Prediction'])\n",
    "c_g590 = float(df.loc[df.Site_ID == 590]['Prediction'])\n",
    "\n",
    "\n",
    "m = GEKKO(remote=False) \n",
    "m.options.SOLVER=1\n",
    "m.solver_options = ['minlp_maximum_iterations 500', \\\n",
    "                # minlp iterations with integer solution\n",
    "                'minlp_max_iter_with_int_sol 10', \\\n",
    "                # treat minlp as nlp\n",
    "                'minlp_as_nlp 0', \\\n",
    "                # nlp sub-problem max iterations\n",
    "                'nlp_maximum_iterations 50', \\\n",
    "                # 1 = depth first, 2 = breadth first\n",
    "                'minlp_branch_method 1', \\\n",
    "                # maximum deviation from whole number\n",
    "                'minlp_integer_tol 0.05', \\\n",
    "                # covergence tolerance\n",
    "                'minlp_gap_tol 0.00001']\n",
    "\n",
    "x_g101 = m.Var(lb=1,ub=c_g101, integer=True)\n",
    "x_g102 = m.Var(lb=1,ub=c_g102, integer=True)\n",
    "x_g103 = m.Var(lb=1,ub=c_g103, integer=True)\n",
    "x_g106 = m.Var(lb=1,ub=c_g106, integer=True)\n",
    "x_g107 = m.Var(lb=1,ub=c_g107, integer=True)\n",
    "x_g115 = m.Var(lb=1,ub=c_g115, integer=True)\n",
    "x_g116 = m.Var(lb=1,ub=c_g116, integer=True)\n",
    "x_g117 = m.Var(lb=1,ub=c_g117, integer=True)\n",
    "x_g590 = m.Var(lb=1,ub=c_g590, integer=True)\n",
    "\n",
    "m.Equation(x_g101 + x_g102 + x_g103 + x_g106 + x_g107 + x_g115 + x_g116 + x_g117 + x_g590 == supply)\n",
    "\n",
    "m.Minimize((c_g101/x_g101) + (c_g102/x_g102) + (c_g103/x_g103)+ (c_g106/x_g106) + (c_g107/x_g107)+ \n",
    "      (c_g115/x_g115) + (c_g116/x_g116) + (c_g117/x_g117)+ (c_g590/x_g590))\n",
    "\n",
    "m.solve(disp=False)\n"
   ]
  },
  {
   "cell_type": "code",
   "execution_count": 7,
   "metadata": {
    "ExecuteTime": {
     "end_time": "2021-04-25T21:29:04.980305Z",
     "start_time": "2021-04-25T21:29:04.969309Z"
    }
   },
   "outputs": [
    {
     "name": "stdout",
     "output_type": "stream",
     "text": [
      "x_g101: [40.0]\n",
      "x_g102: [38.0]\n",
      "x_g103: [31.0]\n",
      "x_g106: [36.0]\n",
      "x_g107: [39.0]\n",
      "x_g115: [32.0]\n",
      "x_g116: [37.0]\n",
      "x_g117: [8.0]\n",
      "x_g590: [39.0]\n",
      "Objective: 11.395442669\n"
     ]
    }
   ],
   "source": [
    "print('x_g101: ' + str(x_g101.value))\n",
    "print('x_g102: ' + str(x_g102.value))\n",
    "print('x_g103: ' + str(x_g103.value))\n",
    "print('x_g106: ' + str(x_g106.value))\n",
    "print('x_g107: ' + str(x_g107.value))\n",
    "print('x_g115: ' + str(x_g115.value))\n",
    "print('x_g116: ' + str(x_g116.value))\n",
    "print('x_g117: ' + str(x_g117.value))\n",
    "print('x_g590: ' + str(x_g590.value))\n",
    "\n",
    "print('Objective: ' + str(m.options.objfcnval))"
   ]
  }
 ],
 "metadata": {
  "kernelspec": {
   "display_name": "Python 3",
   "language": "python",
   "name": "python3"
  },
  "language_info": {
   "codemirror_mode": {
    "name": "ipython",
    "version": 3
   },
   "file_extension": ".py",
   "mimetype": "text/x-python",
   "name": "python",
   "nbconvert_exporter": "python",
   "pygments_lexer": "ipython3",
   "version": "3.7.6"
  }
 },
 "nbformat": 4,
 "nbformat_minor": 4
}
