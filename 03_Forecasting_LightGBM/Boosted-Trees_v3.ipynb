{
 "cells": [
  {
   "cell_type": "markdown",
   "metadata": {},
   "source": [
    "# Import Packages"
   ]
  },
  {
   "cell_type": "code",
   "execution_count": 1,
   "metadata": {
    "ExecuteTime": {
     "end_time": "2021-03-13T08:25:45.188853Z",
     "start_time": "2021-03-13T08:25:43.456727Z"
    }
   },
   "outputs": [],
   "source": [
    "import sys\n",
    "sys.path.append('..')\n",
    "\n",
    "import matplotlib.pyplot as plt\n",
    "import utils\n",
    "import pandas as pd\n",
    "import numpy as np\n",
    "import math\n",
    "import random\n",
    "from isoweek import Week\n",
    "import lightgbm as lgb\n",
    "import pickle\n",
    "from sklearn.metrics import mean_squared_error"
   ]
  },
  {
   "cell_type": "markdown",
   "metadata": {},
   "source": [
    "# Settings"
   ]
  },
  {
   "cell_type": "code",
   "execution_count": 2,
   "metadata": {
    "ExecuteTime": {
     "end_time": "2021-03-13T08:25:45.419062Z",
     "start_time": "2021-03-13T08:25:45.410065Z"
    }
   },
   "outputs": [],
   "source": [
    "forecast_horizon = 1\n",
    "path_models = utils.get_project_root() + '/03_Forecasting_LightGBM/models/'\n",
    "target_variable = 'Turnover' # Either 'Turnover' or 'Sales_QTY'"
   ]
  },
  {
   "cell_type": "markdown",
   "metadata": {},
   "source": [
    "# Import Data"
   ]
  },
  {
   "cell_type": "code",
   "execution_count": 3,
   "metadata": {
    "ExecuteTime": {
     "end_time": "2021-03-13T08:32:02.734405Z",
     "start_time": "2021-03-13T08:25:47.065557Z"
    }
   },
   "outputs": [
    {
     "name": "stdout",
     "output_type": "stream",
     "text": [
      "********************\n",
      "Query Duration:  0:06:14.060947\n",
      "Mem. usage decreased to 1559.22 Mb (13.8% reduction)\n"
     ]
    }
   ],
   "source": [
    "query = 'SELECT * FROM `globus-datahub-dev.Verteiler_PoC.timeseries_sales_weekly` where Year >= 2015 and (Year <= 2019 OR (Year = 2020 AND Week <= 47))  order by sku, site_id, year, week'\n",
    "df_raw = utils.bq_to_dataframe(\n",
    "    query, verbose=True).pipe(utils.reduce_memory_usage)"
   ]
  },
  {
   "cell_type": "code",
   "execution_count": 4,
   "metadata": {
    "ExecuteTime": {
     "end_time": "2021-03-13T08:32:06.895264Z",
     "start_time": "2021-03-13T08:32:02.737385Z"
    }
   },
   "outputs": [
    {
     "data": {
      "text/html": [
       "<div>\n",
       "<style scoped>\n",
       "    .dataframe tbody tr th:only-of-type {\n",
       "        vertical-align: middle;\n",
       "    }\n",
       "\n",
       "    .dataframe tbody tr th {\n",
       "        vertical-align: top;\n",
       "    }\n",
       "\n",
       "    .dataframe thead th {\n",
       "        text-align: right;\n",
       "    }\n",
       "</style>\n",
       "<table border=\"1\" class=\"dataframe\">\n",
       "  <thead>\n",
       "    <tr style=\"text-align: right;\">\n",
       "      <th></th>\n",
       "      <th>Week</th>\n",
       "      <th>Year</th>\n",
       "      <th>Date</th>\n",
       "      <th>Site_ID</th>\n",
       "      <th>SKU</th>\n",
       "      <th>Sales_QTY</th>\n",
       "      <th>Turnover</th>\n",
       "      <th>Season_Year</th>\n",
       "      <th>Vendor_ID</th>\n",
       "      <th>Vendor_Name</th>\n",
       "      <th>...</th>\n",
       "      <th>Warengruppe_ID</th>\n",
       "      <th>Warengruppe_Desc</th>\n",
       "      <th>Subclass_Desc</th>\n",
       "      <th>Class_Desc</th>\n",
       "      <th>Web_Article</th>\n",
       "      <th>Web_Article_From</th>\n",
       "      <th>Web_Article_To</th>\n",
       "      <th>CENSHARE_CAT_1</th>\n",
       "      <th>CENSHARE_CAT_2</th>\n",
       "      <th>CENSHARE_CAT_3</th>\n",
       "    </tr>\n",
       "  </thead>\n",
       "  <tbody>\n",
       "    <tr>\n",
       "      <th>0</th>\n",
       "      <td>1</td>\n",
       "      <td>2015</td>\n",
       "      <td>2015W1</td>\n",
       "      <td>101</td>\n",
       "      <td>1014557</td>\n",
       "      <td>5.0</td>\n",
       "      <td>129.500000</td>\n",
       "      <td>9999</td>\n",
       "      <td>0000126656</td>\n",
       "      <td>Schwarz Kitchen Selection SA</td>\n",
       "      <td>...</td>\n",
       "      <td>721</td>\n",
       "      <td>Küche</td>\n",
       "      <td>Zerkleinern</td>\n",
       "      <td>Kuechenhelfer</td>\n",
       "      <td>X</td>\n",
       "      <td>2015-01-28</td>\n",
       "      <td>9999-12-31</td>\n",
       "      <td>Kuche</td>\n",
       "      <td>Kuchenmesser</td>\n",
       "      <td>wiegemesser</td>\n",
       "    </tr>\n",
       "    <tr>\n",
       "      <th>1</th>\n",
       "      <td>2</td>\n",
       "      <td>2015</td>\n",
       "      <td>2015W2</td>\n",
       "      <td>101</td>\n",
       "      <td>1014557</td>\n",
       "      <td>2.0</td>\n",
       "      <td>51.799999</td>\n",
       "      <td>9999</td>\n",
       "      <td>0000126656</td>\n",
       "      <td>Schwarz Kitchen Selection SA</td>\n",
       "      <td>...</td>\n",
       "      <td>721</td>\n",
       "      <td>Küche</td>\n",
       "      <td>Zerkleinern</td>\n",
       "      <td>Kuechenhelfer</td>\n",
       "      <td>X</td>\n",
       "      <td>2015-01-28</td>\n",
       "      <td>9999-12-31</td>\n",
       "      <td>Kuche</td>\n",
       "      <td>Kuchenmesser</td>\n",
       "      <td>wiegemesser</td>\n",
       "    </tr>\n",
       "    <tr>\n",
       "      <th>2</th>\n",
       "      <td>3</td>\n",
       "      <td>2015</td>\n",
       "      <td>2015W3</td>\n",
       "      <td>101</td>\n",
       "      <td>1014557</td>\n",
       "      <td>0.0</td>\n",
       "      <td>0.000000</td>\n",
       "      <td>9999</td>\n",
       "      <td>0000126656</td>\n",
       "      <td>Schwarz Kitchen Selection SA</td>\n",
       "      <td>...</td>\n",
       "      <td>721</td>\n",
       "      <td>Küche</td>\n",
       "      <td>Zerkleinern</td>\n",
       "      <td>Kuechenhelfer</td>\n",
       "      <td>X</td>\n",
       "      <td>2015-01-28</td>\n",
       "      <td>9999-12-31</td>\n",
       "      <td>Kuche</td>\n",
       "      <td>Kuchenmesser</td>\n",
       "      <td>wiegemesser</td>\n",
       "    </tr>\n",
       "    <tr>\n",
       "      <th>3</th>\n",
       "      <td>4</td>\n",
       "      <td>2015</td>\n",
       "      <td>2015W4</td>\n",
       "      <td>101</td>\n",
       "      <td>1014557</td>\n",
       "      <td>1.0</td>\n",
       "      <td>25.900000</td>\n",
       "      <td>9999</td>\n",
       "      <td>0000126656</td>\n",
       "      <td>Schwarz Kitchen Selection SA</td>\n",
       "      <td>...</td>\n",
       "      <td>721</td>\n",
       "      <td>Küche</td>\n",
       "      <td>Zerkleinern</td>\n",
       "      <td>Kuechenhelfer</td>\n",
       "      <td>X</td>\n",
       "      <td>2015-01-28</td>\n",
       "      <td>9999-12-31</td>\n",
       "      <td>Kuche</td>\n",
       "      <td>Kuchenmesser</td>\n",
       "      <td>wiegemesser</td>\n",
       "    </tr>\n",
       "    <tr>\n",
       "      <th>4</th>\n",
       "      <td>5</td>\n",
       "      <td>2015</td>\n",
       "      <td>2015W5</td>\n",
       "      <td>101</td>\n",
       "      <td>1014557</td>\n",
       "      <td>0.0</td>\n",
       "      <td>0.000000</td>\n",
       "      <td>9999</td>\n",
       "      <td>0000126656</td>\n",
       "      <td>Schwarz Kitchen Selection SA</td>\n",
       "      <td>...</td>\n",
       "      <td>721</td>\n",
       "      <td>Küche</td>\n",
       "      <td>Zerkleinern</td>\n",
       "      <td>Kuechenhelfer</td>\n",
       "      <td>X</td>\n",
       "      <td>2015-01-28</td>\n",
       "      <td>9999-12-31</td>\n",
       "      <td>Kuche</td>\n",
       "      <td>Kuchenmesser</td>\n",
       "      <td>wiegemesser</td>\n",
       "    </tr>\n",
       "    <tr>\n",
       "      <th>...</th>\n",
       "      <td>...</td>\n",
       "      <td>...</td>\n",
       "      <td>...</td>\n",
       "      <td>...</td>\n",
       "      <td>...</td>\n",
       "      <td>...</td>\n",
       "      <td>...</td>\n",
       "      <td>...</td>\n",
       "      <td>...</td>\n",
       "      <td>...</td>\n",
       "      <td>...</td>\n",
       "      <td>...</td>\n",
       "      <td>...</td>\n",
       "      <td>...</td>\n",
       "      <td>...</td>\n",
       "      <td>...</td>\n",
       "      <td>...</td>\n",
       "      <td>...</td>\n",
       "      <td>...</td>\n",
       "      <td>...</td>\n",
       "      <td>...</td>\n",
       "    </tr>\n",
       "    <tr>\n",
       "      <th>8471312</th>\n",
       "      <td>47</td>\n",
       "      <td>2020</td>\n",
       "      <td>2020W47</td>\n",
       "      <td>101</td>\n",
       "      <td>1289328500</td>\n",
       "      <td>4.0</td>\n",
       "      <td>56.090000</td>\n",
       "      <td>9999</td>\n",
       "      <td>0000948934</td>\n",
       "      <td>HAY ApS</td>\n",
       "      <td>...</td>\n",
       "      <td>988</td>\n",
       "      <td>Wohnboutique</td>\n",
       "      <td>Wohnaccessoires</td>\n",
       "      <td>HAY</td>\n",
       "      <td>X</td>\n",
       "      <td>2021-02-25</td>\n",
       "      <td>9999-12-31</td>\n",
       "      <td>Ordnung &amp; Aufbewahrung</td>\n",
       "      <td>Korbe &amp; Boxen</td>\n",
       "      <td>korbe</td>\n",
       "    </tr>\n",
       "    <tr>\n",
       "      <th>8471313</th>\n",
       "      <td>47</td>\n",
       "      <td>2020</td>\n",
       "      <td>2020W47</td>\n",
       "      <td>101</td>\n",
       "      <td>1289328600</td>\n",
       "      <td>2.0</td>\n",
       "      <td>29.799999</td>\n",
       "      <td>9999</td>\n",
       "      <td>0000948934</td>\n",
       "      <td>HAY ApS</td>\n",
       "      <td>...</td>\n",
       "      <td>988</td>\n",
       "      <td>Wohnboutique</td>\n",
       "      <td>Wohnaccessoires</td>\n",
       "      <td>HAY</td>\n",
       "      <td>X</td>\n",
       "      <td>2021-02-25</td>\n",
       "      <td>9999-12-31</td>\n",
       "      <td>Ordnung &amp; Aufbewahrung</td>\n",
       "      <td>Korbe &amp; Boxen</td>\n",
       "      <td>korbe</td>\n",
       "    </tr>\n",
       "    <tr>\n",
       "      <th>8471314</th>\n",
       "      <td>47</td>\n",
       "      <td>2020</td>\n",
       "      <td>2020W47</td>\n",
       "      <td>101</td>\n",
       "      <td>1289328700</td>\n",
       "      <td>5.0</td>\n",
       "      <td>32.869999</td>\n",
       "      <td>9999</td>\n",
       "      <td>0000948934</td>\n",
       "      <td>HAY ApS</td>\n",
       "      <td>...</td>\n",
       "      <td>988</td>\n",
       "      <td>Wohnboutique</td>\n",
       "      <td>Wohnaccessoires</td>\n",
       "      <td>HAY</td>\n",
       "      <td>X</td>\n",
       "      <td>2021-02-25</td>\n",
       "      <td>9999-12-31</td>\n",
       "      <td>Ordnung &amp; Aufbewahrung</td>\n",
       "      <td>Korbe &amp; Boxen</td>\n",
       "      <td>korbe</td>\n",
       "    </tr>\n",
       "    <tr>\n",
       "      <th>8471315</th>\n",
       "      <td>47</td>\n",
       "      <td>2020</td>\n",
       "      <td>2020W47</td>\n",
       "      <td>101</td>\n",
       "      <td>1289328800</td>\n",
       "      <td>4.0</td>\n",
       "      <td>27.600000</td>\n",
       "      <td>9999</td>\n",
       "      <td>0000948934</td>\n",
       "      <td>HAY ApS</td>\n",
       "      <td>...</td>\n",
       "      <td>988</td>\n",
       "      <td>Wohnboutique</td>\n",
       "      <td>Wohnaccessoires</td>\n",
       "      <td>HAY</td>\n",
       "      <td>X</td>\n",
       "      <td>2021-02-25</td>\n",
       "      <td>9999-12-31</td>\n",
       "      <td>Ordnung &amp; Aufbewahrung</td>\n",
       "      <td>Korbe &amp; Boxen</td>\n",
       "      <td>korbe</td>\n",
       "    </tr>\n",
       "    <tr>\n",
       "      <th>8471316</th>\n",
       "      <td>47</td>\n",
       "      <td>2020</td>\n",
       "      <td>2020W47</td>\n",
       "      <td>107</td>\n",
       "      <td>1289328800</td>\n",
       "      <td>2.0</td>\n",
       "      <td>13.800000</td>\n",
       "      <td>9999</td>\n",
       "      <td>0000948934</td>\n",
       "      <td>HAY ApS</td>\n",
       "      <td>...</td>\n",
       "      <td>988</td>\n",
       "      <td>Wohnboutique</td>\n",
       "      <td>Wohnaccessoires</td>\n",
       "      <td>HAY</td>\n",
       "      <td>X</td>\n",
       "      <td>2021-02-25</td>\n",
       "      <td>9999-12-31</td>\n",
       "      <td>Ordnung &amp; Aufbewahrung</td>\n",
       "      <td>Korbe &amp; Boxen</td>\n",
       "      <td>korbe</td>\n",
       "    </tr>\n",
       "  </tbody>\n",
       "</table>\n",
       "<p>8471317 rows × 28 columns</p>\n",
       "</div>"
      ],
      "text/plain": [
       "         Week  Year     Date  Site_ID         SKU  Sales_QTY    Turnover  \\\n",
       "0           1  2015   2015W1      101     1014557        5.0  129.500000   \n",
       "1           2  2015   2015W2      101     1014557        2.0   51.799999   \n",
       "2           3  2015   2015W3      101     1014557        0.0    0.000000   \n",
       "3           4  2015   2015W4      101     1014557        1.0   25.900000   \n",
       "4           5  2015   2015W5      101     1014557        0.0    0.000000   \n",
       "...       ...   ...      ...      ...         ...        ...         ...   \n",
       "8471312    47  2020  2020W47      101  1289328500        4.0   56.090000   \n",
       "8471313    47  2020  2020W47      101  1289328600        2.0   29.799999   \n",
       "8471314    47  2020  2020W47      101  1289328700        5.0   32.869999   \n",
       "8471315    47  2020  2020W47      101  1289328800        4.0   27.600000   \n",
       "8471316    47  2020  2020W47      107  1289328800        2.0   13.800000   \n",
       "\n",
       "        Season_Year   Vendor_ID                   Vendor_Name  ...  \\\n",
       "0              9999  0000126656  Schwarz Kitchen Selection SA  ...   \n",
       "1              9999  0000126656  Schwarz Kitchen Selection SA  ...   \n",
       "2              9999  0000126656  Schwarz Kitchen Selection SA  ...   \n",
       "3              9999  0000126656  Schwarz Kitchen Selection SA  ...   \n",
       "4              9999  0000126656  Schwarz Kitchen Selection SA  ...   \n",
       "...             ...         ...                           ...  ...   \n",
       "8471312        9999  0000948934                       HAY ApS  ...   \n",
       "8471313        9999  0000948934                       HAY ApS  ...   \n",
       "8471314        9999  0000948934                       HAY ApS  ...   \n",
       "8471315        9999  0000948934                       HAY ApS  ...   \n",
       "8471316        9999  0000948934                       HAY ApS  ...   \n",
       "\n",
       "        Warengruppe_ID Warengruppe_Desc    Subclass_Desc     Class_Desc  \\\n",
       "0                  721            Küche      Zerkleinern  Kuechenhelfer   \n",
       "1                  721            Küche      Zerkleinern  Kuechenhelfer   \n",
       "2                  721            Küche      Zerkleinern  Kuechenhelfer   \n",
       "3                  721            Küche      Zerkleinern  Kuechenhelfer   \n",
       "4                  721            Küche      Zerkleinern  Kuechenhelfer   \n",
       "...                ...              ...              ...            ...   \n",
       "8471312            988     Wohnboutique  Wohnaccessoires            HAY   \n",
       "8471313            988     Wohnboutique  Wohnaccessoires            HAY   \n",
       "8471314            988     Wohnboutique  Wohnaccessoires            HAY   \n",
       "8471315            988     Wohnboutique  Wohnaccessoires            HAY   \n",
       "8471316            988     Wohnboutique  Wohnaccessoires            HAY   \n",
       "\n",
       "        Web_Article Web_Article_From Web_Article_To          CENSHARE_CAT_1  \\\n",
       "0                 X       2015-01-28     9999-12-31                   Kuche   \n",
       "1                 X       2015-01-28     9999-12-31                   Kuche   \n",
       "2                 X       2015-01-28     9999-12-31                   Kuche   \n",
       "3                 X       2015-01-28     9999-12-31                   Kuche   \n",
       "4                 X       2015-01-28     9999-12-31                   Kuche   \n",
       "...             ...              ...            ...                     ...   \n",
       "8471312           X       2021-02-25     9999-12-31  Ordnung & Aufbewahrung   \n",
       "8471313           X       2021-02-25     9999-12-31  Ordnung & Aufbewahrung   \n",
       "8471314           X       2021-02-25     9999-12-31  Ordnung & Aufbewahrung   \n",
       "8471315           X       2021-02-25     9999-12-31  Ordnung & Aufbewahrung   \n",
       "8471316           X       2021-02-25     9999-12-31  Ordnung & Aufbewahrung   \n",
       "\n",
       "        CENSHARE_CAT_2 CENSHARE_CAT_3  \n",
       "0         Kuchenmesser    wiegemesser  \n",
       "1         Kuchenmesser    wiegemesser  \n",
       "2         Kuchenmesser    wiegemesser  \n",
       "3         Kuchenmesser    wiegemesser  \n",
       "4         Kuchenmesser    wiegemesser  \n",
       "...                ...            ...  \n",
       "8471312  Korbe & Boxen          korbe  \n",
       "8471313  Korbe & Boxen          korbe  \n",
       "8471314  Korbe & Boxen          korbe  \n",
       "8471315  Korbe & Boxen          korbe  \n",
       "8471316  Korbe & Boxen          korbe  \n",
       "\n",
       "[8471317 rows x 28 columns]"
      ]
     },
     "execution_count": 4,
     "metadata": {},
     "output_type": "execute_result"
    }
   ],
   "source": [
    "df = df_raw.copy()\n",
    "df"
   ]
  },
  {
   "cell_type": "markdown",
   "metadata": {},
   "source": [
    "# Preprocess Data"
   ]
  },
  {
   "cell_type": "code",
   "execution_count": 5,
   "metadata": {
    "ExecuteTime": {
     "end_time": "2021-03-13T08:32:07.047889Z",
     "start_time": "2021-03-13T08:32:06.897260Z"
    }
   },
   "outputs": [],
   "source": [
    "# Get rid of negative Sales / Turnover\n",
    "df.loc[:, 'Sales_QTY'] = df.Sales_QTY.clip(lower=0)\n",
    "df.loc[:, 'Turnover'] = df.Turnover.clip(lower=0)"
   ]
  },
  {
   "cell_type": "markdown",
   "metadata": {},
   "source": [
    "# Classify Data"
   ]
  },
  {
   "cell_type": "markdown",
   "metadata": {},
   "source": [
    "Current Classification (A: Top-Seller, B: Medium-Seller, C: Low-Seller)\n",
    "\n",
    "A:\n",
    "At least one in 6 different weeks & mean sales per week greater 0.3\n",
    "\n",
    "B:\n",
    "At least one in 6 different weeks & mean sales per week greater 0.1\n",
    "\n",
    "C:\n",
    "All the rest\n"
   ]
  },
  {
   "cell_type": "code",
   "execution_count": 6,
   "metadata": {
    "ExecuteTime": {
     "end_time": "2021-03-13T09:15:29.617917Z",
     "start_time": "2021-03-13T08:32:07.048854Z"
    }
   },
   "outputs": [
    {
     "data": {
      "text/plain": [
       "Classification\n",
       "C                 35871\n",
       "B                 23052\n",
       "A                  5859\n",
       "dtype: int64"
      ]
     },
     "execution_count": 6,
     "metadata": {},
     "output_type": "execute_result"
    }
   ],
   "source": [
    "df['Classification'] = 'C'\n",
    "\n",
    "for i, g in df.groupby(['Site_ID', 'SKU']):\n",
    "    \n",
    "    if  (g.Sales_QTY[g.Sales_QTY > 0].count() > 5) & (g.Sales_QTY[g.Sales_QTY > 0].count() / g.Sales_QTY.count() > 0.4):\n",
    "        df.iloc[list(g.index), df.columns.get_loc('Classification')] = 'A'\n",
    "        \n",
    "    elif (g.Sales_QTY[g.Sales_QTY > 0].count() > 5) & (g.Sales_QTY[g.Sales_QTY > 0].count() / g.Sales_QTY.count() > 0.1):\n",
    "        df.iloc[list(g.index), df.columns.get_loc('Classification')] = 'B'\n",
    "\n",
    "        \n",
    "# Print summary: number of Time-Series per Classification\n",
    "df[['Site_ID', 'SKU', 'Classification']].drop_duplicates()[['Classification']].value_counts()"
   ]
  },
  {
   "cell_type": "code",
   "execution_count": 7,
   "metadata": {
    "ExecuteTime": {
     "end_time": "2021-03-13T09:16:37.901019Z",
     "start_time": "2021-03-13T09:15:29.619905Z"
    }
   },
   "outputs": [],
   "source": [
    "df.to_csv('data.csv', index=False)"
   ]
  },
  {
   "cell_type": "markdown",
   "metadata": {},
   "source": [
    "# Plot Time Series"
   ]
  },
  {
   "cell_type": "code",
   "execution_count": 8,
   "metadata": {
    "ExecuteTime": {
     "end_time": "2021-03-13T10:08:14.023748Z",
     "start_time": "2021-03-13T10:08:14.006793Z"
    }
   },
   "outputs": [],
   "source": [
    "n_series = 8"
   ]
  },
  {
   "cell_type": "code",
   "execution_count": 9,
   "metadata": {
    "ExecuteTime": {
     "end_time": "2021-03-13T10:08:16.581106Z",
     "start_time": "2021-03-13T10:08:16.570136Z"
    }
   },
   "outputs": [],
   "source": [
    "def plot_timeseries(samples: int, sales: pd.core.frame.DataFrame) -> None:\n",
    "    \"\"\"\n",
    "    Vizualize certain timeseries.\n",
    "    :param: samples: list of lists with Site ID - Article combinations to be vizualized.\n",
    "            Example: [['g590', 1282277826], ['g115', 1254150002], ['g102', 1264627019]]\n",
    "    :param: sales: DataFrame containing the sales data (columns SKU, Site_ID & Year_Week required)\n",
    "    :return None\n",
    "    \"\"\"\n",
    "    fig, axs = plt.subplots(math.ceil(n_series / 2), 2, figsize=(15, n_series * 1.5))\n",
    "    axs = axs.flatten()\n",
    "    ax_idx = 0\n",
    "\n",
    "    for site, article in samples:\n",
    "        df_article = sales.loc[df.SKU == article].loc[df.Site_ID == site].sort_values(by='Date').reset_index()\n",
    "\n",
    "        df_article.plot(x='Date',\n",
    "                     y='Sales_QTY',\n",
    "                     title= f'SKU: {article}, Site ID: {site}',\n",
    "                     ax=axs[ax_idx])\n",
    "        ax_idx += 1\n",
    "\n",
    "    plt.tight_layout()\n",
    "    plt.show()"
   ]
  },
  {
   "cell_type": "markdown",
   "metadata": {},
   "source": [
    "## Class A (Top Seller)"
   ]
  },
  {
   "cell_type": "code",
   "execution_count": 10,
   "metadata": {
    "ExecuteTime": {
     "end_time": "2021-03-13T10:08:20.794974Z",
     "start_time": "2021-03-13T10:08:19.060071Z"
    }
   },
   "outputs": [
    {
     "data": {
      "image/png": "[encoded data removed]",
      "text/plain": [
       "<Figure size 1080x864 with 8 Axes>"
      ]
     },
     "metadata": {
      "needs_background": "light"
     },
     "output_type": "display_data"
    }
   ],
   "source": [
    "classification = 'A'\n",
    "samples = df.loc[df.Classification == classification][['Site_ID','SKU']].drop_duplicates().sample(n=n_series, random_state=4).values.tolist()\n",
    "plot_timeseries(samples, df)"
   ]
  },
  {
   "cell_type": "markdown",
   "metadata": {},
   "source": [
    "## Class B (Medium Seller)"
   ]
  },
  {
   "cell_type": "code",
   "execution_count": 11,
   "metadata": {
    "ExecuteTime": {
     "end_time": "2021-03-13T10:08:29.358988Z",
     "start_time": "2021-03-13T10:08:26.969344Z"
    }
   },
   "outputs": [
    {
     "data": {
      "image/png": "[encoded data removed]",
      "text/plain": [
       "<Figure size 1080x864 with 8 Axes>"
      ]
     },
     "metadata": {
      "needs_background": "light"
     },
     "output_type": "display_data"
    }
   ],
   "source": [
    "classification = 'B'\n",
    "samples = df.loc[df.Classification == classification][['Site_ID','SKU']].drop_duplicates().sample(n=n_series, random_state=4).values.tolist()\n",
    "plot_timeseries(samples, df)"
   ]
  },
  {
   "cell_type": "markdown",
   "metadata": {},
   "source": [
    "## Class C (Low Seller)"
   ]
  },
  {
   "cell_type": "code",
   "execution_count": 12,
   "metadata": {
    "ExecuteTime": {
     "end_time": "2021-03-13T10:08:31.704716Z",
     "start_time": "2021-03-13T10:08:29.359951Z"
    }
   },
   "outputs": [
    {
     "data": {
      "image/png": "[encoded data removed]",
      "text/plain": [
       "<Figure size 1080x864 with 8 Axes>"
      ]
     },
     "metadata": {
      "needs_background": "light"
     },
     "output_type": "display_data"
    }
   ],
   "source": [
    "classification = 'C'\n",
    "samples = df.loc[df.Classification == classification][['Site_ID','SKU']].drop_duplicates().sample(n=n_series, random_state=4).values.tolist()\n",
    "plot_timeseries(samples, df)"
   ]
  },
  {
   "cell_type": "markdown",
   "metadata": {},
   "source": [
    "# Feature Engineering"
   ]
  },
  {
   "cell_type": "code",
   "execution_count": 115,
   "metadata": {
    "ExecuteTime": {
     "end_time": "2021-03-13T10:42:11.742058Z",
     "start_time": "2021-03-13T10:39:08.250534Z"
    }
   },
   "outputs": [],
   "source": [
    "df['rolling_mean_w4'] = df.sort_values(by=['Year', 'Week']).groupby(\n",
    "    ['SKU', 'Site_ID'])[target_variable].transform(lambda x: x.shift(1).rolling(window=4,min_periods=0).mean()).fillna(0)\n",
    "\n",
    "df['rolling_mean_w8'] = df.sort_values(by=['Year', 'Week']).groupby(\n",
    "    ['SKU', 'Site_ID'])[target_variable].transform(lambda x: x.shift(1).rolling(window=8,min_periods=0).mean()).fillna(0)\n",
    "\n",
    "df['lag_w1'] = df.sort_values(by=['Year', 'Week']).groupby(\n",
    "    ['SKU', 'Site_ID'])[target_variable].transform(lambda x: x.shift(1))\n",
    "\n",
    "df['lag_w2'] = df.sort_values(by=['Year', 'Week']).groupby(\n",
    "    ['SKU', 'Site_ID'])[target_variable].transform(lambda x: x.shift(2))\n",
    "\n",
    "df['lag_w3'] = df.sort_values(by=['Year', 'Week']).groupby(\n",
    "    ['SKU', 'Site_ID'])[target_variable].transform(lambda x: x.shift(3))\n",
    "\n",
    "df['lag_w4'] = df.sort_values(by=['Year', 'Week']).groupby(\n",
    "    ['SKU', 'Site_ID'])[target_variable].transform(lambda x: x.shift(4))\n",
    "\n",
    "df['lag_y1'] = df.sort_values(by=['Year', 'Week']).groupby(\n",
    "    ['SKU', 'Site_ID'])[target_variable].transform(lambda x: x.shift(52))\n",
    "\n",
    "df['lag_y2'] = df.sort_values(by=['Year', 'Week']).groupby(\n",
    "    ['SKU', 'Site_ID'])[target_variable].transform(lambda x: x.shift(104))\n"
   ]
  },
  {
   "cell_type": "code",
   "execution_count": 14,
   "metadata": {
    "ExecuteTime": {
     "end_time": "2021-03-13T10:11:32.171054Z",
     "start_time": "2021-03-13T10:11:32.157091Z"
    }
   },
   "outputs": [],
   "source": [
    "cat_features = [\n",
    "'Week', 'Year', 'Site_ID', 'SKU','Season_Year',\n",
    "       'Vendor_ID', 'Price_Level', 'Web_Article', 'CENSHARE_CAT_1',\n",
    "       'CENSHARE_CAT_2', 'CENSHARE_CAT_3'\n",
    "]\n",
    "\n",
    "num_features = [\n",
    "'rolling_mean_w4', 'lag_w1',\n",
    "       'lag_w2', 'lag_w3', 'lag_w4', 'lag_y1', 'lag_y2'\n",
    "]\n",
    "\n",
    "features = cat_features + num_features"
   ]
  },
  {
   "cell_type": "code",
   "execution_count": 15,
   "metadata": {
    "ExecuteTime": {
     "end_time": "2021-03-13T10:11:47.518812Z",
     "start_time": "2021-03-13T10:11:32.174047Z"
    }
   },
   "outputs": [],
   "source": [
    "# Convert categorical features to integers \n",
    "df = utils.encode_categorical(df, cat_features, downcast_cols=False)"
   ]
  },
  {
   "cell_type": "markdown",
   "metadata": {},
   "source": [
    "# Forecasting"
   ]
  },
  {
   "cell_type": "code",
   "execution_count": 323,
   "metadata": {
    "ExecuteTime": {
     "end_time": "2021-03-13T12:55:05.457048Z",
     "start_time": "2021-03-13T12:55:05.132953Z"
    }
   },
   "outputs": [],
   "source": [
    "splits = utils.get_splits(df, fh=forecast_horizon, n_splits=1)"
   ]
  },
  {
   "cell_type": "code",
   "execution_count": 324,
   "metadata": {
    "ExecuteTime": {
     "end_time": "2021-03-13T12:55:05.473006Z",
     "start_time": "2021-03-13T12:55:05.459052Z"
    }
   },
   "outputs": [],
   "source": [
    "# Store results in dataframe and validate the error at the end.\n",
    "result_df = pd.DataFrame(columns=['Week', 'Year', 'Site_ID', 'SKU','Prediction']+[target_variable] )"
   ]
  },
  {
   "cell_type": "code",
   "execution_count": 325,
   "metadata": {
    "ExecuteTime": {
     "end_time": "2021-03-13T12:55:05.672505Z",
     "start_time": "2021-03-13T12:55:05.474003Z"
    }
   },
   "outputs": [
    {
     "data": {
      "text/plain": [
       "CENSHARE_CAT_1\n",
       "9                 2204625\n",
       "16                1875654\n",
       "14                 989654\n",
       "0                  829173\n",
       "2                  776526\n",
       "18                 749319\n",
       "6                  313464\n",
       "12                 250714\n",
       "15                 212854\n",
       "4                   86688\n",
       "11                  64426\n",
       "13                  46647\n",
       "3                   31894\n",
       "10                  22208\n",
       "8                   13629\n",
       "1                    2095\n",
       "7                    1148\n",
       "5                     409\n",
       "17                    190\n",
       "dtype: int64"
      ]
     },
     "execution_count": 325,
     "metadata": {},
     "output_type": "execute_result"
    }
   ],
   "source": [
    "split_criteria = 'CENSHARE_CAT_1'\n",
    "\n",
    "df[[split_criteria]].value_counts()"
   ]
  },
  {
   "cell_type": "markdown",
   "metadata": {},
   "source": [
    "## Class A (Top Seller)"
   ]
  },
  {
   "cell_type": "code",
   "execution_count": 326,
   "metadata": {
    "ExecuteTime": {
     "end_time": "2021-03-13T12:55:05.687928Z",
     "start_time": "2021-03-13T12:55:05.674468Z"
    }
   },
   "outputs": [],
   "source": [
    "model_params = {\n",
    "    'seed': 10,\n",
    "    'objective': 'poisson',\n",
    "    'metric': 'rmse',\n",
    "    'num_leaves': 2^4,\n",
    "    'max_bin': 1000,\n",
    "    }"
   ]
  },
  {
   "cell_type": "code",
   "execution_count": 327,
   "metadata": {
    "ExecuteTime": {
     "end_time": "2021-03-13T12:55:21.890089Z",
     "start_time": "2021-03-13T12:55:05.693836Z"
    },
    "scrolled": true
   },
   "outputs": [
    {
     "name": "stdout",
     "output_type": "stream",
     "text": [
      "\n",
      "\n",
      "****** 5W45 ******\n",
      "****** Split Criteria: CENSHARE_CAT_1 = 55 ******\n"
     ]
    },
    {
     "name": "stderr",
     "output_type": "stream",
     "text": [
      "c:\\dev\\verteiler\\venv\\lib\\site-packages\\lightgbm\\basic.py:1551: UserWarning: Using categorical_feature in Dataset.\n",
      "  warnings.warn('Using categorical_feature in Dataset.')\n"
     ]
    },
    {
     "name": "stdout",
     "output_type": "stream",
     "text": [
      "[LightGBM] [Warning] Auto-choosing col-wise multi-threading, the overhead of testing was 0.018279 seconds.\n",
      "You can set `force_col_wise=true` to remove the overhead.\n",
      "[LightGBM] [Info] Total Bins 7731\n",
      "[LightGBM] [Info] Number of data points in the train set: 220064, number of used features: 15\n",
      "[LightGBM] [Info] Start training from score 3.377056\n",
      "Training until validation scores don't improve for 20 rounds\n",
      "[25]\ttraining's rmse: 57.3185\tvalid_1's rmse: 52.4286\n"
     ]
    },
    {
     "name": "stderr",
     "output_type": "stream",
     "text": [
      "c:\\dev\\verteiler\\venv\\lib\\site-packages\\lightgbm\\basic.py:1286: UserWarning: Overriding the parameters from Reference Dataset.\n",
      "  warnings.warn('Overriding the parameters from Reference Dataset.')\n",
      "c:\\dev\\verteiler\\venv\\lib\\site-packages\\lightgbm\\basic.py:1098: UserWarning: categorical_column in param dict is overridden.\n",
      "  warnings.warn('{} in param dict is overridden.'.format(cat_alias))\n"
     ]
    },
    {
     "name": "stdout",
     "output_type": "stream",
     "text": [
      "[50]\ttraining's rmse: 55.232\tvalid_1's rmse: 51.7001\n",
      "Early stopping, best iteration is:\n",
      "[44]\ttraining's rmse: 55.4364\tvalid_1's rmse: 51.6229\n",
      "\n",
      "\n",
      "****** 5W45 ******\n",
      "****** Split Criteria: CENSHARE_CAT_1 = 55 ******\n"
     ]
    },
    {
     "name": "stderr",
     "output_type": "stream",
     "text": [
      "c:\\dev\\verteiler\\venv\\lib\\site-packages\\lightgbm\\basic.py:1551: UserWarning: Using categorical_feature in Dataset.\n",
      "  warnings.warn('Using categorical_feature in Dataset.')\n"
     ]
    },
    {
     "name": "stdout",
     "output_type": "stream",
     "text": [
      "[LightGBM] [Warning] Auto-choosing row-wise multi-threading, the overhead of testing was 0.006291 seconds.\n",
      "You can set `force_row_wise=true` to remove the overhead.\n",
      "And if memory is not enough, you can set `force_col_wise=true`.\n",
      "[LightGBM] [Info] Total Bins 7736\n",
      "[LightGBM] [Info] Number of data points in the train set: 225123, number of used features: 17\n",
      "[LightGBM] [Info] Start training from score 3.587194\n",
      "Training until validation scores don't improve for 20 rounds\n",
      "[25]\ttraining's rmse: 93.4778\tvalid_1's rmse: 73.5301\n",
      "[50]\ttraining's rmse: 92.0011\tvalid_1's rmse: 71.2842\n"
     ]
    },
    {
     "name": "stderr",
     "output_type": "stream",
     "text": [
      "c:\\dev\\verteiler\\venv\\lib\\site-packages\\lightgbm\\basic.py:1286: UserWarning: Overriding the parameters from Reference Dataset.\n",
      "  warnings.warn('Overriding the parameters from Reference Dataset.')\n",
      "c:\\dev\\verteiler\\venv\\lib\\site-packages\\lightgbm\\basic.py:1098: UserWarning: categorical_column in param dict is overridden.\n",
      "  warnings.warn('{} in param dict is overridden.'.format(cat_alias))\n"
     ]
    },
    {
     "name": "stdout",
     "output_type": "stream",
     "text": [
      "Early stopping, best iteration is:\n",
      "[51]\ttraining's rmse: 91.8715\tvalid_1's rmse: 71.2173\n",
      "\n",
      "\n",
      "****** 5W45 ******\n",
      "****** Split Criteria: CENSHARE_CAT_1 = 55 ******\n"
     ]
    },
    {
     "name": "stderr",
     "output_type": "stream",
     "text": [
      "c:\\dev\\verteiler\\venv\\lib\\site-packages\\lightgbm\\basic.py:1551: UserWarning: Using categorical_feature in Dataset.\n",
      "  warnings.warn('Using categorical_feature in Dataset.')\n",
      "c:\\dev\\verteiler\\venv\\lib\\site-packages\\lightgbm\\basic.py:1286: UserWarning: Overriding the parameters from Reference Dataset.\n",
      "  warnings.warn('Overriding the parameters from Reference Dataset.')\n",
      "c:\\dev\\verteiler\\venv\\lib\\site-packages\\lightgbm\\basic.py:1098: UserWarning: categorical_column in param dict is overridden.\n",
      "  warnings.warn('{} in param dict is overridden.'.format(cat_alias))\n"
     ]
    },
    {
     "name": "stdout",
     "output_type": "stream",
     "text": [
      "[LightGBM] [Warning] Auto-choosing col-wise multi-threading, the overhead of testing was 0.005385 seconds.\n",
      "You can set `force_col_wise=true` to remove the overhead.\n",
      "[LightGBM] [Info] Total Bins 7246\n",
      "[LightGBM] [Info] Number of data points in the train set: 78542, number of used features: 17\n",
      "[LightGBM] [Info] Start training from score 4.072498\n",
      "Training until validation scores don't improve for 20 rounds\n",
      "[25]\ttraining's rmse: 90.3303\tvalid_1's rmse: 96.6122\n",
      "[50]\ttraining's rmse: 86.0764\tvalid_1's rmse: 95.5154\n",
      "[75]\ttraining's rmse: 84.1492\tvalid_1's rmse: 95.4549\n",
      "[100]\ttraining's rmse: 83.0375\tvalid_1's rmse: 95.3892\n",
      "Early stopping, best iteration is:\n",
      "[89]\ttraining's rmse: 83.4609\tvalid_1's rmse: 95.338\n",
      "\n",
      "\n",
      "****** 5W45 ******\n",
      "****** Split Criteria: CENSHARE_CAT_1 = 55 ******\n"
     ]
    },
    {
     "name": "stderr",
     "output_type": "stream",
     "text": [
      "c:\\dev\\verteiler\\venv\\lib\\site-packages\\lightgbm\\basic.py:1551: UserWarning: Using categorical_feature in Dataset.\n",
      "  warnings.warn('Using categorical_feature in Dataset.')\n"
     ]
    },
    {
     "name": "stdout",
     "output_type": "stream",
     "text": [
      "[LightGBM] [Warning] Auto-choosing row-wise multi-threading, the overhead of testing was 0.002065 seconds.\n",
      "You can set `force_row_wise=true` to remove the overhead.\n",
      "And if memory is not enough, you can set `force_col_wise=true`.\n",
      "[LightGBM] [Info] Total Bins 7247\n",
      "[LightGBM] [Info] Number of data points in the train set: 196829, number of used features: 17\n",
      "[LightGBM] [Info] Start training from score 2.403887\n",
      "Training until validation scores don't improve for 20 rounds\n",
      "[25]\ttraining's rmse: 20.94\tvalid_1's rmse: 38.2452\n",
      "Early stopping, best iteration is:\n",
      "[29]\ttraining's rmse: 20.6286\tvalid_1's rmse: 38.2183\n",
      "\n",
      "\n",
      "****** 5W45 ******"
     ]
    },
    {
     "name": "stderr",
     "output_type": "stream",
     "text": [
      "c:\\dev\\verteiler\\venv\\lib\\site-packages\\lightgbm\\basic.py:1286: UserWarning: Overriding the parameters from Reference Dataset.\n",
      "  warnings.warn('Overriding the parameters from Reference Dataset.')\n",
      "c:\\dev\\verteiler\\venv\\lib\\site-packages\\lightgbm\\basic.py:1098: UserWarning: categorical_column in param dict is overridden.\n",
      "  warnings.warn('{} in param dict is overridden.'.format(cat_alias))\n"
     ]
    },
    {
     "name": "stdout",
     "output_type": "stream",
     "text": [
      "\n",
      "****** Split Criteria: CENSHARE_CAT_1 = 55 ******\n"
     ]
    },
    {
     "name": "stderr",
     "output_type": "stream",
     "text": [
      "c:\\dev\\verteiler\\venv\\lib\\site-packages\\lightgbm\\basic.py:1551: UserWarning: Using categorical_feature in Dataset.\n",
      "  warnings.warn('Using categorical_feature in Dataset.')\n",
      "c:\\dev\\verteiler\\venv\\lib\\site-packages\\lightgbm\\basic.py:1286: UserWarning: Overriding the parameters from Reference Dataset.\n",
      "  warnings.warn('Overriding the parameters from Reference Dataset.')\n",
      "c:\\dev\\verteiler\\venv\\lib\\site-packages\\lightgbm\\basic.py:1098: UserWarning: categorical_column in param dict is overridden.\n",
      "  warnings.warn('{} in param dict is overridden.'.format(cat_alias))\n"
     ]
    },
    {
     "name": "stdout",
     "output_type": "stream",
     "text": [
      "[LightGBM] [Warning] Auto-choosing col-wise multi-threading, the overhead of testing was 0.000297 seconds.\n",
      "You can set `force_col_wise=true` to remove the overhead.\n",
      "[LightGBM] [Info] Total Bins 389\n",
      "[LightGBM] [Info] Number of data points in the train set: 1865, number of used features: 11\n",
      "[LightGBM] [Info] Start training from score 1.842808\n",
      "Training until validation scores don't improve for 20 rounds\n",
      "Early stopping, best iteration is:\n",
      "[2]\ttraining's rmse: 9.9371\tvalid_1's rmse: 8.03289\n",
      "\n",
      "\n",
      "****** 5W45 ******\n",
      "****** Split Criteria: CENSHARE_CAT_1 = 55 ******\n"
     ]
    },
    {
     "name": "stderr",
     "output_type": "stream",
     "text": [
      "c:\\dev\\verteiler\\venv\\lib\\site-packages\\lightgbm\\basic.py:1551: UserWarning: Using categorical_feature in Dataset.\n",
      "  warnings.warn('Using categorical_feature in Dataset.')\n",
      "c:\\dev\\verteiler\\venv\\lib\\site-packages\\lightgbm\\basic.py:1286: UserWarning: Overriding the parameters from Reference Dataset.\n",
      "  warnings.warn('Overriding the parameters from Reference Dataset.')\n",
      "c:\\dev\\verteiler\\venv\\lib\\site-packages\\lightgbm\\basic.py:1098: UserWarning: categorical_column in param dict is overridden.\n",
      "  warnings.warn('{} in param dict is overridden.'.format(cat_alias))\n"
     ]
    },
    {
     "name": "stdout",
     "output_type": "stream",
     "text": [
      "[LightGBM] [Warning] Auto-choosing col-wise multi-threading, the overhead of testing was 0.002964 seconds.\n",
      "You can set `force_col_wise=true` to remove the overhead.\n",
      "[LightGBM] [Info] Total Bins 5027\n",
      "[LightGBM] [Info] Number of data points in the train set: 23095, number of used features: 15\n",
      "[LightGBM] [Info] Start training from score 4.532224\n",
      "Training until validation scores don't improve for 20 rounds\n",
      "[25]\ttraining's rmse: 150.357\tvalid_1's rmse: 108.85\n",
      "Early stopping, best iteration is:\n",
      "[24]\ttraining's rmse: 150.587\tvalid_1's rmse: 108.761\n",
      "\n",
      "\n",
      "****** 5W45 ******\n",
      "****** Split Criteria: CENSHARE_CAT_1 = 55 ******\n"
     ]
    },
    {
     "name": "stderr",
     "output_type": "stream",
     "text": [
      "c:\\dev\\verteiler\\venv\\lib\\site-packages\\lightgbm\\basic.py:1551: UserWarning: Using categorical_feature in Dataset.\n",
      "  warnings.warn('Using categorical_feature in Dataset.')\n",
      "c:\\dev\\verteiler\\venv\\lib\\site-packages\\lightgbm\\basic.py:1286: UserWarning: Overriding the parameters from Reference Dataset.\n",
      "  warnings.warn('Overriding the parameters from Reference Dataset.')\n",
      "c:\\dev\\verteiler\\venv\\lib\\site-packages\\lightgbm\\basic.py:1098: UserWarning: categorical_column in param dict is overridden.\n",
      "  warnings.warn('{} in param dict is overridden.'.format(cat_alias))\n"
     ]
    },
    {
     "name": "stdout",
     "output_type": "stream",
     "text": [
      "[LightGBM] [Warning] Auto-choosing col-wise multi-threading, the overhead of testing was 0.003477 seconds.\n",
      "You can set `force_col_wise=true` to remove the overhead.\n",
      "[LightGBM] [Info] Total Bins 5949\n",
      "[LightGBM] [Info] Number of data points in the train set: 40683, number of used features: 16\n",
      "[LightGBM] [Info] Start training from score 3.730066\n",
      "Training until validation scores don't improve for 20 rounds\n",
      "[25]\ttraining's rmse: 74.1242\tvalid_1's rmse: 110.473\n",
      "[50]\ttraining's rmse: 71.5417\tvalid_1's rmse: 107.564\n",
      "[75]\ttraining's rmse: 70.3239\tvalid_1's rmse: 108.055\n",
      "Early stopping, best iteration is:\n",
      "[59]\ttraining's rmse: 70.9834\tvalid_1's rmse: 107.277\n",
      "\n",
      "\n",
      "****** 5W45 ******\n",
      "****** Split Criteria: CENSHARE_CAT_1 = 55 ******\n"
     ]
    },
    {
     "name": "stderr",
     "output_type": "stream",
     "text": [
      "c:\\dev\\verteiler\\venv\\lib\\site-packages\\lightgbm\\basic.py:1551: UserWarning: Using categorical_feature in Dataset.\n",
      "  warnings.warn('Using categorical_feature in Dataset.')\n",
      "c:\\dev\\verteiler\\venv\\lib\\site-packages\\lightgbm\\basic.py:1286: UserWarning: Overriding the parameters from Reference Dataset.\n",
      "  warnings.warn('Overriding the parameters from Reference Dataset.')\n",
      "c:\\dev\\verteiler\\venv\\lib\\site-packages\\lightgbm\\basic.py:1098: UserWarning: categorical_column in param dict is overridden.\n",
      "  warnings.warn('{} in param dict is overridden.'.format(cat_alias))\n"
     ]
    },
    {
     "name": "stdout",
     "output_type": "stream",
     "text": [
      "[LightGBM] [Warning] Auto-choosing col-wise multi-threading, the overhead of testing was 0.000291 seconds.\n",
      "You can set `force_col_wise=true` to remove the overhead.\n",
      "[LightGBM] [Info] Total Bins 646\n",
      "[LightGBM] [Info] Number of data points in the train set: 1429, number of used features: 15\n",
      "[LightGBM] [Info] Start training from score 4.170160\n",
      "Training until validation scores don't improve for 20 rounds\n",
      "[25]\ttraining's rmse: 64.8458\tvalid_1's rmse: 29.7313\n",
      "[50]\ttraining's rmse: 56.8502\tvalid_1's rmse: 21.2029\n",
      "[75]\ttraining's rmse: 50.6263\tvalid_1's rmse: 17.7044\n",
      "[100]\ttraining's rmse: 47.0585\tvalid_1's rmse: 15.6247\n",
      "[125]\ttraining's rmse: 42.7255\tvalid_1's rmse: 15.0049\n",
      "[150]\ttraining's rmse: 39.8141\tvalid_1's rmse: 14.9762\n",
      "Early stopping, best iteration is:\n",
      "[130]\ttraining's rmse: 41.9517\tvalid_1's rmse: 14.799\n",
      "\n",
      "\n",
      "****** 5W45 ******\n",
      "****** Split Criteria: CENSHARE_CAT_1 = 55 ******\n"
     ]
    },
    {
     "name": "stderr",
     "output_type": "stream",
     "text": [
      "c:\\dev\\verteiler\\venv\\lib\\site-packages\\lightgbm\\basic.py:1551: UserWarning: Using categorical_feature in Dataset.\n",
      "  warnings.warn('Using categorical_feature in Dataset.')\n",
      "c:\\dev\\verteiler\\venv\\lib\\site-packages\\lightgbm\\basic.py:1286: UserWarning: Overriding the parameters from Reference Dataset.\n",
      "  warnings.warn('Overriding the parameters from Reference Dataset.')\n",
      "c:\\dev\\verteiler\\venv\\lib\\site-packages\\lightgbm\\basic.py:1098: UserWarning: categorical_column in param dict is overridden.\n",
      "  warnings.warn('{} in param dict is overridden.'.format(cat_alias))\n"
     ]
    },
    {
     "name": "stdout",
     "output_type": "stream",
     "text": [
      "[LightGBM] [Warning] Auto-choosing col-wise multi-threading, the overhead of testing was 0.003785 seconds.\n",
      "You can set `force_col_wise=true` to remove the overhead.\n",
      "[LightGBM] [Info] Total Bins 6239\n",
      "[LightGBM] [Info] Number of data points in the train set: 53020, number of used features: 15\n",
      "[LightGBM] [Info] Start training from score 3.659596\n",
      "Training until validation scores don't improve for 20 rounds\n",
      "[25]\ttraining's rmse: 73.9329\tvalid_1's rmse: 49.6579\n",
      "[50]\ttraining's rmse: 71.5982\tvalid_1's rmse: 48.2505\n",
      "[75]\ttraining's rmse: 70.5094\tvalid_1's rmse: 48.0335\n",
      "[100]\ttraining's rmse: 69.6645\tvalid_1's rmse: 47.98\n",
      "[125]\ttraining's rmse: 68.857\tvalid_1's rmse: 47.8447\n",
      "Early stopping, best iteration is:\n",
      "[118]\ttraining's rmse: 69.0684\tvalid_1's rmse: 47.7834\n",
      "\n",
      "\n",
      "****** 5W45 ******\n",
      "****** Split Criteria: CENSHARE_CAT_1 = 55 ******\n"
     ]
    },
    {
     "name": "stderr",
     "output_type": "stream",
     "text": [
      "c:\\dev\\verteiler\\venv\\lib\\site-packages\\lightgbm\\basic.py:1551: UserWarning: Using categorical_feature in Dataset.\n",
      "  warnings.warn('Using categorical_feature in Dataset.')\n",
      "c:\\dev\\verteiler\\venv\\lib\\site-packages\\lightgbm\\basic.py:1286: UserWarning: Overriding the parameters from Reference Dataset.\n",
      "  warnings.warn('Overriding the parameters from Reference Dataset.')\n",
      "c:\\dev\\verteiler\\venv\\lib\\site-packages\\lightgbm\\basic.py:1098: UserWarning: categorical_column in param dict is overridden.\n",
      "  warnings.warn('{} in param dict is overridden.'.format(cat_alias))\n"
     ]
    },
    {
     "name": "stdout",
     "output_type": "stream",
     "text": [
      "[LightGBM] [Warning] Auto-choosing col-wise multi-threading, the overhead of testing was 0.000139 seconds.\n",
      "You can set `force_col_wise=true` to remove the overhead.\n",
      "[LightGBM] [Info] Total Bins 171\n",
      "[LightGBM] [Info] Number of data points in the train set: 304, number of used features: 10\n",
      "[LightGBM] [Info] Start training from score 4.560103\n",
      "Training until validation scores don't improve for 20 rounds\n",
      "Early stopping, best iteration is:\n",
      "[1]\ttraining's rmse: 127.585\tvalid_1's rmse: 101.32\n",
      "\n",
      "\n",
      "****** 5W45 ******\n",
      "****** Split Criteria: CENSHARE_CAT_1 = 55 ******\n"
     ]
    },
    {
     "name": "stderr",
     "output_type": "stream",
     "text": [
      "c:\\dev\\verteiler\\venv\\lib\\site-packages\\lightgbm\\basic.py:1551: UserWarning: Using categorical_feature in Dataset.\n",
      "  warnings.warn('Using categorical_feature in Dataset.')\n",
      "c:\\dev\\verteiler\\venv\\lib\\site-packages\\lightgbm\\basic.py:1286: UserWarning: Overriding the parameters from Reference Dataset.\n",
      "  warnings.warn('Overriding the parameters from Reference Dataset.')\n",
      "c:\\dev\\verteiler\\venv\\lib\\site-packages\\lightgbm\\basic.py:1098: UserWarning: categorical_column in param dict is overridden.\n",
      "  warnings.warn('{} in param dict is overridden.'.format(cat_alias))\n"
     ]
    },
    {
     "name": "stdout",
     "output_type": "stream",
     "text": [
      "[LightGBM] [Warning] Auto-choosing col-wise multi-threading, the overhead of testing was 0.000382 seconds.\n",
      "You can set `force_col_wise=true` to remove the overhead.\n",
      "[LightGBM] [Info] Total Bins 485\n",
      "[LightGBM] [Info] Number of data points in the train set: 2140, number of used features: 16\n",
      "[LightGBM] [Info] Start training from score 3.406370\n",
      "Training until validation scores don't improve for 20 rounds\n",
      "[25]\ttraining's rmse: 68.415\tvalid_1's rmse: 25.4916\n",
      "Early stopping, best iteration is:\n",
      "[28]\ttraining's rmse: 66.6641\tvalid_1's rmse: 25.4129\n",
      "\n",
      "\n",
      "****** 5W45 ******\n",
      "****** Split Criteria: CENSHARE_CAT_1 = 55 ******\n"
     ]
    },
    {
     "name": "stderr",
     "output_type": "stream",
     "text": [
      "c:\\dev\\verteiler\\venv\\lib\\site-packages\\lightgbm\\basic.py:1551: UserWarning: Using categorical_feature in Dataset.\n",
      "  warnings.warn('Using categorical_feature in Dataset.')\n",
      "c:\\dev\\verteiler\\venv\\lib\\site-packages\\lightgbm\\basic.py:1286: UserWarning: Overriding the parameters from Reference Dataset.\n",
      "  warnings.warn('Overriding the parameters from Reference Dataset.')\n",
      "c:\\dev\\verteiler\\venv\\lib\\site-packages\\lightgbm\\basic.py:1098: UserWarning: categorical_column in param dict is overridden.\n",
      "  warnings.warn('{} in param dict is overridden.'.format(cat_alias))\n"
     ]
    },
    {
     "name": "stdout",
     "output_type": "stream",
     "text": [
      "[LightGBM] [Warning] Auto-choosing col-wise multi-threading, the overhead of testing was 0.000782 seconds.\n",
      "You can set `force_col_wise=true` to remove the overhead.\n",
      "[LightGBM] [Info] Total Bins 773\n",
      "[LightGBM] [Info] Number of data points in the train set: 8796, number of used features: 14\n",
      "[LightGBM] [Info] Start training from score 3.396760\n",
      "Training until validation scores don't improve for 20 rounds\n",
      "[25]\ttraining's rmse: 38.7007\tvalid_1's rmse: 62.798\n",
      "[50]\ttraining's rmse: 37.5795\tvalid_1's rmse: 61.2989\n",
      "[75]\ttraining's rmse: 36.9677\tvalid_1's rmse: 60.0694\n",
      "[100]\ttraining's rmse: 36.5925\tvalid_1's rmse: 58.8976\n",
      "[125]\ttraining's rmse: 36.2835\tvalid_1's rmse: 58.4899\n",
      "[150]\ttraining's rmse: 35.9751\tvalid_1's rmse: 58.9152\n",
      "Early stopping, best iteration is:\n",
      "[131]\ttraining's rmse: 36.2139\tvalid_1's rmse: 58.3046\n",
      "\n",
      "\n",
      "****** 5W45 ******\n",
      "****** Split Criteria: CENSHARE_CAT_1 = 55 ******\n"
     ]
    },
    {
     "name": "stderr",
     "output_type": "stream",
     "text": [
      "c:\\dev\\verteiler\\venv\\lib\\site-packages\\lightgbm\\basic.py:1551: UserWarning: Using categorical_feature in Dataset.\n",
      "  warnings.warn('Using categorical_feature in Dataset.')\n",
      "c:\\dev\\verteiler\\venv\\lib\\site-packages\\lightgbm\\basic.py:1286: UserWarning: Overriding the parameters from Reference Dataset.\n",
      "  warnings.warn('Overriding the parameters from Reference Dataset.')\n",
      "c:\\dev\\verteiler\\venv\\lib\\site-packages\\lightgbm\\basic.py:1098: UserWarning: categorical_column in param dict is overridden.\n",
      "  warnings.warn('{} in param dict is overridden.'.format(cat_alias))\n"
     ]
    },
    {
     "name": "stdout",
     "output_type": "stream",
     "text": [
      "[LightGBM] [Warning] Auto-choosing col-wise multi-threading, the overhead of testing was 0.000587 seconds.\n",
      "You can set `force_col_wise=true` to remove the overhead.\n",
      "[LightGBM] [Info] Total Bins 2081\n",
      "[LightGBM] [Info] Number of data points in the train set: 6759, number of used features: 14\n",
      "[LightGBM] [Info] Start training from score 3.834761\n",
      "Training until validation scores don't improve for 20 rounds\n",
      "[25]\ttraining's rmse: 60.8116\tvalid_1's rmse: 56.6444\n",
      "Early stopping, best iteration is:\n",
      "[13]\ttraining's rmse: 66.1241\tvalid_1's rmse: 54.7625\n",
      "\n",
      "\n",
      "****** 5W45 ******\n",
      "****** Split Criteria: CENSHARE_CAT_1 = 55 ******\n"
     ]
    },
    {
     "name": "stderr",
     "output_type": "stream",
     "text": [
      "c:\\dev\\verteiler\\venv\\lib\\site-packages\\lightgbm\\basic.py:1551: UserWarning: Using categorical_feature in Dataset.\n",
      "  warnings.warn('Using categorical_feature in Dataset.')\n",
      "c:\\dev\\verteiler\\venv\\lib\\site-packages\\lightgbm\\basic.py:1286: UserWarning: Overriding the parameters from Reference Dataset.\n",
      "  warnings.warn('Overriding the parameters from Reference Dataset.')\n",
      "c:\\dev\\verteiler\\venv\\lib\\site-packages\\lightgbm\\basic.py:1098: UserWarning: categorical_column in param dict is overridden.\n",
      "  warnings.warn('{} in param dict is overridden.'.format(cat_alias))\n"
     ]
    },
    {
     "name": "stdout",
     "output_type": "stream",
     "text": [
      "[LightGBM] [Warning] Auto-choosing col-wise multi-threading, the overhead of testing was 0.000897 seconds.\n",
      "You can set `force_col_wise=true` to remove the overhead.\n",
      "[LightGBM] [Info] Total Bins 1941\n",
      "[LightGBM] [Info] Number of data points in the train set: 12500, number of used features: 15\n",
      "[LightGBM] [Info] Start training from score 4.934230\n",
      "Training until validation scores don't improve for 20 rounds\n",
      "[25]\ttraining's rmse: 268.212\tvalid_1's rmse: 226.556\n",
      "[50]\ttraining's rmse: 254.128\tvalid_1's rmse: 227.227\n",
      "Early stopping, best iteration is:\n",
      "[32]\ttraining's rmse: 262.865\tvalid_1's rmse: 225.989\n",
      "\n",
      "\n",
      "****** 5W45 ******\n",
      "****** Split Criteria: CENSHARE_CAT_1 = 55 ******\n"
     ]
    },
    {
     "name": "stderr",
     "output_type": "stream",
     "text": [
      "c:\\dev\\verteiler\\venv\\lib\\site-packages\\lightgbm\\basic.py:1551: UserWarning: Using categorical_feature in Dataset.\n",
      "  warnings.warn('Using categorical_feature in Dataset.')\n",
      "c:\\dev\\verteiler\\venv\\lib\\site-packages\\lightgbm\\basic.py:1286: UserWarning: Overriding the parameters from Reference Dataset.\n",
      "  warnings.warn('Overriding the parameters from Reference Dataset.')\n",
      "c:\\dev\\verteiler\\venv\\lib\\site-packages\\lightgbm\\basic.py:1098: UserWarning: categorical_column in param dict is overridden.\n",
      "  warnings.warn('{} in param dict is overridden.'.format(cat_alias))\n"
     ]
    },
    {
     "name": "stdout",
     "output_type": "stream",
     "text": [
      "[LightGBM] [Warning] Auto-choosing col-wise multi-threading, the overhead of testing was 0.000528 seconds.\n",
      "You can set `force_col_wise=true` to remove the overhead.\n",
      "[LightGBM] [Info] Total Bins 779\n",
      "[LightGBM] [Info] Number of data points in the train set: 3028, number of used features: 15\n",
      "[LightGBM] [Info] Start training from score 4.750480\n",
      "Training until validation scores don't improve for 20 rounds\n",
      "[25]\ttraining's rmse: 118.72\tvalid_1's rmse: 56.5618\n",
      "[50]\ttraining's rmse: 98.3086\tvalid_1's rmse: 49.3595\n",
      "[75]\ttraining's rmse: 91.8373\tvalid_1's rmse: 48.0134\n",
      "[100]\ttraining's rmse: 87.6103\tvalid_1's rmse: 47.0415\n",
      "[125]\ttraining's rmse: 84.9201\tvalid_1's rmse: 46.8226\n",
      "[150]\ttraining's rmse: 82.9102\tvalid_1's rmse: 46.7825\n",
      "Early stopping, best iteration is:\n",
      "[134]\ttraining's rmse: 84.0176\tvalid_1's rmse: 46.7341\n",
      "\n",
      "\n",
      "****** 5W45 ******\n",
      "****** Split Criteria: CENSHARE_CAT_1 = 55 ******\n"
     ]
    },
    {
     "name": "stderr",
     "output_type": "stream",
     "text": [
      "c:\\dev\\verteiler\\venv\\lib\\site-packages\\lightgbm\\basic.py:1551: UserWarning: Using categorical_feature in Dataset.\n",
      "  warnings.warn('Using categorical_feature in Dataset.')\n",
      "c:\\dev\\verteiler\\venv\\lib\\site-packages\\lightgbm\\basic.py:1286: UserWarning: Overriding the parameters from Reference Dataset.\n",
      "  warnings.warn('Overriding the parameters from Reference Dataset.')\n",
      "c:\\dev\\verteiler\\venv\\lib\\site-packages\\lightgbm\\basic.py:1098: UserWarning: categorical_column in param dict is overridden.\n",
      "  warnings.warn('{} in param dict is overridden.'.format(cat_alias))\n"
     ]
    },
    {
     "name": "stdout",
     "output_type": "stream",
     "text": [
      "[LightGBM] [Warning] Auto-choosing col-wise multi-threading, the overhead of testing was 0.000161 seconds.\n",
      "You can set `force_col_wise=true` to remove the overhead.\n",
      "[LightGBM] [Info] Total Bins 136\n",
      "[LightGBM] [Info] Number of data points in the train set: 246, number of used features: 9\n",
      "[LightGBM] [Info] Start training from score 2.962121\n",
      "Training until validation scores don't improve for 20 rounds\n",
      "[25]\ttraining's rmse: 22.4737\tvalid_1's rmse: 14.8159\n",
      "[50]\ttraining's rmse: 20.5603\tvalid_1's rmse: 10.4987\n",
      "Early stopping, best iteration is:\n",
      "[47]\ttraining's rmse: 20.7913\tvalid_1's rmse: 9.73789\n",
      "\n",
      "\n",
      "****** 5W45 ******\n",
      "****** Split Criteria: CENSHARE_CAT_1 = 55 ******\n",
      "\n",
      "\n",
      "****** 5W45 ******\n",
      "****** Split Criteria: CENSHARE_CAT_1 = 55 ******\n",
      "\n",
      "\n",
      "****** 5W45 ******\n",
      "****** Split Criteria: CENSHARE_CAT_1 = 55 ******\n",
      "[LightGBM] [Warning] Auto-choosing col-wise multi-threading, the overhead of testing was 0.000070 seconds.\n",
      "You can set `force_col_wise=true` to remove the overhead.\n",
      "[LightGBM] [Info] Total Bins 13\n",
      "[LightGBM] [Info] Number of data points in the train set: 30, number of used features: 2\n",
      "[LightGBM] [Info] Start training from score 4.614153\n",
      "[LightGBM] [Warning] No further splits with positive gain, best gain: -inf\n",
      "[LightGBM] [Warning] Stopped training because there are no more leaves that meet the split requirements\n",
      "Training until validation scores don't improve for 20 rounds\n",
      "[LightGBM] [Warning] No further splits with positive gain, best gain: -inf\n",
      "[LightGBM] [Warning] Stopped training because there are no more leaves that meet the split requirements\n",
      "[LightGBM] [Warning] No further splits with positive gain, best gain: -inf\n",
      "[LightGBM] [Warning] Stopped training because there are no more leaves that meet the split requirements\n",
      "[LightGBM] [Warning] No further splits with positive gain, best gain: -inf\n",
      "[LightGBM] [Warning] Stopped training because there are no more leaves that meet the split requirements\n",
      "[LightGBM] [Warning] No further splits with positive gain, best gain: -inf\n",
      "[LightGBM] [Warning] Stopped training because there are no more leaves that meet the split requirements\n",
      "[LightGBM] [Warning] No further splits with positive gain, best gain: -inf\n",
      "[LightGBM] [Warning] Stopped training because there are no more leaves that meet the split requirements\n",
      "[LightGBM] [Warning] No further splits with positive gain, best gain: -inf\n",
      "[LightGBM] [Warning] Stopped training because there are no more leaves that meet the split requirements\n",
      "[LightGBM] [Warning] No further splits with positive gain, best gain: -inf\n",
      "[LightGBM] [Warning] Stopped training because there are no more leaves that meet the split requirements\n",
      "[LightGBM] [Warning] No further splits with positive gain, best gain: -inf\n",
      "[LightGBM] [Warning] Stopped training because there are no more leaves that meet the split requirements\n",
      "[LightGBM] [Warning] No further splits with positive gain, best gain: -inf\n",
      "[LightGBM] [Warning] Stopped training because there are no more leaves that meet the split requirements\n",
      "[LightGBM] [Warning] No further splits with positive gain, best gain: -inf\n",
      "[LightGBM] [Warning] Stopped training because there are no more leaves that meet the split requirements\n",
      "[LightGBM] [Warning] No further splits with positive gain, best gain: -inf\n",
      "[LightGBM] [Warning] Stopped training because there are no more leaves that meet the split requirements\n",
      "[LightGBM] [Warning] No further splits with positive gain, best gain: -inf\n",
      "[LightGBM] [Warning] Stopped training because there are no more leaves that meet the split requirements\n",
      "[LightGBM] [Warning] No further splits with positive gain, best gain: -inf\n",
      "[LightGBM] [Warning] Stopped training because there are no more leaves that meet the split requirements\n",
      "[LightGBM] [Warning] No further splits with positive gain, best gain: -inf\n",
      "[LightGBM] [Warning] Stopped training because there are no more leaves that meet the split requirements\n",
      "[LightGBM] [Warning] No further splits with positive gain, best gain: -inf\n",
      "[LightGBM] [Warning] Stopped training because there are no more leaves that meet the split requirements\n",
      "[LightGBM] [Warning] No further splits with positive gain, best gain: -inf\n",
      "[LightGBM] [Warning] Stopped training because there are no more leaves that meet the split requirements\n",
      "[LightGBM] [Warning] No further splits with positive gain, best gain: -inf\n",
      "[LightGBM] [Warning] Stopped training because there are no more leaves that meet the split requirements\n",
      "[LightGBM] [Warning] No further splits with positive gain, best gain: -inf\n",
      "[LightGBM] [Warning] Stopped training because there are no more leaves that meet the split requirements\n",
      "[LightGBM] [Warning] No further splits with positive gain, best gain: -inf\n",
      "[LightGBM] [Warning] Stopped training because there are no more leaves that meet the split requirements\n",
      "[LightGBM] [Warning] No further splits with positive gain, best gain: -inf\n",
      "[LightGBM] [Warning] Stopped training because there are no more leaves that meet the split requirements\n",
      "Early stopping, best iteration is:\n",
      "[1]\ttraining's rmse: 10080.7\tvalid_1's rmse: 10104.6\n"
     ]
    },
    {
     "name": "stderr",
     "output_type": "stream",
     "text": [
      "c:\\dev\\verteiler\\venv\\lib\\site-packages\\lightgbm\\basic.py:1551: UserWarning: Using categorical_feature in Dataset.\n",
      "  warnings.warn('Using categorical_feature in Dataset.')\n",
      "c:\\dev\\verteiler\\venv\\lib\\site-packages\\lightgbm\\basic.py:1286: UserWarning: Overriding the parameters from Reference Dataset.\n",
      "  warnings.warn('Overriding the parameters from Reference Dataset.')\n",
      "c:\\dev\\verteiler\\venv\\lib\\site-packages\\lightgbm\\basic.py:1098: UserWarning: categorical_column in param dict is overridden.\n",
      "  warnings.warn('{} in param dict is overridden.'.format(cat_alias))\n"
     ]
    }
   ],
   "source": [
    "rmse = []\n",
    "\n",
    "\n",
    "\n",
    "save_models = False\n",
    "\n",
    "for week, year in splits:\n",
    "    for split in df[split_criteria].drop_duplicates():\n",
    "        print(f'\\n\\n****** {year}W{week} ******')\n",
    "        print(f'****** Split Criteria: {split_criteria} = {i} ******')\n",
    "        \n",
    "        df_class = df.loc[df.Classification == 'A'].loc[df[split_criteria] == split].copy()\n",
    "        if df_class.empty:\n",
    "            continue\n",
    "        \n",
    "        evals_result = {}\n",
    "\n",
    "        week=int(week)\n",
    "        year=int(year)\n",
    "\n",
    "        # Train data: same year and past week OR past year\n",
    "        x_train = df_class.loc[((df_class.Year == (Week(year, week))[0]) & (df_class.Week <= (Week(year, week))[1])) | (df_class.Year < (Week(year, week))[0])][features]\n",
    "        y_train = df_class.loc[((df_class.Year == (Week(year, week))[0]) & (df_class.Week <= (Week(year, week))[1])) | (df_class.Year < (Week(year, week))[0])][target_variable]\n",
    "\n",
    "        x_test = df_class.loc[df_class.Year == (Week(year, week)+1)[0]].loc[df_class.Week == (Week(year, week)+1)[1]][features]\n",
    "        y_test = df_class.loc[df_class.Year == (Week(year, week)+1)[0]].loc[df_class.Week == (Week(year, week)+1)[1]][target_variable]\n",
    "\n",
    "\n",
    "\n",
    "        train_data = lgb.Dataset(x_train, label=y_train,\n",
    "                                 categorical_feature=cat_features, free_raw_data=False,\n",
    "                               )\n",
    "        validation_data = lgb.Dataset(\n",
    "            x_test, label=y_test, categorical_feature=cat_features, free_raw_data=False, reference=train_data,\n",
    "        )\n",
    "\n",
    "\n",
    "\n",
    "        gbm = lgb.train(model_params, train_data, valid_sets=[train_data, validation_data],\n",
    "                        evals_result=evals_result, num_boost_round=1000,\n",
    "                        verbose_eval=25, early_stopping_rounds=20,\n",
    "                       )\n",
    "\n",
    "\n",
    "        y_pred = gbm.predict(x_test, num_iteration=gbm.best_iteration)\n",
    "\n",
    "\n",
    "        if save_models:\n",
    "            print('log: save model and evals result')\n",
    "            gbm.save_model(path_models + f'gbm_{year}w{week}.txt', num_iteration=gbm.best_iteration) \n",
    "\n",
    "            evals_result_p = open(path_models+ f'evals_result_{year}w{week}.pkl', 'wb')\n",
    "            pickle.dump(evals_result, evals_result_p)\n",
    "            evals_result_p.close()\n",
    "\n",
    "        rmse.append(mean_squared_error(y_test, y_pred, squared=False))\n",
    "        \n",
    "        # Gather results of this article category and store them in general result_df\n",
    "        result_class = x_test[['Week', 'Year', 'Site_ID', 'SKU']].copy()\n",
    "        result_class[target_variable] = list(y_test)\n",
    "        result_class['Prediction'] = list(y_pred)\n",
    "\n",
    "\n",
    "        result_df = result_df.append(result_class)"
   ]
  },
  {
   "cell_type": "code",
   "execution_count": 328,
   "metadata": {
    "ExecuteTime": {
     "end_time": "2021-03-13T12:55:21.906047Z",
     "start_time": "2021-03-13T12:55:21.891088Z"
    },
    "scrolled": true
   },
   "outputs": [
    {
     "name": "stdout",
     "output_type": "stream",
     "text": [
      "RMSE:\n",
      " [51.62286323108768, 71.21734392896971, 95.33803393791636, 38.21827582219615, 8.032890389606608, 108.76122481402388, 107.27744356204221, 14.799041898387646, 47.78343480163116, 101.32046941759543, 25.412861103164158, 58.30459721651135, 54.762493708382046, 225.9892021687462, 46.734052063963446, 9.737891209948547, 60.58202951406647]\n",
      "\n",
      "Crossvalidated RMSE:  66.22906757577877\n"
     ]
    }
   ],
   "source": [
    "print('RMSE:\\n', rmse)\n",
    "    \n",
    "print('\\nCrossvalidated RMSE: ', np.mean(rmse))"
   ]
  },
  {
   "cell_type": "code",
   "execution_count": 329,
   "metadata": {
    "ExecuteTime": {
     "end_time": "2021-03-13T12:55:21.936964Z",
     "start_time": "2021-03-13T12:55:21.908042Z"
    }
   },
   "outputs": [
    {
     "data": {
      "text/html": [
       "<div>\n",
       "<style scoped>\n",
       "    .dataframe tbody tr th:only-of-type {\n",
       "        vertical-align: middle;\n",
       "    }\n",
       "\n",
       "    .dataframe tbody tr th {\n",
       "        vertical-align: top;\n",
       "    }\n",
       "\n",
       "    .dataframe thead th {\n",
       "        text-align: right;\n",
       "    }\n",
       "</style>\n",
       "<table border=\"1\" class=\"dataframe\">\n",
       "  <thead>\n",
       "    <tr style=\"text-align: right;\">\n",
       "      <th></th>\n",
       "      <th>Week</th>\n",
       "      <th>Year</th>\n",
       "      <th>Site_ID</th>\n",
       "      <th>SKU</th>\n",
       "      <th>Prediction</th>\n",
       "      <th>Turnover</th>\n",
       "    </tr>\n",
       "  </thead>\n",
       "  <tbody>\n",
       "    <tr>\n",
       "      <th>307</th>\n",
       "      <td>46</td>\n",
       "      <td>5</td>\n",
       "      <td>0</td>\n",
       "      <td>0</td>\n",
       "      <td>32.703613</td>\n",
       "      <td>29.900000</td>\n",
       "    </tr>\n",
       "    <tr>\n",
       "      <th>3034</th>\n",
       "      <td>46</td>\n",
       "      <td>5</td>\n",
       "      <td>0</td>\n",
       "      <td>1</td>\n",
       "      <td>20.781631</td>\n",
       "      <td>0.000000</td>\n",
       "    </tr>\n",
       "    <tr>\n",
       "      <th>5409</th>\n",
       "      <td>46</td>\n",
       "      <td>5</td>\n",
       "      <td>0</td>\n",
       "      <td>2</td>\n",
       "      <td>19.651486</td>\n",
       "      <td>0.000000</td>\n",
       "    </tr>\n",
       "    <tr>\n",
       "      <th>8097</th>\n",
       "      <td>46</td>\n",
       "      <td>5</td>\n",
       "      <td>0</td>\n",
       "      <td>3</td>\n",
       "      <td>51.940374</td>\n",
       "      <td>0.000000</td>\n",
       "    </tr>\n",
       "    <tr>\n",
       "      <th>9329</th>\n",
       "      <td>46</td>\n",
       "      <td>5</td>\n",
       "      <td>4</td>\n",
       "      <td>3</td>\n",
       "      <td>49.319050</td>\n",
       "      <td>0.000000</td>\n",
       "    </tr>\n",
       "    <tr>\n",
       "      <th>...</th>\n",
       "      <td>...</td>\n",
       "      <td>...</td>\n",
       "      <td>...</td>\n",
       "      <td>...</td>\n",
       "      <td>...</td>\n",
       "      <td>...</td>\n",
       "    </tr>\n",
       "    <tr>\n",
       "      <th>8414937</th>\n",
       "      <td>46</td>\n",
       "      <td>5</td>\n",
       "      <td>0</td>\n",
       "      <td>8971</td>\n",
       "      <td>100.902334</td>\n",
       "      <td>24.900000</td>\n",
       "    </tr>\n",
       "    <tr>\n",
       "      <th>8414981</th>\n",
       "      <td>46</td>\n",
       "      <td>5</td>\n",
       "      <td>0</td>\n",
       "      <td>8972</td>\n",
       "      <td>100.902334</td>\n",
       "      <td>105.040001</td>\n",
       "    </tr>\n",
       "    <tr>\n",
       "      <th>8415015</th>\n",
       "      <td>46</td>\n",
       "      <td>5</td>\n",
       "      <td>0</td>\n",
       "      <td>8973</td>\n",
       "      <td>100.902334</td>\n",
       "      <td>149.500000</td>\n",
       "    </tr>\n",
       "    <tr>\n",
       "      <th>8415050</th>\n",
       "      <td>46</td>\n",
       "      <td>5</td>\n",
       "      <td>0</td>\n",
       "      <td>8974</td>\n",
       "      <td>100.902334</td>\n",
       "      <td>104.699997</td>\n",
       "    </tr>\n",
       "    <tr>\n",
       "      <th>8415083</th>\n",
       "      <td>46</td>\n",
       "      <td>5</td>\n",
       "      <td>0</td>\n",
       "      <td>8975</td>\n",
       "      <td>100.902334</td>\n",
       "      <td>0.000000</td>\n",
       "    </tr>\n",
       "  </tbody>\n",
       "</table>\n",
       "<p>5859 rows × 6 columns</p>\n",
       "</div>"
      ],
      "text/plain": [
       "        Week Year Site_ID   SKU  Prediction    Turnover\n",
       "307       46    5       0     0   32.703613   29.900000\n",
       "3034      46    5       0     1   20.781631    0.000000\n",
       "5409      46    5       0     2   19.651486    0.000000\n",
       "8097      46    5       0     3   51.940374    0.000000\n",
       "9329      46    5       4     3   49.319050    0.000000\n",
       "...      ...  ...     ...   ...         ...         ...\n",
       "8414937   46    5       0  8971  100.902334   24.900000\n",
       "8414981   46    5       0  8972  100.902334  105.040001\n",
       "8415015   46    5       0  8973  100.902334  149.500000\n",
       "8415050   46    5       0  8974  100.902334  104.699997\n",
       "8415083   46    5       0  8975  100.902334    0.000000\n",
       "\n",
       "[5859 rows x 6 columns]"
      ]
     },
     "execution_count": 329,
     "metadata": {},
     "output_type": "execute_result"
    }
   ],
   "source": [
    "result_df"
   ]
  },
  {
   "cell_type": "markdown",
   "metadata": {},
   "source": [
    "## Class B (Medium Seller)"
   ]
  },
  {
   "cell_type": "code",
   "execution_count": 330,
   "metadata": {
    "ExecuteTime": {
     "end_time": "2021-03-13T12:55:21.951925Z",
     "start_time": "2021-03-13T12:55:21.939957Z"
    }
   },
   "outputs": [],
   "source": [
    "model_params = {\n",
    "    'seed': 10,\n",
    "    'objective': 'poisson',\n",
    "    'metric': 'rmse',\n",
    "    'num_leaves': 2^4,\n",
    "    'max_bin': 1000,\n",
    "    }"
   ]
  },
  {
   "cell_type": "code",
   "execution_count": 331,
   "metadata": {
    "ExecuteTime": {
     "end_time": "2021-03-13T12:55:58.869833Z",
     "start_time": "2021-03-13T12:55:21.953919Z"
    }
   },
   "outputs": [
    {
     "name": "stdout",
     "output_type": "stream",
     "text": [
      "\n",
      "\n",
      "****** 5W45 ******\n",
      "****** Split Criteria: CENSHARE_CAT_1 = 55 ******\n"
     ]
    },
    {
     "name": "stderr",
     "output_type": "stream",
     "text": [
      "c:\\dev\\verteiler\\venv\\lib\\site-packages\\lightgbm\\basic.py:1551: UserWarning: Using categorical_feature in Dataset.\n",
      "  warnings.warn('Using categorical_feature in Dataset.')\n"
     ]
    },
    {
     "name": "stdout",
     "output_type": "stream",
     "text": [
      "[LightGBM] [Warning] Auto-choosing row-wise multi-threading, the overhead of testing was 0.027240 seconds.\n",
      "You can set `force_row_wise=true` to remove the overhead.\n",
      "And if memory is not enough, you can set `force_col_wise=true`.\n",
      "[LightGBM] [Info] Total Bins 7709\n",
      "[LightGBM] [Info] Number of data points in the train set: 1103662, number of used features: 16\n",
      "[LightGBM] [Info] Start training from score 2.730124\n",
      "Training until validation scores don't improve for 20 rounds\n"
     ]
    },
    {
     "name": "stderr",
     "output_type": "stream",
     "text": [
      "c:\\dev\\verteiler\\venv\\lib\\site-packages\\lightgbm\\basic.py:1286: UserWarning: Overriding the parameters from Reference Dataset.\n",
      "  warnings.warn('Overriding the parameters from Reference Dataset.')\n",
      "c:\\dev\\verteiler\\venv\\lib\\site-packages\\lightgbm\\basic.py:1098: UserWarning: categorical_column in param dict is overridden.\n",
      "  warnings.warn('{} in param dict is overridden.'.format(cat_alias))\n"
     ]
    },
    {
     "name": "stdout",
     "output_type": "stream",
     "text": [
      "[25]\ttraining's rmse: 96.6038\tvalid_1's rmse: 77.7573\n",
      "[50]\ttraining's rmse: 70.8069\tvalid_1's rmse: 74.9958\n",
      "[75]\ttraining's rmse: 65.5523\tvalid_1's rmse: 74.779\n",
      "[100]\ttraining's rmse: 63.0611\tvalid_1's rmse: 74.8626\n",
      "Early stopping, best iteration is:\n",
      "[84]\ttraining's rmse: 64.4467\tvalid_1's rmse: 74.7503\n",
      "\n",
      "\n",
      "****** 5W45 ******\n",
      "****** Split Criteria: CENSHARE_CAT_1 = 55 ******\n"
     ]
    },
    {
     "name": "stderr",
     "output_type": "stream",
     "text": [
      "c:\\dev\\verteiler\\venv\\lib\\site-packages\\lightgbm\\basic.py:1551: UserWarning: Using categorical_feature in Dataset.\n",
      "  warnings.warn('Using categorical_feature in Dataset.')\n"
     ]
    },
    {
     "name": "stdout",
     "output_type": "stream",
     "text": [
      "[LightGBM] [Warning] Auto-choosing row-wise multi-threading, the overhead of testing was 0.020121 seconds.\n",
      "You can set `force_row_wise=true` to remove the overhead.\n",
      "And if memory is not enough, you can set `force_col_wise=true`.\n",
      "[LightGBM] [Info] Total Bins 8165\n",
      "[LightGBM] [Info] Number of data points in the train set: 806079, number of used features: 17\n",
      "[LightGBM] [Info] Start training from score 2.751438\n",
      "Training until validation scores don't improve for 20 rounds\n"
     ]
    },
    {
     "name": "stderr",
     "output_type": "stream",
     "text": [
      "c:\\dev\\verteiler\\venv\\lib\\site-packages\\lightgbm\\basic.py:1286: UserWarning: Overriding the parameters from Reference Dataset.\n",
      "  warnings.warn('Overriding the parameters from Reference Dataset.')\n",
      "c:\\dev\\verteiler\\venv\\lib\\site-packages\\lightgbm\\basic.py:1098: UserWarning: categorical_column in param dict is overridden.\n",
      "  warnings.warn('{} in param dict is overridden.'.format(cat_alias))\n"
     ]
    },
    {
     "name": "stdout",
     "output_type": "stream",
     "text": [
      "[25]\ttraining's rmse: 619.953\tvalid_1's rmse: 57.8717\n",
      "[50]\ttraining's rmse: 233.039\tvalid_1's rmse: 57.2782\n",
      "[75]\ttraining's rmse: 142.845\tvalid_1's rmse: 56.9929\n",
      "[100]\ttraining's rmse: 119.597\tvalid_1's rmse: 56.709\n",
      "[125]\ttraining's rmse: 111.181\tvalid_1's rmse: 56.5891\n",
      "[150]\ttraining's rmse: 106.627\tvalid_1's rmse: 56.4987\n",
      "[175]\ttraining's rmse: 102.366\tvalid_1's rmse: 56.43\n",
      "[200]\ttraining's rmse: 99.9546\tvalid_1's rmse: 56.3574\n",
      "Early stopping, best iteration is:\n",
      "[201]\ttraining's rmse: 99.7972\tvalid_1's rmse: 56.3573\n",
      "\n",
      "\n",
      "****** 5W45 ******\n",
      "****** Split Criteria: CENSHARE_CAT_1 = 55 ******\n"
     ]
    },
    {
     "name": "stderr",
     "output_type": "stream",
     "text": [
      "c:\\dev\\verteiler\\venv\\lib\\site-packages\\lightgbm\\basic.py:1551: UserWarning: Using categorical_feature in Dataset.\n",
      "  warnings.warn('Using categorical_feature in Dataset.')\n"
     ]
    },
    {
     "name": "stdout",
     "output_type": "stream",
     "text": [
      "[LightGBM] [Warning] Auto-choosing row-wise multi-threading, the overhead of testing was 0.010744 seconds.\n",
      "You can set `force_row_wise=true` to remove the overhead.\n",
      "And if memory is not enough, you can set `force_col_wise=true`.\n",
      "[LightGBM] [Info] Total Bins 7145\n",
      "[LightGBM] [Info] Number of data points in the train set: 335587, number of used features: 17\n",
      "[LightGBM] [Info] Start training from score 3.162017\n",
      "Training until validation scores don't improve for 20 rounds\n",
      "[25]\ttraining's rmse: 192.243\tvalid_1's rmse: 78.2879\n"
     ]
    },
    {
     "name": "stderr",
     "output_type": "stream",
     "text": [
      "c:\\dev\\verteiler\\venv\\lib\\site-packages\\lightgbm\\basic.py:1286: UserWarning: Overriding the parameters from Reference Dataset.\n",
      "  warnings.warn('Overriding the parameters from Reference Dataset.')\n",
      "c:\\dev\\verteiler\\venv\\lib\\site-packages\\lightgbm\\basic.py:1098: UserWarning: categorical_column in param dict is overridden.\n",
      "  warnings.warn('{} in param dict is overridden.'.format(cat_alias))\n"
     ]
    },
    {
     "name": "stdout",
     "output_type": "stream",
     "text": [
      "Early stopping, best iteration is:\n",
      "[23]\ttraining's rmse: 205.143\tvalid_1's rmse: 78.283\n",
      "\n",
      "\n",
      "****** 5W45 ******\n",
      "****** Split Criteria: CENSHARE_CAT_1 = 55 ******\n"
     ]
    },
    {
     "name": "stderr",
     "output_type": "stream",
     "text": [
      "c:\\dev\\verteiler\\venv\\lib\\site-packages\\lightgbm\\basic.py:1551: UserWarning: Using categorical_feature in Dataset.\n",
      "  warnings.warn('Using categorical_feature in Dataset.')\n"
     ]
    },
    {
     "name": "stdout",
     "output_type": "stream",
     "text": [
      "[LightGBM] [Warning] Auto-choosing row-wise multi-threading, the overhead of testing was 0.018300 seconds.\n",
      "You can set `force_row_wise=true` to remove the overhead.\n",
      "And if memory is not enough, you can set `force_col_wise=true`.\n",
      "[LightGBM] [Info] Total Bins 5371\n",
      "[LightGBM] [Info] Number of data points in the train set: 530100, number of used features: 17\n",
      "[LightGBM] [Info] Start training from score 1.568485\n",
      "Training until validation scores don't improve for 20 rounds\n"
     ]
    },
    {
     "name": "stderr",
     "output_type": "stream",
     "text": [
      "c:\\dev\\verteiler\\venv\\lib\\site-packages\\lightgbm\\basic.py:1286: UserWarning: Overriding the parameters from Reference Dataset.\n",
      "  warnings.warn('Overriding the parameters from Reference Dataset.')\n",
      "c:\\dev\\verteiler\\venv\\lib\\site-packages\\lightgbm\\basic.py:1098: UserWarning: categorical_column in param dict is overridden.\n",
      "  warnings.warn('{} in param dict is overridden.'.format(cat_alias))\n"
     ]
    },
    {
     "name": "stdout",
     "output_type": "stream",
     "text": [
      "[25]\ttraining's rmse: 15.8048\tvalid_1's rmse: 27.1058\n",
      "[50]\ttraining's rmse: 15.4347\tvalid_1's rmse: 26.6505\n",
      "[75]\ttraining's rmse: 15.2713\tvalid_1's rmse: 26.6287\n",
      "[100]\ttraining's rmse: 15.1817\tvalid_1's rmse: 26.6133\n",
      "Early stopping, best iteration is:\n",
      "[97]\ttraining's rmse: 15.1887\tvalid_1's rmse: 26.6102\n",
      "\n",
      "\n",
      "****** 5W45 ******\n",
      "****** Split Criteria: CENSHARE_CAT_1 = 55 ******\n"
     ]
    },
    {
     "name": "stderr",
     "output_type": "stream",
     "text": [
      "c:\\dev\\verteiler\\venv\\lib\\site-packages\\lightgbm\\basic.py:1551: UserWarning: Using categorical_feature in Dataset.\n",
      "  warnings.warn('Using categorical_feature in Dataset.')\n",
      "c:\\dev\\verteiler\\venv\\lib\\site-packages\\lightgbm\\basic.py:1286: UserWarning: Overriding the parameters from Reference Dataset.\n",
      "  warnings.warn('Overriding the parameters from Reference Dataset.')\n",
      "c:\\dev\\verteiler\\venv\\lib\\site-packages\\lightgbm\\basic.py:1098: UserWarning: categorical_column in param dict is overridden.\n",
      "  warnings.warn('{} in param dict is overridden.'.format(cat_alias))\n"
     ]
    },
    {
     "name": "stdout",
     "output_type": "stream",
     "text": [
      "[LightGBM] [Warning] Auto-choosing row-wise multi-threading, the overhead of testing was 0.000401 seconds.\n",
      "You can set `force_row_wise=true` to remove the overhead.\n",
      "And if memory is not enough, you can set `force_col_wise=true`.\n",
      "[LightGBM] [Info] Total Bins 456\n",
      "[LightGBM] [Info] Number of data points in the train set: 7979, number of used features: 14\n",
      "[LightGBM] [Info] Start training from score 2.008689\n",
      "Training until validation scores don't improve for 20 rounds\n",
      "[25]\ttraining's rmse: 18.0254\tvalid_1's rmse: 27.8174\n",
      "[50]\ttraining's rmse: 17.4636\tvalid_1's rmse: 28.0553\n",
      "Early stopping, best iteration is:\n",
      "[30]\ttraining's rmse: 17.8742\tvalid_1's rmse: 27.736\n",
      "\n",
      "\n",
      "****** 5W45 ******\n",
      "****** Split Criteria: CENSHARE_CAT_1 = 55 ******\n"
     ]
    },
    {
     "name": "stderr",
     "output_type": "stream",
     "text": [
      "c:\\dev\\verteiler\\venv\\lib\\site-packages\\lightgbm\\basic.py:1551: UserWarning: Using categorical_feature in Dataset.\n",
      "  warnings.warn('Using categorical_feature in Dataset.')\n"
     ]
    },
    {
     "name": "stdout",
     "output_type": "stream",
     "text": [
      "[LightGBM] [Warning] Auto-choosing row-wise multi-threading, the overhead of testing was 0.006142 seconds.\n",
      "You can set `force_row_wise=true` to remove the overhead.\n",
      "And if memory is not enough, you can set `force_col_wise=true`.\n",
      "[LightGBM] [Info] Total Bins 7108\n",
      "[LightGBM] [Info] Number of data points in the train set: 182930, number of used features: 16\n",
      "[LightGBM] [Info] Start training from score 3.755011\n",
      "Training until validation scores don't improve for 20 rounds\n",
      "[25]\ttraining's rmse: 180.67\tvalid_1's rmse: 100.533\n",
      "Early stopping, best iteration is:\n",
      "[10]\ttraining's rmse: 184.262\tvalid_1's rmse: 99.0212\n",
      "\n",
      "\n",
      "****** 5W45 ******\n",
      "****** Split Criteria: CENSHARE_CAT_1 = 55 ******\n"
     ]
    },
    {
     "name": "stderr",
     "output_type": "stream",
     "text": [
      "c:\\dev\\verteiler\\venv\\lib\\site-packages\\lightgbm\\basic.py:1286: UserWarning: Overriding the parameters from Reference Dataset.\n",
      "  warnings.warn('Overriding the parameters from Reference Dataset.')\n",
      "c:\\dev\\verteiler\\venv\\lib\\site-packages\\lightgbm\\basic.py:1098: UserWarning: categorical_column in param dict is overridden.\n",
      "  warnings.warn('{} in param dict is overridden.'.format(cat_alias))\n",
      "c:\\dev\\verteiler\\venv\\lib\\site-packages\\lightgbm\\basic.py:1551: UserWarning: Using categorical_feature in Dataset.\n",
      "  warnings.warn('Using categorical_feature in Dataset.')\n"
     ]
    },
    {
     "name": "stdout",
     "output_type": "stream",
     "text": [
      "[LightGBM] [Warning] Auto-choosing row-wise multi-threading, the overhead of testing was 0.009335 seconds.\n",
      "You can set `force_row_wise=true` to remove the overhead.\n",
      "And if memory is not enough, you can set `force_col_wise=true`.\n",
      "[LightGBM] [Info] Total Bins 6858\n",
      "[LightGBM] [Info] Number of data points in the train set: 339093, number of used features: 16\n",
      "[LightGBM] [Info] Start training from score 2.772080\n",
      "Training until validation scores don't improve for 20 rounds\n",
      "[25]\ttraining's rmse: 55.27\tvalid_1's rmse: 44.6985\n"
     ]
    },
    {
     "name": "stderr",
     "output_type": "stream",
     "text": [
      "c:\\dev\\verteiler\\venv\\lib\\site-packages\\lightgbm\\basic.py:1286: UserWarning: Overriding the parameters from Reference Dataset.\n",
      "  warnings.warn('Overriding the parameters from Reference Dataset.')\n",
      "c:\\dev\\verteiler\\venv\\lib\\site-packages\\lightgbm\\basic.py:1098: UserWarning: categorical_column in param dict is overridden.\n",
      "  warnings.warn('{} in param dict is overridden.'.format(cat_alias))\n"
     ]
    },
    {
     "name": "stdout",
     "output_type": "stream",
     "text": [
      "Early stopping, best iteration is:\n",
      "[29]\ttraining's rmse: 55.1513\tvalid_1's rmse: 44.6817\n",
      "\n",
      "\n",
      "****** 5W45 ******\n",
      "****** Split Criteria: CENSHARE_CAT_1 = 55 ******\n"
     ]
    },
    {
     "name": "stderr",
     "output_type": "stream",
     "text": [
      "c:\\dev\\verteiler\\venv\\lib\\site-packages\\lightgbm\\basic.py:1551: UserWarning: Using categorical_feature in Dataset.\n",
      "  warnings.warn('Using categorical_feature in Dataset.')\n",
      "c:\\dev\\verteiler\\venv\\lib\\site-packages\\lightgbm\\basic.py:1286: UserWarning: Overriding the parameters from Reference Dataset.\n",
      "  warnings.warn('Overriding the parameters from Reference Dataset.')\n",
      "c:\\dev\\verteiler\\venv\\lib\\site-packages\\lightgbm\\basic.py:1098: UserWarning: categorical_column in param dict is overridden.\n",
      "  warnings.warn('{} in param dict is overridden.'.format(cat_alias))\n"
     ]
    },
    {
     "name": "stdout",
     "output_type": "stream",
     "text": [
      "[LightGBM] [Warning] Auto-choosing row-wise multi-threading, the overhead of testing was 0.000923 seconds.\n",
      "You can set `force_row_wise=true` to remove the overhead.\n",
      "And if memory is not enough, you can set `force_col_wise=true`.\n",
      "[LightGBM] [Info] Total Bins 1533\n",
      "[LightGBM] [Info] Number of data points in the train set: 15493, number of used features: 15\n",
      "[LightGBM] [Info] Start training from score 2.762273\n",
      "Training until validation scores don't improve for 20 rounds\n",
      "Early stopping, best iteration is:\n",
      "[1]\ttraining's rmse: 58.3747\tvalid_1's rmse: 18.4365\n",
      "\n",
      "\n",
      "****** 5W45 ******\n",
      "****** Split Criteria: CENSHARE_CAT_1 = 55 ******\n"
     ]
    },
    {
     "name": "stderr",
     "output_type": "stream",
     "text": [
      "c:\\dev\\verteiler\\venv\\lib\\site-packages\\lightgbm\\basic.py:1551: UserWarning: Using categorical_feature in Dataset.\n",
      "  warnings.warn('Using categorical_feature in Dataset.')\n",
      "c:\\dev\\verteiler\\venv\\lib\\site-packages\\lightgbm\\basic.py:1286: UserWarning: Overriding the parameters from Reference Dataset.\n",
      "  warnings.warn('Overriding the parameters from Reference Dataset.')\n",
      "c:\\dev\\verteiler\\venv\\lib\\site-packages\\lightgbm\\basic.py:1098: UserWarning: categorical_column in param dict is overridden.\n",
      "  warnings.warn('{} in param dict is overridden.'.format(cat_alias))\n"
     ]
    },
    {
     "name": "stdout",
     "output_type": "stream",
     "text": [
      "[LightGBM] [Warning] Auto-choosing row-wise multi-threading, the overhead of testing was 0.004032 seconds.\n",
      "You can set `force_row_wise=true` to remove the overhead.\n",
      "And if memory is not enough, you can set `force_col_wise=true`.\n",
      "[LightGBM] [Info] Total Bins 5597\n",
      "[LightGBM] [Info] Number of data points in the train set: 139588, number of used features: 15\n",
      "[LightGBM] [Info] Start training from score 2.657775\n",
      "Training until validation scores don't improve for 20 rounds\n",
      "[25]\ttraining's rmse: 51.3226\tvalid_1's rmse: 68.9511\n",
      "[50]\ttraining's rmse: 50.7384\tvalid_1's rmse: 67.7804\n",
      "[75]\ttraining's rmse: 50.2883\tvalid_1's rmse: 67.1849\n",
      "[100]\ttraining's rmse: 49.9807\tvalid_1's rmse: 66.9637\n",
      "Early stopping, best iteration is:\n",
      "[101]\ttraining's rmse: 49.977\tvalid_1's rmse: 66.9574\n",
      "\n",
      "\n",
      "****** 5W45 ******\n",
      "****** Split Criteria: CENSHARE_CAT_1 = 55 ******\n"
     ]
    },
    {
     "name": "stderr",
     "output_type": "stream",
     "text": [
      "c:\\dev\\verteiler\\venv\\lib\\site-packages\\lightgbm\\basic.py:1551: UserWarning: Using categorical_feature in Dataset.\n",
      "  warnings.warn('Using categorical_feature in Dataset.')\n",
      "c:\\dev\\verteiler\\venv\\lib\\site-packages\\lightgbm\\basic.py:1286: UserWarning: Overriding the parameters from Reference Dataset.\n",
      "  warnings.warn('Overriding the parameters from Reference Dataset.')\n",
      "c:\\dev\\verteiler\\venv\\lib\\site-packages\\lightgbm\\basic.py:1098: UserWarning: categorical_column in param dict is overridden.\n",
      "  warnings.warn('{} in param dict is overridden.'.format(cat_alias))\n"
     ]
    },
    {
     "name": "stdout",
     "output_type": "stream",
     "text": [
      "[LightGBM] [Warning] Auto-choosing row-wise multi-threading, the overhead of testing was 0.000242 seconds.\n",
      "You can set `force_row_wise=true` to remove the overhead.\n",
      "And if memory is not enough, you can set `force_col_wise=true`.\n",
      "[LightGBM] [Info] Total Bins 271\n",
      "[LightGBM] [Info] Number of data points in the train set: 4198, number of used features: 14\n",
      "[LightGBM] [Info] Start training from score 3.468169\n",
      "Training until validation scores don't improve for 20 rounds\n",
      "[25]\ttraining's rmse: 86.1886\tvalid_1's rmse: 72.8195\n",
      "Early stopping, best iteration is:\n",
      "[6]\ttraining's rmse: 90.961\tvalid_1's rmse: 71.2156\n",
      "\n",
      "\n",
      "****** 5W45 ******\n",
      "****** Split Criteria: CENSHARE_CAT_1 = 55 ******\n"
     ]
    },
    {
     "name": "stderr",
     "output_type": "stream",
     "text": [
      "c:\\dev\\verteiler\\venv\\lib\\site-packages\\lightgbm\\basic.py:1551: UserWarning: Using categorical_feature in Dataset.\n",
      "  warnings.warn('Using categorical_feature in Dataset.')\n",
      "c:\\dev\\verteiler\\venv\\lib\\site-packages\\lightgbm\\basic.py:1286: UserWarning: Overriding the parameters from Reference Dataset.\n",
      "  warnings.warn('Overriding the parameters from Reference Dataset.')\n",
      "c:\\dev\\verteiler\\venv\\lib\\site-packages\\lightgbm\\basic.py:1098: UserWarning: categorical_column in param dict is overridden.\n",
      "  warnings.warn('{} in param dict is overridden.'.format(cat_alias))\n"
     ]
    },
    {
     "name": "stdout",
     "output_type": "stream",
     "text": [
      "[LightGBM] [Warning] Auto-choosing row-wise multi-threading, the overhead of testing was 0.000969 seconds.\n",
      "You can set `force_row_wise=true` to remove the overhead.\n",
      "And if memory is not enough, you can set `force_col_wise=true`.\n",
      "[LightGBM] [Info] Total Bins 1355\n",
      "[LightGBM] [Info] Number of data points in the train set: 24741, number of used features: 16\n",
      "[LightGBM] [Info] Start training from score 2.515129\n",
      "Training until validation scores don't improve for 20 rounds\n",
      "[25]\ttraining's rmse: 44.2495\tvalid_1's rmse: 108.213\n",
      "[50]\ttraining's rmse: 41.9786\tvalid_1's rmse: 107.869\n",
      "[75]\ttraining's rmse: 40.4402\tvalid_1's rmse: 107.903\n",
      "Early stopping, best iteration is:\n",
      "[55]\ttraining's rmse: 41.6214\tvalid_1's rmse: 107.814\n",
      "\n",
      "\n",
      "****** 5W45 ******\n",
      "****** Split Criteria: CENSHARE_CAT_1 = 55 ******\n"
     ]
    },
    {
     "name": "stderr",
     "output_type": "stream",
     "text": [
      "c:\\dev\\verteiler\\venv\\lib\\site-packages\\lightgbm\\basic.py:1551: UserWarning: Using categorical_feature in Dataset.\n",
      "  warnings.warn('Using categorical_feature in Dataset.')\n"
     ]
    },
    {
     "name": "stdout",
     "output_type": "stream",
     "text": [
      "[LightGBM] [Warning] Auto-choosing row-wise multi-threading, the overhead of testing was 0.004150 seconds.\n",
      "You can set `force_row_wise=true` to remove the overhead.\n",
      "And if memory is not enough, you can set `force_col_wise=true`.\n",
      "[LightGBM] [Info] Total Bins 2530\n",
      "[LightGBM] [Info] Number of data points in the train set: 157551, number of used features: 14\n",
      "[LightGBM] [Info] Start training from score 2.299678\n",
      "Training until validation scores don't improve for 20 rounds\n",
      "[25]\ttraining's rmse: 25.6093\tvalid_1's rmse: 27.2915\n",
      "[50]\ttraining's rmse: 25.3225\tvalid_1's rmse: 27.0001\n",
      "[75]\ttraining's rmse: 25.1967\tvalid_1's rmse: 26.8577\n"
     ]
    },
    {
     "name": "stderr",
     "output_type": "stream",
     "text": [
      "c:\\dev\\verteiler\\venv\\lib\\site-packages\\lightgbm\\basic.py:1286: UserWarning: Overriding the parameters from Reference Dataset.\n",
      "  warnings.warn('Overriding the parameters from Reference Dataset.')\n",
      "c:\\dev\\verteiler\\venv\\lib\\site-packages\\lightgbm\\basic.py:1098: UserWarning: categorical_column in param dict is overridden.\n",
      "  warnings.warn('{} in param dict is overridden.'.format(cat_alias))\n"
     ]
    },
    {
     "name": "stdout",
     "output_type": "stream",
     "text": [
      "[100]\ttraining's rmse: 24.9633\tvalid_1's rmse: 26.7698\n",
      "[125]\ttraining's rmse: 24.7605\tvalid_1's rmse: 26.6946\n",
      "[150]\ttraining's rmse: 24.5801\tvalid_1's rmse: 26.6657\n",
      "[175]\ttraining's rmse: 24.4126\tvalid_1's rmse: 26.638\n",
      "[200]\ttraining's rmse: 24.2272\tvalid_1's rmse: 26.6386\n",
      "Early stopping, best iteration is:\n",
      "[183]\ttraining's rmse: 24.3512\tvalid_1's rmse: 26.6279\n",
      "\n",
      "\n",
      "****** 5W45 ******\n",
      "****** Split Criteria: CENSHARE_CAT_1 = 55 ******\n"
     ]
    },
    {
     "name": "stderr",
     "output_type": "stream",
     "text": [
      "c:\\dev\\verteiler\\venv\\lib\\site-packages\\lightgbm\\basic.py:1551: UserWarning: Using categorical_feature in Dataset.\n",
      "  warnings.warn('Using categorical_feature in Dataset.')\n",
      "c:\\dev\\verteiler\\venv\\lib\\site-packages\\lightgbm\\basic.py:1286: UserWarning: Overriding the parameters from Reference Dataset.\n",
      "  warnings.warn('Overriding the parameters from Reference Dataset.')\n",
      "c:\\dev\\verteiler\\venv\\lib\\site-packages\\lightgbm\\basic.py:1098: UserWarning: categorical_column in param dict is overridden.\n",
      "  warnings.warn('{} in param dict is overridden.'.format(cat_alias))\n"
     ]
    },
    {
     "name": "stdout",
     "output_type": "stream",
     "text": [
      "[LightGBM] [Warning] Auto-choosing row-wise multi-threading, the overhead of testing was 0.001165 seconds.\n",
      "You can set `force_row_wise=true` to remove the overhead.\n",
      "And if memory is not enough, you can set `force_col_wise=true`.\n",
      "[LightGBM] [Info] Total Bins 2497\n",
      "[LightGBM] [Info] Number of data points in the train set: 37536, number of used features: 15\n",
      "[LightGBM] [Info] Start training from score 2.971364\n",
      "Training until validation scores don't improve for 20 rounds\n",
      "[25]\ttraining's rmse: 82.883\tvalid_1's rmse: 139.676\n",
      "[50]\ttraining's rmse: 79.2945\tvalid_1's rmse: 137.564\n",
      "[75]\ttraining's rmse: 77.1883\tvalid_1's rmse: 137.516\n",
      "Early stopping, best iteration is:\n",
      "[62]\ttraining's rmse: 78.2009\tvalid_1's rmse: 137.105\n",
      "\n",
      "\n",
      "****** 5W45 ******\n",
      "****** Split Criteria: CENSHARE_CAT_1 = 55 ******\n"
     ]
    },
    {
     "name": "stderr",
     "output_type": "stream",
     "text": [
      "c:\\dev\\verteiler\\venv\\lib\\site-packages\\lightgbm\\basic.py:1551: UserWarning: Using categorical_feature in Dataset.\n",
      "  warnings.warn('Using categorical_feature in Dataset.')\n",
      "c:\\dev\\verteiler\\venv\\lib\\site-packages\\lightgbm\\basic.py:1286: UserWarning: Overriding the parameters from Reference Dataset.\n",
      "  warnings.warn('Overriding the parameters from Reference Dataset.')\n",
      "c:\\dev\\verteiler\\venv\\lib\\site-packages\\lightgbm\\basic.py:1098: UserWarning: categorical_column in param dict is overridden.\n",
      "  warnings.warn('{} in param dict is overridden.'.format(cat_alias))\n"
     ]
    },
    {
     "name": "stdout",
     "output_type": "stream",
     "text": [
      "[LightGBM] [Warning] Auto-choosing row-wise multi-threading, the overhead of testing was 0.002145 seconds.\n",
      "You can set `force_row_wise=true` to remove the overhead.\n",
      "And if memory is not enough, you can set `force_col_wise=true`.\n",
      "[LightGBM] [Info] Total Bins 3403\n",
      "[LightGBM] [Info] Number of data points in the train set: 79749, number of used features: 15\n",
      "[LightGBM] [Info] Start training from score 4.127625\n",
      "Training until validation scores don't improve for 20 rounds\n",
      "[25]\ttraining's rmse: 213.506\tvalid_1's rmse: 81.5638\n",
      "Early stopping, best iteration is:\n",
      "[18]\ttraining's rmse: 215.742\tvalid_1's rmse: 81.1713\n",
      "\n",
      "\n",
      "****** 5W45 ******\n",
      "****** Split Criteria: CENSHARE_CAT_1 = 55 ******\n"
     ]
    },
    {
     "name": "stderr",
     "output_type": "stream",
     "text": [
      "c:\\dev\\verteiler\\venv\\lib\\site-packages\\lightgbm\\basic.py:1551: UserWarning: Using categorical_feature in Dataset.\n",
      "  warnings.warn('Using categorical_feature in Dataset.')\n",
      "c:\\dev\\verteiler\\venv\\lib\\site-packages\\lightgbm\\basic.py:1286: UserWarning: Overriding the parameters from Reference Dataset.\n",
      "  warnings.warn('Overriding the parameters from Reference Dataset.')\n",
      "c:\\dev\\verteiler\\venv\\lib\\site-packages\\lightgbm\\basic.py:1098: UserWarning: categorical_column in param dict is overridden.\n",
      "  warnings.warn('{} in param dict is overridden.'.format(cat_alias))\n"
     ]
    },
    {
     "name": "stdout",
     "output_type": "stream",
     "text": [
      "[LightGBM] [Warning] Auto-choosing row-wise multi-threading, the overhead of testing was 0.000504 seconds.\n",
      "You can set `force_row_wise=true` to remove the overhead.\n",
      "And if memory is not enough, you can set `force_col_wise=true`.\n",
      "[LightGBM] [Info] Total Bins 286\n",
      "[LightGBM] [Info] Number of data points in the train set: 15267, number of used features: 11\n",
      "[LightGBM] [Info] Start training from score 2.337994\n",
      "Training until validation scores don't improve for 20 rounds\n",
      "[25]\ttraining's rmse: 23.6845\tvalid_1's rmse: 11.3964\n",
      "[50]\ttraining's rmse: 23.2641\tvalid_1's rmse: 10.753\n",
      "[75]\ttraining's rmse: 23.0282\tvalid_1's rmse: 10.3935\n",
      "[100]\ttraining's rmse: 22.8706\tvalid_1's rmse: 10.2475\n",
      "[125]\ttraining's rmse: 22.7145\tvalid_1's rmse: 10.1958\n",
      "[150]\ttraining's rmse: 22.5994\tvalid_1's rmse: 10.1469\n",
      "[175]\ttraining's rmse: 22.4794\tvalid_1's rmse: 10.1419\n",
      "Early stopping, best iteration is:\n",
      "[167]\ttraining's rmse: 22.522\tvalid_1's rmse: 10.1115\n",
      "\n",
      "\n",
      "****** 5W45 ******\n",
      "****** Split Criteria: CENSHARE_CAT_1 = 55 ******\n"
     ]
    },
    {
     "name": "stderr",
     "output_type": "stream",
     "text": [
      "c:\\dev\\verteiler\\venv\\lib\\site-packages\\lightgbm\\basic.py:1551: UserWarning: Using categorical_feature in Dataset.\n",
      "  warnings.warn('Using categorical_feature in Dataset.')\n",
      "c:\\dev\\verteiler\\venv\\lib\\site-packages\\lightgbm\\basic.py:1286: UserWarning: Overriding the parameters from Reference Dataset.\n",
      "  warnings.warn('Overriding the parameters from Reference Dataset.')\n",
      "c:\\dev\\verteiler\\venv\\lib\\site-packages\\lightgbm\\basic.py:1098: UserWarning: categorical_column in param dict is overridden.\n",
      "  warnings.warn('{} in param dict is overridden.'.format(cat_alias))\n"
     ]
    },
    {
     "name": "stdout",
     "output_type": "stream",
     "text": [
      "[LightGBM] [Warning] Auto-choosing row-wise multi-threading, the overhead of testing was 0.000223 seconds.\n",
      "You can set `force_row_wise=true` to remove the overhead.\n",
      "And if memory is not enough, you can set `force_col_wise=true`.\n",
      "[LightGBM] [Info] Total Bins 155\n",
      "[LightGBM] [Info] Number of data points in the train set: 1840, number of used features: 10\n",
      "[LightGBM] [Info] Start training from score 1.587117\n",
      "Training until validation scores don't improve for 20 rounds\n",
      "[25]\ttraining's rmse: 11.1139\tvalid_1's rmse: 8.9531\n",
      "Early stopping, best iteration is:\n",
      "[6]\ttraining's rmse: 11.8249\tvalid_1's rmse: 8.55374\n",
      "\n",
      "\n",
      "****** 5W45 ******\n",
      "****** Split Criteria: CENSHARE_CAT_1 = 55 ******\n"
     ]
    },
    {
     "name": "stderr",
     "output_type": "stream",
     "text": [
      "c:\\dev\\verteiler\\venv\\lib\\site-packages\\lightgbm\\basic.py:1551: UserWarning: Using categorical_feature in Dataset.\n",
      "  warnings.warn('Using categorical_feature in Dataset.')\n",
      "c:\\dev\\verteiler\\venv\\lib\\site-packages\\lightgbm\\basic.py:1286: UserWarning: Overriding the parameters from Reference Dataset.\n",
      "  warnings.warn('Overriding the parameters from Reference Dataset.')\n",
      "c:\\dev\\verteiler\\venv\\lib\\site-packages\\lightgbm\\basic.py:1098: UserWarning: categorical_column in param dict is overridden.\n",
      "  warnings.warn('{} in param dict is overridden.'.format(cat_alias))\n"
     ]
    },
    {
     "name": "stdout",
     "output_type": "stream",
     "text": [
      "[LightGBM] [Warning] Auto-choosing row-wise multi-threading, the overhead of testing was 0.000097 seconds.\n",
      "You can set `force_row_wise=true` to remove the overhead.\n",
      "And if memory is not enough, you can set `force_col_wise=true`.\n",
      "[LightGBM] [Info] Total Bins 117\n",
      "[LightGBM] [Info] Number of data points in the train set: 276, number of used features: 10\n",
      "[LightGBM] [Info] Start training from score 3.800670\n",
      "Training until validation scores don't improve for 20 rounds\n",
      "[25]\ttraining's rmse: 126.84\tvalid_1's rmse: 189.828\n",
      "[50]\ttraining's rmse: 123.319\tvalid_1's rmse: 170.793\n",
      "[75]\ttraining's rmse: 121.644\tvalid_1's rmse: 146.562\n",
      "[100]\ttraining's rmse: 120.556\tvalid_1's rmse: 139.988\n",
      "[125]\ttraining's rmse: 119.218\tvalid_1's rmse: 133.266\n",
      "[150]\ttraining's rmse: 117.87\tvalid_1's rmse: 121.707\n",
      "[175]\ttraining's rmse: 116.936\tvalid_1's rmse: 118.411\n",
      "[200]\ttraining's rmse: 116.058\tvalid_1's rmse: 113.968\n",
      "[225]\ttraining's rmse: 115.39\tvalid_1's rmse: 113.153\n",
      "[250]\ttraining's rmse: 114.711\tvalid_1's rmse: 111.946\n",
      "Early stopping, best iteration is:\n",
      "[242]\ttraining's rmse: 114.993\tvalid_1's rmse: 111.941\n",
      "\n",
      "\n",
      "****** 5W45 ******\n",
      "****** Split Criteria: CENSHARE_CAT_1 = 55 ******\n"
     ]
    },
    {
     "name": "stderr",
     "output_type": "stream",
     "text": [
      "c:\\dev\\verteiler\\venv\\lib\\site-packages\\lightgbm\\basic.py:1551: UserWarning: Using categorical_feature in Dataset.\n",
      "  warnings.warn('Using categorical_feature in Dataset.')\n",
      "c:\\dev\\verteiler\\venv\\lib\\site-packages\\lightgbm\\basic.py:1286: UserWarning: Overriding the parameters from Reference Dataset.\n",
      "  warnings.warn('Overriding the parameters from Reference Dataset.')\n",
      "c:\\dev\\verteiler\\venv\\lib\\site-packages\\lightgbm\\basic.py:1098: UserWarning: categorical_column in param dict is overridden.\n",
      "  warnings.warn('{} in param dict is overridden.'.format(cat_alias))\n"
     ]
    },
    {
     "name": "stdout",
     "output_type": "stream",
     "text": [
      "[LightGBM] [Warning] Auto-choosing row-wise multi-threading, the overhead of testing was 0.000088 seconds.\n",
      "You can set `force_row_wise=true` to remove the overhead.\n",
      "And if memory is not enough, you can set `force_col_wise=true`.\n",
      "[LightGBM] [Info] Total Bins 86\n",
      "[LightGBM] [Info] Number of data points in the train set: 196, number of used features: 8\n",
      "[LightGBM] [Info] Start training from score 1.807954\n",
      "[LightGBM] [Warning] No further splits with positive gain, best gain: -inf\n",
      "Training until validation scores don't improve for 20 rounds\n",
      "[LightGBM] [Warning] No further splits with positive gain, best gain: -inf\n",
      "[LightGBM] [Warning] No further splits with positive gain, best gain: -inf\n",
      "[LightGBM] [Warning] No further splits with positive gain, best gain: -inf\n",
      "[LightGBM] [Warning] No further splits with positive gain, best gain: -inf\n",
      "[LightGBM] [Warning] No further splits with positive gain, best gain: -inf\n",
      "[LightGBM] [Warning] No further splits with positive gain, best gain: -inf\n",
      "[LightGBM] [Warning] No further splits with positive gain, best gain: -inf\n",
      "[LightGBM] [Warning] No further splits with positive gain, best gain: -inf\n",
      "[LightGBM] [Warning] No further splits with positive gain, best gain: -inf\n",
      "[LightGBM] [Warning] No further splits with positive gain, best gain: -inf\n",
      "[LightGBM] [Warning] No further splits with positive gain, best gain: -inf\n",
      "[LightGBM] [Warning] No further splits with positive gain, best gain: -inf\n",
      "[LightGBM] [Warning] No further splits with positive gain, best gain: -inf\n",
      "[LightGBM] [Warning] No further splits with positive gain, best gain: -inf\n",
      "[LightGBM] [Warning] No further splits with positive gain, best gain: -inf\n",
      "[LightGBM] [Warning] No further splits with positive gain, best gain: -inf\n",
      "[LightGBM] [Warning] No further splits with positive gain, best gain: -inf\n",
      "Early stopping, best iteration is:\n",
      "[1]\ttraining's rmse: 13.9065\tvalid_1's rmse: 10.7847\n",
      "\n",
      "\n",
      "****** 5W45 ******\n",
      "****** Split Criteria: CENSHARE_CAT_1 = 55 ******\n"
     ]
    }
   ],
   "source": [
    "rmse = []\n",
    "\n",
    "\n",
    "\n",
    "save_models = False\n",
    "\n",
    "for week, year in splits:\n",
    "    for split in df[split_criteria].drop_duplicates():\n",
    "        print(f'\\n\\n****** {year}W{week} ******')\n",
    "        print(f'****** Split Criteria: {split_criteria} = {i} ******')\n",
    "        \n",
    "        df_class = df.loc[df.Classification == 'B'].loc[df[split_criteria] == split].copy()\n",
    "        if df_class.empty:\n",
    "            continue\n",
    "        \n",
    "        evals_result = {}\n",
    "\n",
    "        week=int(week)\n",
    "        year=int(year)\n",
    "\n",
    "        # Train data: same year and past week OR past year\n",
    "        x_train = df_class.loc[((df_class.Year == (Week(year, week))[0]) & (df_class.Week <= (Week(year, week))[1])) | (df_class.Year < (Week(year, week))[0])][features]\n",
    "        y_train = df_class.loc[((df_class.Year == (Week(year, week))[0]) & (df_class.Week <= (Week(year, week))[1])) | (df_class.Year < (Week(year, week))[0])][target_variable]\n",
    "\n",
    "        x_test = df_class.loc[df_class.Year == (Week(year, week)+1)[0]].loc[df_class.Week == (Week(year, week)+1)[1]][features]\n",
    "        y_test = df_class.loc[df_class.Year == (Week(year, week)+1)[0]].loc[df_class.Week == (Week(year, week)+1)[1]][target_variable]\n",
    "\n",
    "\n",
    "\n",
    "        train_data = lgb.Dataset(x_train, label=y_train,\n",
    "                                 categorical_feature=cat_features, free_raw_data=False,\n",
    "                               )\n",
    "        validation_data = lgb.Dataset(\n",
    "            x_test, label=y_test, categorical_feature=cat_features, free_raw_data=False, reference=train_data,\n",
    "        )\n",
    "\n",
    "\n",
    "\n",
    "        gbm = lgb.train(model_params, train_data, valid_sets=[train_data, validation_data],\n",
    "                        evals_result=evals_result, num_boost_round=1000,\n",
    "                        verbose_eval=25, early_stopping_rounds=20,\n",
    "                       )\n",
    "\n",
    "\n",
    "        y_pred = gbm.predict(x_test, num_iteration=gbm.best_iteration)\n",
    "\n",
    "\n",
    "        if save_models:\n",
    "            print('log: save model and evals result')\n",
    "            gbm.save_model(path_models + f'gbm_{year}w{week}.txt', num_iteration=gbm.best_iteration) \n",
    "\n",
    "            evals_result_p = open(path_models+ f'evals_result_{year}w{week}.pkl', 'wb')\n",
    "            pickle.dump(evals_result, evals_result_p)\n",
    "            evals_result_p.close()\n",
    "\n",
    "        rmse.append(mean_squared_error(y_test, y_pred, squared=False))\n",
    "        \n",
    "        # Gather results of this article category and store them in general result_df\n",
    "        result_class = x_test[['Week', 'Year', 'Site_ID', 'SKU']].copy()\n",
    "        result_class[target_variable] = list(y_test)\n",
    "        result_class['Prediction'] = list(y_pred)\n",
    "\n",
    "\n",
    "        result_df = result_df.append(result_class)"
   ]
  },
  {
   "cell_type": "code",
   "execution_count": 332,
   "metadata": {
    "ExecuteTime": {
     "end_time": "2021-03-13T12:55:58.885016Z",
     "start_time": "2021-03-13T12:55:58.870834Z"
    }
   },
   "outputs": [
    {
     "name": "stdout",
     "output_type": "stream",
     "text": [
      "RMSE:\n",
      " [74.75026918780104, 56.35733307266125, 78.28296674620732, 26.610183699363986, 27.73596691864162, 99.02124361675186, 44.68166816775861, 18.436501883107216, 66.95742136216359, 71.21558647327535, 107.8139886171353, 26.62794101908916, 137.1049259415494, 81.17128065292346, 10.111456099854431, 8.55374358654319, 111.94088355268073, 10.784700772270257]\n",
      "\n",
      "Crossvalidated RMSE:  58.78655896498766\n"
     ]
    }
   ],
   "source": [
    "print('RMSE:\\n', rmse)\n",
    "    \n",
    "print('\\nCrossvalidated RMSE: ', np.mean(rmse))"
   ]
  },
  {
   "cell_type": "code",
   "execution_count": 333,
   "metadata": {
    "ExecuteTime": {
     "end_time": "2021-03-13T12:55:58.900988Z",
     "start_time": "2021-03-13T12:55:58.886976Z"
    }
   },
   "outputs": [
    {
     "data": {
      "text/html": [
       "<div>\n",
       "<style scoped>\n",
       "    .dataframe tbody tr th:only-of-type {\n",
       "        vertical-align: middle;\n",
       "    }\n",
       "\n",
       "    .dataframe tbody tr th {\n",
       "        vertical-align: top;\n",
       "    }\n",
       "\n",
       "    .dataframe thead th {\n",
       "        text-align: right;\n",
       "    }\n",
       "</style>\n",
       "<table border=\"1\" class=\"dataframe\">\n",
       "  <thead>\n",
       "    <tr style=\"text-align: right;\">\n",
       "      <th></th>\n",
       "      <th>Week</th>\n",
       "      <th>Year</th>\n",
       "      <th>Site_ID</th>\n",
       "      <th>SKU</th>\n",
       "      <th>Prediction</th>\n",
       "      <th>Turnover</th>\n",
       "    </tr>\n",
       "  </thead>\n",
       "  <tbody>\n",
       "    <tr>\n",
       "      <th>307</th>\n",
       "      <td>46</td>\n",
       "      <td>5</td>\n",
       "      <td>0</td>\n",
       "      <td>0</td>\n",
       "      <td>32.703613</td>\n",
       "      <td>29.9</td>\n",
       "    </tr>\n",
       "    <tr>\n",
       "      <th>3034</th>\n",
       "      <td>46</td>\n",
       "      <td>5</td>\n",
       "      <td>0</td>\n",
       "      <td>1</td>\n",
       "      <td>20.781631</td>\n",
       "      <td>0.0</td>\n",
       "    </tr>\n",
       "    <tr>\n",
       "      <th>5409</th>\n",
       "      <td>46</td>\n",
       "      <td>5</td>\n",
       "      <td>0</td>\n",
       "      <td>2</td>\n",
       "      <td>19.651486</td>\n",
       "      <td>0.0</td>\n",
       "    </tr>\n",
       "    <tr>\n",
       "      <th>8097</th>\n",
       "      <td>46</td>\n",
       "      <td>5</td>\n",
       "      <td>0</td>\n",
       "      <td>3</td>\n",
       "      <td>51.940374</td>\n",
       "      <td>0.0</td>\n",
       "    </tr>\n",
       "    <tr>\n",
       "      <th>9329</th>\n",
       "      <td>46</td>\n",
       "      <td>5</td>\n",
       "      <td>4</td>\n",
       "      <td>3</td>\n",
       "      <td>49.319050</td>\n",
       "      <td>0.0</td>\n",
       "    </tr>\n",
       "    <tr>\n",
       "      <th>...</th>\n",
       "      <td>...</td>\n",
       "      <td>...</td>\n",
       "      <td>...</td>\n",
       "      <td>...</td>\n",
       "      <td>...</td>\n",
       "      <td>...</td>\n",
       "    </tr>\n",
       "    <tr>\n",
       "      <th>7234118</th>\n",
       "      <td>46</td>\n",
       "      <td>5</td>\n",
       "      <td>8</td>\n",
       "      <td>4331</td>\n",
       "      <td>9.594087</td>\n",
       "      <td>0.0</td>\n",
       "    </tr>\n",
       "    <tr>\n",
       "      <th>8289075</th>\n",
       "      <td>46</td>\n",
       "      <td>5</td>\n",
       "      <td>0</td>\n",
       "      <td>7996</td>\n",
       "      <td>5.984377</td>\n",
       "      <td>0.0</td>\n",
       "    </tr>\n",
       "    <tr>\n",
       "      <th>8289175</th>\n",
       "      <td>46</td>\n",
       "      <td>5</td>\n",
       "      <td>2</td>\n",
       "      <td>7996</td>\n",
       "      <td>5.984377</td>\n",
       "      <td>24.9</td>\n",
       "    </tr>\n",
       "    <tr>\n",
       "      <th>8289243</th>\n",
       "      <td>46</td>\n",
       "      <td>5</td>\n",
       "      <td>4</td>\n",
       "      <td>7996</td>\n",
       "      <td>5.984377</td>\n",
       "      <td>0.0</td>\n",
       "    </tr>\n",
       "    <tr>\n",
       "      <th>8289343</th>\n",
       "      <td>46</td>\n",
       "      <td>5</td>\n",
       "      <td>6</td>\n",
       "      <td>7996</td>\n",
       "      <td>5.984377</td>\n",
       "      <td>0.0</td>\n",
       "    </tr>\n",
       "  </tbody>\n",
       "</table>\n",
       "<p>28911 rows × 6 columns</p>\n",
       "</div>"
      ],
      "text/plain": [
       "        Week Year Site_ID   SKU  Prediction  Turnover\n",
       "307       46    5       0     0   32.703613      29.9\n",
       "3034      46    5       0     1   20.781631       0.0\n",
       "5409      46    5       0     2   19.651486       0.0\n",
       "8097      46    5       0     3   51.940374       0.0\n",
       "9329      46    5       4     3   49.319050       0.0\n",
       "...      ...  ...     ...   ...         ...       ...\n",
       "7234118   46    5       8  4331    9.594087       0.0\n",
       "8289075   46    5       0  7996    5.984377       0.0\n",
       "8289175   46    5       2  7996    5.984377      24.9\n",
       "8289243   46    5       4  7996    5.984377       0.0\n",
       "8289343   46    5       6  7996    5.984377       0.0\n",
       "\n",
       "[28911 rows x 6 columns]"
      ]
     },
     "execution_count": 333,
     "metadata": {},
     "output_type": "execute_result"
    }
   ],
   "source": [
    "result_df"
   ]
  },
  {
   "cell_type": "markdown",
   "metadata": {},
   "source": [
    "## Class C (Low Seller)"
   ]
  },
  {
   "cell_type": "code",
   "execution_count": 334,
   "metadata": {
    "ExecuteTime": {
     "end_time": "2021-03-13T12:56:35.999862Z",
     "start_time": "2021-03-13T12:55:58.903933Z"
    }
   },
   "outputs": [
    {
     "name": "stdout",
     "output_type": "stream",
     "text": [
      "\n",
      "\n",
      "****** 5W45 ******\n",
      "****** Split Criteria: CENSHARE_CAT_1 = 55 ******\n"
     ]
    },
    {
     "name": "stderr",
     "output_type": "stream",
     "text": [
      "c:\\dev\\verteiler\\venv\\lib\\site-packages\\lightgbm\\basic.py:1551: UserWarning: Using categorical_feature in Dataset.\n",
      "  warnings.warn('Using categorical_feature in Dataset.')\n"
     ]
    },
    {
     "name": "stdout",
     "output_type": "stream",
     "text": [
      "[LightGBM] [Warning] Auto-choosing row-wise multi-threading, the overhead of testing was 0.035079 seconds.\n",
      "You can set `force_row_wise=true` to remove the overhead.\n",
      "And if memory is not enough, you can set `force_col_wise=true`.\n",
      "[LightGBM] [Info] Total Bins 5189\n",
      "[LightGBM] [Info] Number of data points in the train set: 867017, number of used features: 16\n",
      "[LightGBM] [Info] Start training from score 2.169424\n",
      "Training until validation scores don't improve for 20 rounds\n"
     ]
    },
    {
     "name": "stderr",
     "output_type": "stream",
     "text": [
      "c:\\dev\\verteiler\\venv\\lib\\site-packages\\lightgbm\\basic.py:1286: UserWarning: Overriding the parameters from Reference Dataset.\n",
      "  warnings.warn('Overriding the parameters from Reference Dataset.')\n",
      "c:\\dev\\verteiler\\venv\\lib\\site-packages\\lightgbm\\basic.py:1098: UserWarning: categorical_column in param dict is overridden.\n",
      "  warnings.warn('{} in param dict is overridden.'.format(cat_alias))\n"
     ]
    },
    {
     "name": "stdout",
     "output_type": "stream",
     "text": [
      "[25]\ttraining's rmse: 257.443\tvalid_1's rmse: 299.603\n",
      "[50]\ttraining's rmse: 115.562\tvalid_1's rmse: 252.033\n",
      "Early stopping, best iteration is:\n",
      "[39]\ttraining's rmse: 154.292\tvalid_1's rmse: 239.847\n",
      "\n",
      "\n",
      "****** 5W45 ******\n",
      "****** Split Criteria: CENSHARE_CAT_1 = 55 ******\n"
     ]
    },
    {
     "name": "stderr",
     "output_type": "stream",
     "text": [
      "c:\\dev\\verteiler\\venv\\lib\\site-packages\\lightgbm\\basic.py:1551: UserWarning: Using categorical_feature in Dataset.\n",
      "  warnings.warn('Using categorical_feature in Dataset.')\n"
     ]
    },
    {
     "name": "stdout",
     "output_type": "stream",
     "text": [
      "[LightGBM] [Warning] Auto-choosing row-wise multi-threading, the overhead of testing was 0.022507 seconds.\n",
      "You can set `force_row_wise=true` to remove the overhead.\n",
      "And if memory is not enough, you can set `force_col_wise=true`.\n",
      "[LightGBM] [Info] Total Bins 7072\n",
      "[LightGBM] [Info] Number of data points in the train set: 830504, number of used features: 17\n",
      "[LightGBM] [Info] Start training from score 1.635902\n",
      "Training until validation scores don't improve for 20 rounds\n"
     ]
    },
    {
     "name": "stderr",
     "output_type": "stream",
     "text": [
      "c:\\dev\\verteiler\\venv\\lib\\site-packages\\lightgbm\\basic.py:1286: UserWarning: Overriding the parameters from Reference Dataset.\n",
      "  warnings.warn('Overriding the parameters from Reference Dataset.')\n",
      "c:\\dev\\verteiler\\venv\\lib\\site-packages\\lightgbm\\basic.py:1098: UserWarning: categorical_column in param dict is overridden.\n",
      "  warnings.warn('{} in param dict is overridden.'.format(cat_alias))\n"
     ]
    },
    {
     "name": "stdout",
     "output_type": "stream",
     "text": [
      "[25]\ttraining's rmse: 34.7237\tvalid_1's rmse: 36.0353\n",
      "[50]\ttraining's rmse: 34.3423\tvalid_1's rmse: 35.8383\n",
      "[75]\ttraining's rmse: 33.9869\tvalid_1's rmse: 35.7354\n",
      "[100]\ttraining's rmse: 33.6943\tvalid_1's rmse: 35.6687\n",
      "[125]\ttraining's rmse: 33.4391\tvalid_1's rmse: 35.648\n",
      "[150]\ttraining's rmse: 33.2546\tvalid_1's rmse: 35.6619\n",
      "Early stopping, best iteration is:\n",
      "[133]\ttraining's rmse: 33.3787\tvalid_1's rmse: 35.6458\n",
      "\n",
      "\n",
      "****** 5W45 ******\n",
      "****** Split Criteria: CENSHARE_CAT_1 = 55 ******\n"
     ]
    },
    {
     "name": "stderr",
     "output_type": "stream",
     "text": [
      "c:\\dev\\verteiler\\venv\\lib\\site-packages\\lightgbm\\basic.py:1551: UserWarning: Using categorical_feature in Dataset.\n",
      "  warnings.warn('Using categorical_feature in Dataset.')\n"
     ]
    },
    {
     "name": "stdout",
     "output_type": "stream",
     "text": [
      "[LightGBM] [Warning] Auto-choosing row-wise multi-threading, the overhead of testing was 0.010323 seconds.\n",
      "You can set `force_row_wise=true` to remove the overhead.\n",
      "And if memory is not enough, you can set `force_col_wise=true`.\n",
      "[LightGBM] [Info] Total Bins 4525\n",
      "[LightGBM] [Info] Number of data points in the train set: 327992, number of used features: 17\n",
      "[LightGBM] [Info] Start training from score 2.307562\n",
      "Training until validation scores don't improve for 20 rounds\n",
      "[25]\ttraining's rmse: 3298.89\tvalid_1's rmse: 53.3648\n"
     ]
    },
    {
     "name": "stderr",
     "output_type": "stream",
     "text": [
      "c:\\dev\\verteiler\\venv\\lib\\site-packages\\lightgbm\\basic.py:1286: UserWarning: Overriding the parameters from Reference Dataset.\n",
      "  warnings.warn('Overriding the parameters from Reference Dataset.')\n",
      "c:\\dev\\verteiler\\venv\\lib\\site-packages\\lightgbm\\basic.py:1098: UserWarning: categorical_column in param dict is overridden.\n",
      "  warnings.warn('{} in param dict is overridden.'.format(cat_alias))\n"
     ]
    },
    {
     "name": "stdout",
     "output_type": "stream",
     "text": [
      "[50]\ttraining's rmse: 979.076\tvalid_1's rmse: 52.7183\n",
      "[75]\ttraining's rmse: 1.05576e+06\tvalid_1's rmse: 52.6411\n",
      "[100]\ttraining's rmse: 305161\tvalid_1's rmse: 52.6241\n",
      "[125]\ttraining's rmse: 88219.1\tvalid_1's rmse: 53.2431\n",
      "Early stopping, best iteration is:\n",
      "[107]\ttraining's rmse: 215578\tvalid_1's rmse: 52.5862\n",
      "\n",
      "\n",
      "****** 5W45 ******\n",
      "****** Split Criteria: CENSHARE_CAT_1 = 55 ******\n"
     ]
    },
    {
     "name": "stderr",
     "output_type": "stream",
     "text": [
      "c:\\dev\\verteiler\\venv\\lib\\site-packages\\lightgbm\\basic.py:1551: UserWarning: Using categorical_feature in Dataset.\n",
      "  warnings.warn('Using categorical_feature in Dataset.')\n"
     ]
    },
    {
     "name": "stdout",
     "output_type": "stream",
     "text": [
      "[LightGBM] [Warning] Auto-choosing row-wise multi-threading, the overhead of testing was 0.006825 seconds.\n",
      "You can set `force_row_wise=true` to remove the overhead.\n",
      "And if memory is not enough, you can set `force_col_wise=true`.\n",
      "[LightGBM] [Info] Total Bins 3693\n",
      "[LightGBM] [Info] Number of data points in the train set: 255351, number of used features: 17\n",
      "[LightGBM] [Info] Start training from score 1.205973\n",
      "Training until validation scores don't improve for 20 rounds\n",
      "[25]\ttraining's rmse: 40.8476\tvalid_1's rmse: 49.5932\n",
      "[50]\ttraining's rmse: 28.5531\tvalid_1's rmse: 30.655"
     ]
    },
    {
     "name": "stderr",
     "output_type": "stream",
     "text": [
      "c:\\dev\\verteiler\\venv\\lib\\site-packages\\lightgbm\\basic.py:1286: UserWarning: Overriding the parameters from Reference Dataset.\n",
      "  warnings.warn('Overriding the parameters from Reference Dataset.')\n",
      "c:\\dev\\verteiler\\venv\\lib\\site-packages\\lightgbm\\basic.py:1098: UserWarning: categorical_column in param dict is overridden.\n",
      "  warnings.warn('{} in param dict is overridden.'.format(cat_alias))\n"
     ]
    },
    {
     "name": "stdout",
     "output_type": "stream",
     "text": [
      "\n",
      "[75]\ttraining's rmse: 25.9958\tvalid_1's rmse: 26.3121\n",
      "[100]\ttraining's rmse: 24.8591\tvalid_1's rmse: 23.7515\n",
      "[125]\ttraining's rmse: 24.1664\tvalid_1's rmse: 22.6853\n",
      "[150]\ttraining's rmse: 23.7176\tvalid_1's rmse: 22.0646\n",
      "[175]\ttraining's rmse: 23.404\tvalid_1's rmse: 21.206\n",
      "[200]\ttraining's rmse: 23.0235\tvalid_1's rmse: 20.912\n",
      "[225]\ttraining's rmse: 22.8237\tvalid_1's rmse: 20.7986\n",
      "[250]\ttraining's rmse: 22.5829\tvalid_1's rmse: 20.7178\n",
      "[275]\ttraining's rmse: 22.4339\tvalid_1's rmse: 20.6882\n",
      "Early stopping, best iteration is:\n",
      "[260]\ttraining's rmse: 22.5128\tvalid_1's rmse: 20.6419\n",
      "\n",
      "\n",
      "****** 5W45 ******\n",
      "****** Split Criteria: CENSHARE_CAT_1 = 55 ******\n"
     ]
    },
    {
     "name": "stderr",
     "output_type": "stream",
     "text": [
      "c:\\dev\\verteiler\\venv\\lib\\site-packages\\lightgbm\\basic.py:1551: UserWarning: Using categorical_feature in Dataset.\n",
      "  warnings.warn('Using categorical_feature in Dataset.')\n",
      "c:\\dev\\verteiler\\venv\\lib\\site-packages\\lightgbm\\basic.py:1286: UserWarning: Overriding the parameters from Reference Dataset.\n",
      "  warnings.warn('Overriding the parameters from Reference Dataset.')\n",
      "c:\\dev\\verteiler\\venv\\lib\\site-packages\\lightgbm\\basic.py:1098: UserWarning: categorical_column in param dict is overridden.\n",
      "  warnings.warn('{} in param dict is overridden.'.format(cat_alias))\n"
     ]
    },
    {
     "name": "stdout",
     "output_type": "stream",
     "text": [
      "[LightGBM] [Warning] Auto-choosing row-wise multi-threading, the overhead of testing was 0.000298 seconds.\n",
      "You can set `force_row_wise=true` to remove the overhead.\n",
      "And if memory is not enough, you can set `force_col_wise=true`.\n",
      "[LightGBM] [Info] Total Bins 199\n",
      "[LightGBM] [Info] Number of data points in the train set: 3722, number of used features: 14\n",
      "[LightGBM] [Info] Start training from score 0.880898\n",
      "Training until validation scores don't improve for 20 rounds\n",
      "Early stopping, best iteration is:\n",
      "[2]\ttraining's rmse: 11.5701\tvalid_1's rmse: 15.8741\n",
      "\n",
      "\n",
      "****** 5W45 ******\n",
      "****** Split Criteria: CENSHARE_CAT_1 = 55 ******\n"
     ]
    },
    {
     "name": "stderr",
     "output_type": "stream",
     "text": [
      "c:\\dev\\verteiler\\venv\\lib\\site-packages\\lightgbm\\basic.py:1551: UserWarning: Using categorical_feature in Dataset.\n",
      "  warnings.warn('Using categorical_feature in Dataset.')\n"
     ]
    },
    {
     "name": "stdout",
     "output_type": "stream",
     "text": [
      "[LightGBM] [Warning] Auto-choosing row-wise multi-threading, the overhead of testing was 0.011504 seconds.\n",
      "You can set `force_row_wise=true` to remove the overhead.\n",
      "And if memory is not enough, you can set `force_col_wise=true`.\n",
      "[LightGBM] [Info] Total Bins 4582\n",
      "[LightGBM] [Info] Number of data points in the train set: 563492, number of used features: 16\n",
      "[LightGBM] [Info] Start training from score 2.587423\n",
      "Training until validation scores don't improve for 20 rounds\n"
     ]
    },
    {
     "name": "stderr",
     "output_type": "stream",
     "text": [
      "c:\\dev\\verteiler\\venv\\lib\\site-packages\\lightgbm\\basic.py:1286: UserWarning: Overriding the parameters from Reference Dataset.\n",
      "  warnings.warn('Overriding the parameters from Reference Dataset.')\n",
      "c:\\dev\\verteiler\\venv\\lib\\site-packages\\lightgbm\\basic.py:1098: UserWarning: categorical_column in param dict is overridden.\n",
      "  warnings.warn('{} in param dict is overridden.'.format(cat_alias))\n"
     ]
    },
    {
     "name": "stdout",
     "output_type": "stream",
     "text": [
      "[25]\ttraining's rmse: 101.083\tvalid_1's rmse: 87.5975\n",
      "[50]\ttraining's rmse: 100.177\tvalid_1's rmse: 87.3945\n",
      "Early stopping, best iteration is:\n",
      "[44]\ttraining's rmse: 100.359\tvalid_1's rmse: 87.3885\n",
      "\n",
      "\n",
      "****** 5W45 ******\n",
      "****** Split Criteria: CENSHARE_CAT_1 = 55 ******\n"
     ]
    },
    {
     "name": "stderr",
     "output_type": "stream",
     "text": [
      "c:\\dev\\verteiler\\venv\\lib\\site-packages\\lightgbm\\basic.py:1551: UserWarning: Using categorical_feature in Dataset.\n",
      "  warnings.warn('Using categorical_feature in Dataset.')\n"
     ]
    },
    {
     "name": "stdout",
     "output_type": "stream",
     "text": [
      "[LightGBM] [Warning] Auto-choosing row-wise multi-threading, the overhead of testing was 0.014012 seconds.\n",
      "You can set `force_row_wise=true` to remove the overhead.\n",
      "And if memory is not enough, you can set `force_col_wise=true`.\n",
      "[LightGBM] [Info] Total Bins 3556\n",
      "[LightGBM] [Info] Number of data points in the train set: 443807, number of used features: 16\n",
      "[LightGBM] [Info] Start training from score 1.822715\n",
      "Training until validation scores don't improve for 20 rounds\n",
      "[25]\ttraining's rmse: 36.3452\tvalid_1's rmse: 36.993\n"
     ]
    },
    {
     "name": "stderr",
     "output_type": "stream",
     "text": [
      "c:\\dev\\verteiler\\venv\\lib\\site-packages\\lightgbm\\basic.py:1286: UserWarning: Overriding the parameters from Reference Dataset.\n",
      "  warnings.warn('Overriding the parameters from Reference Dataset.')\n",
      "c:\\dev\\verteiler\\venv\\lib\\site-packages\\lightgbm\\basic.py:1098: UserWarning: categorical_column in param dict is overridden.\n",
      "  warnings.warn('{} in param dict is overridden.'.format(cat_alias))\n"
     ]
    },
    {
     "name": "stdout",
     "output_type": "stream",
     "text": [
      "[50]\ttraining's rmse: 35.9638\tvalid_1's rmse: 36.9131\n",
      "[75]\ttraining's rmse: 35.7265\tvalid_1's rmse: 36.8979\n",
      "[100]\ttraining's rmse: 35.5962\tvalid_1's rmse: 36.8859\n",
      "Early stopping, best iteration is:\n",
      "[86]\ttraining's rmse: 35.6665\tvalid_1's rmse: 36.8842\n",
      "\n",
      "\n",
      "****** 5W45 ******\n",
      "****** Split Criteria: CENSHARE_CAT_1 = 55 ******\n"
     ]
    },
    {
     "name": "stderr",
     "output_type": "stream",
     "text": [
      "c:\\dev\\verteiler\\venv\\lib\\site-packages\\lightgbm\\basic.py:1551: UserWarning: Using categorical_feature in Dataset.\n",
      "  warnings.warn('Using categorical_feature in Dataset.')\n",
      "c:\\dev\\verteiler\\venv\\lib\\site-packages\\lightgbm\\basic.py:1286: UserWarning: Overriding the parameters from Reference Dataset.\n",
      "  warnings.warn('Overriding the parameters from Reference Dataset.')\n",
      "c:\\dev\\verteiler\\venv\\lib\\site-packages\\lightgbm\\basic.py:1098: UserWarning: categorical_column in param dict is overridden.\n",
      "  warnings.warn('{} in param dict is overridden.'.format(cat_alias))\n"
     ]
    },
    {
     "name": "stdout",
     "output_type": "stream",
     "text": [
      "[LightGBM] [Warning] Auto-choosing row-wise multi-threading, the overhead of testing was 0.001312 seconds.\n",
      "You can set `force_row_wise=true` to remove the overhead.\n",
      "And if memory is not enough, you can set `force_col_wise=true`.\n",
      "[LightGBM] [Info] Total Bins 1361\n",
      "[LightGBM] [Info] Number of data points in the train set: 46976, number of used features: 15\n",
      "[LightGBM] [Info] Start training from score 1.648058\n",
      "Training until validation scores don't improve for 20 rounds\n",
      "Early stopping, best iteration is:\n",
      "[1]\ttraining's rmse: 36.7652\tvalid_1's rmse: 13.2678\n",
      "\n",
      "\n",
      "****** 5W45 ******\n",
      "****** Split Criteria: CENSHARE_CAT_1 = 55 ******\n"
     ]
    },
    {
     "name": "stderr",
     "output_type": "stream",
     "text": [
      "c:\\dev\\verteiler\\venv\\lib\\site-packages\\lightgbm\\basic.py:1551: UserWarning: Using categorical_feature in Dataset.\n",
      "  warnings.warn('Using categorical_feature in Dataset.')\n",
      "c:\\dev\\verteiler\\venv\\lib\\site-packages\\lightgbm\\basic.py:1286: UserWarning: Overriding the parameters from Reference Dataset.\n",
      "  warnings.warn('Overriding the parameters from Reference Dataset.')\n",
      "c:\\dev\\verteiler\\venv\\lib\\site-packages\\lightgbm\\basic.py:1098: UserWarning: categorical_column in param dict is overridden.\n",
      "  warnings.warn('{} in param dict is overridden.'.format(cat_alias))\n"
     ]
    },
    {
     "name": "stdout",
     "output_type": "stream",
     "text": [
      "[LightGBM] [Warning] Auto-choosing row-wise multi-threading, the overhead of testing was 0.001545 seconds.\n",
      "You can set `force_row_wise=true` to remove the overhead.\n",
      "And if memory is not enough, you can set `force_col_wise=true`.\n",
      "[LightGBM] [Info] Total Bins 1755\n",
      "[LightGBM] [Info] Number of data points in the train set: 56409, number of used features: 16\n",
      "[LightGBM] [Info] Start training from score 1.576773\n",
      "Training until validation scores don't improve for 20 rounds\n",
      "[25]\ttraining's rmse: 31.0886\tvalid_1's rmse: 39.4654\n",
      "[50]\ttraining's rmse: 30.5592\tvalid_1's rmse: 39.1198\n",
      "[75]\ttraining's rmse: 30.2299\tvalid_1's rmse: 38.9208\n",
      "Early stopping, best iteration is:\n",
      "[76]\ttraining's rmse: 30.2153\tvalid_1's rmse: 38.9084\n",
      "\n",
      "\n",
      "****** 5W45 ******\n",
      "****** Split Criteria: CENSHARE_CAT_1 = 55 ******\n"
     ]
    },
    {
     "name": "stderr",
     "output_type": "stream",
     "text": [
      "c:\\dev\\verteiler\\venv\\lib\\site-packages\\lightgbm\\basic.py:1551: UserWarning: Using categorical_feature in Dataset.\n",
      "  warnings.warn('Using categorical_feature in Dataset.')\n",
      "c:\\dev\\verteiler\\venv\\lib\\site-packages\\lightgbm\\basic.py:1286: UserWarning: Overriding the parameters from Reference Dataset.\n",
      "  warnings.warn('Overriding the parameters from Reference Dataset.')\n",
      "c:\\dev\\verteiler\\venv\\lib\\site-packages\\lightgbm\\basic.py:1098: UserWarning: categorical_column in param dict is overridden.\n",
      "  warnings.warn('{} in param dict is overridden.'.format(cat_alias))\n"
     ]
    },
    {
     "name": "stdout",
     "output_type": "stream",
     "text": [
      "[LightGBM] [Warning] Auto-choosing row-wise multi-threading, the overhead of testing was 0.000577 seconds.\n",
      "You can set `force_row_wise=true` to remove the overhead.\n",
      "And if memory is not enough, you can set `force_col_wise=true`.\n",
      "[LightGBM] [Info] Total Bins 192\n",
      "[LightGBM] [Info] Number of data points in the train set: 17618, number of used features: 14\n",
      "[LightGBM] [Info] Start training from score 2.014255\n",
      "Training until validation scores don't improve for 20 rounds\n",
      "Early stopping, best iteration is:\n",
      "[1]\ttraining's rmse: 51.1398\tvalid_1's rmse: 64.055\n",
      "\n",
      "\n",
      "****** 5W45 ******\n",
      "****** Split Criteria: CENSHARE_CAT_1 = 55 ******\n"
     ]
    },
    {
     "name": "stderr",
     "output_type": "stream",
     "text": [
      "c:\\dev\\verteiler\\venv\\lib\\site-packages\\lightgbm\\basic.py:1551: UserWarning: Using categorical_feature in Dataset.\n",
      "  warnings.warn('Using categorical_feature in Dataset.')\n",
      "c:\\dev\\verteiler\\venv\\lib\\site-packages\\lightgbm\\basic.py:1286: UserWarning: Overriding the parameters from Reference Dataset.\n",
      "  warnings.warn('Overriding the parameters from Reference Dataset.')\n",
      "c:\\dev\\verteiler\\venv\\lib\\site-packages\\lightgbm\\basic.py:1098: UserWarning: categorical_column in param dict is overridden.\n",
      "  warnings.warn('{} in param dict is overridden.'.format(cat_alias))\n"
     ]
    },
    {
     "name": "stdout",
     "output_type": "stream",
     "text": [
      "[LightGBM] [Warning] Auto-choosing row-wise multi-threading, the overhead of testing was 0.000554 seconds.\n",
      "You can set `force_row_wise=true` to remove the overhead.\n",
      "And if memory is not enough, you can set `force_col_wise=true`.\n",
      "[LightGBM] [Info] Total Bins 780\n",
      "[LightGBM] [Info] Number of data points in the train set: 19257, number of used features: 16\n",
      "[LightGBM] [Info] Start training from score 1.776294\n",
      "Training until validation scores don't improve for 20 rounds\n",
      "[25]\ttraining's rmse: 33.245\tvalid_1's rmse: 20.5989\n",
      "[50]\ttraining's rmse: 30.3562\tvalid_1's rmse: 20.4612\n",
      "[75]\ttraining's rmse: 28.6465\tvalid_1's rmse: 20.4643\n",
      "[100]\ttraining's rmse: 27.6093\tvalid_1's rmse: 20.1271\n",
      "Early stopping, best iteration is:\n",
      "[104]\ttraining's rmse: 27.5529\tvalid_1's rmse: 20.1063\n",
      "\n",
      "\n",
      "****** 5W45 ******\n",
      "****** Split Criteria: CENSHARE_CAT_1 = 55 ******\n"
     ]
    },
    {
     "name": "stderr",
     "output_type": "stream",
     "text": [
      "c:\\dev\\verteiler\\venv\\lib\\site-packages\\lightgbm\\basic.py:1551: UserWarning: Using categorical_feature in Dataset.\n",
      "  warnings.warn('Using categorical_feature in Dataset.')\n",
      "c:\\dev\\verteiler\\venv\\lib\\site-packages\\lightgbm\\basic.py:1286: UserWarning: Overriding the parameters from Reference Dataset.\n",
      "  warnings.warn('Overriding the parameters from Reference Dataset.')\n",
      "c:\\dev\\verteiler\\venv\\lib\\site-packages\\lightgbm\\basic.py:1098: UserWarning: categorical_column in param dict is overridden.\n",
      "  warnings.warn('{} in param dict is overridden.'.format(cat_alias))\n"
     ]
    },
    {
     "name": "stdout",
     "output_type": "stream",
     "text": [
      "[LightGBM] [Warning] Auto-choosing row-wise multi-threading, the overhead of testing was 0.003640 seconds.\n",
      "You can set `force_row_wise=true` to remove the overhead.\n",
      "And if memory is not enough, you can set `force_col_wise=true`.\n",
      "[LightGBM] [Info] Total Bins 1377\n",
      "[LightGBM] [Info] Number of data points in the train set: 144783, number of used features: 16\n",
      "[LightGBM] [Info] Start training from score 1.148090\n",
      "Training until validation scores don't improve for 20 rounds\n",
      "Early stopping, best iteration is:\n",
      "[2]\ttraining's rmse: 16.5864\tvalid_1's rmse: 39.5197\n",
      "\n",
      "\n",
      "****** 5W45 ******\n",
      "****** Split Criteria: CENSHARE_CAT_1 = 55 ******\n"
     ]
    },
    {
     "name": "stderr",
     "output_type": "stream",
     "text": [
      "c:\\dev\\verteiler\\venv\\lib\\site-packages\\lightgbm\\basic.py:1551: UserWarning: Using categorical_feature in Dataset.\n",
      "  warnings.warn('Using categorical_feature in Dataset.')\n",
      "c:\\dev\\verteiler\\venv\\lib\\site-packages\\lightgbm\\basic.py:1286: UserWarning: Overriding the parameters from Reference Dataset.\n",
      "  warnings.warn('Overriding the parameters from Reference Dataset.')\n",
      "c:\\dev\\verteiler\\venv\\lib\\site-packages\\lightgbm\\basic.py:1098: UserWarning: categorical_column in param dict is overridden.\n",
      "  warnings.warn('{} in param dict is overridden.'.format(cat_alias))\n"
     ]
    },
    {
     "name": "stdout",
     "output_type": "stream",
     "text": [
      "[LightGBM] [Warning] Auto-choosing row-wise multi-threading, the overhead of testing was 0.001235 seconds.\n",
      "You can set `force_row_wise=true` to remove the overhead.\n",
      "And if memory is not enough, you can set `force_col_wise=true`.\n",
      "[LightGBM] [Info] Total Bins 1300\n",
      "[LightGBM] [Info] Number of data points in the train set: 40919, number of used features: 16\n",
      "[LightGBM] [Info] Start training from score 2.499304\n",
      "Training until validation scores don't improve for 20 rounds\n",
      "[25]\ttraining's rmse: 72.8606\tvalid_1's rmse: 84.4588\n",
      "[50]\ttraining's rmse: 68.0474\tvalid_1's rmse: 82.3541\n",
      "[75]\ttraining's rmse: 65.2665\tvalid_1's rmse: 82.1768\n",
      "Early stopping, best iteration is:\n",
      "[68]\ttraining's rmse: 66.092\tvalid_1's rmse: 82.0327\n",
      "\n",
      "\n",
      "****** 5W45 ******\n",
      "****** Split Criteria: CENSHARE_CAT_1 = 55 ******\n"
     ]
    },
    {
     "name": "stderr",
     "output_type": "stream",
     "text": [
      "c:\\dev\\verteiler\\venv\\lib\\site-packages\\lightgbm\\basic.py:1551: UserWarning: Using categorical_feature in Dataset.\n",
      "  warnings.warn('Using categorical_feature in Dataset.')\n",
      "c:\\dev\\verteiler\\venv\\lib\\site-packages\\lightgbm\\basic.py:1286: UserWarning: Overriding the parameters from Reference Dataset.\n",
      "  warnings.warn('Overriding the parameters from Reference Dataset.')\n",
      "c:\\dev\\verteiler\\venv\\lib\\site-packages\\lightgbm\\basic.py:1098: UserWarning: categorical_column in param dict is overridden.\n",
      "  warnings.warn('{} in param dict is overridden.'.format(cat_alias))\n"
     ]
    },
    {
     "name": "stdout",
     "output_type": "stream",
     "text": [
      "[LightGBM] [Warning] Auto-choosing row-wise multi-threading, the overhead of testing was 0.002889 seconds.\n",
      "You can set `force_row_wise=true` to remove the overhead.\n",
      "And if memory is not enough, you can set `force_col_wise=true`.\n",
      "[LightGBM] [Info] Total Bins 3105\n",
      "[LightGBM] [Info] Number of data points in the train set: 117980, number of used features: 16\n",
      "[LightGBM] [Info] Start training from score 3.098275\n",
      "Training until validation scores don't improve for 20 rounds\n",
      "[25]\ttraining's rmse: 118.27\tvalid_1's rmse: 68.731\n",
      "[50]\ttraining's rmse: 114.851\tvalid_1's rmse: 68.0743\n",
      "Early stopping, best iteration is:\n",
      "[41]\ttraining's rmse: 115.905\tvalid_1's rmse: 67.9845\n",
      "\n",
      "\n",
      "****** 5W45 ******\n",
      "****** Split Criteria: CENSHARE_CAT_1 = 55 ******\n"
     ]
    },
    {
     "name": "stderr",
     "output_type": "stream",
     "text": [
      "c:\\dev\\verteiler\\venv\\lib\\site-packages\\lightgbm\\basic.py:1551: UserWarning: Using categorical_feature in Dataset.\n",
      "  warnings.warn('Using categorical_feature in Dataset.')\n",
      "c:\\dev\\verteiler\\venv\\lib\\site-packages\\lightgbm\\basic.py:1286: UserWarning: Overriding the parameters from Reference Dataset.\n",
      "  warnings.warn('Overriding the parameters from Reference Dataset.')\n",
      "c:\\dev\\verteiler\\venv\\lib\\site-packages\\lightgbm\\basic.py:1098: UserWarning: categorical_column in param dict is overridden.\n",
      "  warnings.warn('{} in param dict is overridden.'.format(cat_alias))\n"
     ]
    },
    {
     "name": "stdout",
     "output_type": "stream",
     "text": [
      "[LightGBM] [Warning] Auto-choosing row-wise multi-threading, the overhead of testing was 0.000581 seconds.\n",
      "You can set `force_row_wise=true` to remove the overhead.\n",
      "And if memory is not enough, you can set `force_col_wise=true`.\n",
      "[LightGBM] [Info] Total Bins 275\n",
      "[LightGBM] [Info] Number of data points in the train set: 13210, number of used features: 14\n",
      "[LightGBM] [Info] Start training from score 1.614276\n",
      "Training until validation scores don't improve for 20 rounds\n",
      "[25]\ttraining's rmse: 19.3545\tvalid_1's rmse: 66.9877\n",
      "[50]\ttraining's rmse: 17.5509\tvalid_1's rmse: 66.8685\n",
      "Early stopping, best iteration is:\n",
      "[35]\ttraining's rmse: 18.4029\tvalid_1's rmse: 66.1058\n",
      "\n",
      "\n",
      "****** 5W45 ******\n",
      "****** Split Criteria: CENSHARE_CAT_1 = 55 ******\n",
      "\n",
      "\n",
      "****** 5W45 ******\n",
      "****** Split Criteria: CENSHARE_CAT_1 = 55 ******\n"
     ]
    },
    {
     "name": "stderr",
     "output_type": "stream",
     "text": [
      "c:\\dev\\verteiler\\venv\\lib\\site-packages\\lightgbm\\basic.py:1551: UserWarning: Using categorical_feature in Dataset.\n",
      "  warnings.warn('Using categorical_feature in Dataset.')\n",
      "c:\\dev\\verteiler\\venv\\lib\\site-packages\\lightgbm\\basic.py:1286: UserWarning: Overriding the parameters from Reference Dataset.\n",
      "  warnings.warn('Overriding the parameters from Reference Dataset.')\n",
      "c:\\dev\\verteiler\\venv\\lib\\site-packages\\lightgbm\\basic.py:1098: UserWarning: categorical_column in param dict is overridden.\n",
      "  warnings.warn('{} in param dict is overridden.'.format(cat_alias))\n"
     ]
    },
    {
     "name": "stdout",
     "output_type": "stream",
     "text": [
      "[LightGBM] [Warning] Auto-choosing row-wise multi-threading, the overhead of testing was 0.000165 seconds.\n",
      "You can set `force_row_wise=true` to remove the overhead.\n",
      "And if memory is not enough, you can set `force_col_wise=true`.\n",
      "[LightGBM] [Info] Total Bins 137\n",
      "[LightGBM] [Info] Number of data points in the train set: 858, number of used features: 11\n",
      "[LightGBM] [Info] Start training from score 2.464200\n",
      "Training until validation scores don't improve for 20 rounds\n",
      "[25]\ttraining's rmse: 50.961\tvalid_1's rmse: 3.54235\n",
      "[50]\ttraining's rmse: 45.7575\tvalid_1's rmse: 1.57649\n",
      "[75]\ttraining's rmse: 40.923\tvalid_1's rmse: 0.821915\n",
      "[100]\ttraining's rmse: 36.0232\tvalid_1's rmse: 0.566209\n",
      "[125]\ttraining's rmse: 32.2397\tvalid_1's rmse: 0.438605\n",
      "[150]\ttraining's rmse: 29.4141\tvalid_1's rmse: 0.35813\n",
      "[175]\ttraining's rmse: 27.2384\tvalid_1's rmse: 0.290304\n",
      "[200]\ttraining's rmse: 22.8806\tvalid_1's rmse: 0.216996\n",
      "[225]\ttraining's rmse: 20.6391\tvalid_1's rmse: 0.190299\n",
      "[250]\ttraining's rmse: 18.9625\tvalid_1's rmse: 0.15197\n",
      "[275]\ttraining's rmse: 16.8216\tvalid_1's rmse: 0.0925301\n",
      "[300]\ttraining's rmse: 15.1251\tvalid_1's rmse: 0.0508897\n",
      "[325]\ttraining's rmse: 13.6964\tvalid_1's rmse: 0.0417286\n",
      "[350]\ttraining's rmse: 12.7089\tvalid_1's rmse: 0.0383564\n",
      "[375]\ttraining's rmse: 11.7971\tvalid_1's rmse: 0.0348556\n",
      "[400]\ttraining's rmse: 11.0272\tvalid_1's rmse: 0.0329554\n",
      "[425]\ttraining's rmse: 10.3522\tvalid_1's rmse: 0.0265179\n",
      "[450]\ttraining's rmse: 9.58881\tvalid_1's rmse: 0.0180036\n",
      "[475]\ttraining's rmse: 8.85554\tvalid_1's rmse: 0.0141792\n",
      "[500]\ttraining's rmse: 8.16341\tvalid_1's rmse: 0.0126047\n",
      "[525]\ttraining's rmse: 7.6922\tvalid_1's rmse: 0.0103606\n",
      "[550]\ttraining's rmse: 7.10599\tvalid_1's rmse: 0.0098835\n",
      "Early stopping, best iteration is:\n",
      "[531]\ttraining's rmse: 7.40056\tvalid_1's rmse: 0.00969734\n",
      "\n",
      "\n",
      "****** 5W45 ******"
     ]
    },
    {
     "name": "stderr",
     "output_type": "stream",
     "text": [
      "c:\\dev\\verteiler\\venv\\lib\\site-packages\\lightgbm\\basic.py:1551: UserWarning: Using categorical_feature in Dataset.\n",
      "  warnings.warn('Using categorical_feature in Dataset.')\n",
      "c:\\dev\\verteiler\\venv\\lib\\site-packages\\lightgbm\\basic.py:1286: UserWarning: Overriding the parameters from Reference Dataset.\n",
      "  warnings.warn('Overriding the parameters from Reference Dataset.')\n",
      "c:\\dev\\verteiler\\venv\\lib\\site-packages\\lightgbm\\basic.py:1098: UserWarning: categorical_column in param dict is overridden.\n",
      "  warnings.warn('{} in param dict is overridden.'.format(cat_alias))\n"
     ]
    },
    {
     "name": "stdout",
     "output_type": "stream",
     "text": [
      "\n",
      "****** Split Criteria: CENSHARE_CAT_1 = 55 ******\n",
      "[LightGBM] [Warning] Auto-choosing row-wise multi-threading, the overhead of testing was 0.000092 seconds.\n",
      "You can set `force_row_wise=true` to remove the overhead.\n",
      "And if memory is not enough, you can set `force_col_wise=true`.\n",
      "[LightGBM] [Info] Total Bins 80\n",
      "[LightGBM] [Info] Number of data points in the train set: 204, number of used features: 7\n",
      "[LightGBM] [Info] Start training from score 0.892480\n",
      "[LightGBM] [Warning] No further splits with positive gain, best gain: -inf\n",
      "Training until validation scores don't improve for 20 rounds\n",
      "[LightGBM] [Warning] No further splits with positive gain, best gain: -inf\n",
      "[LightGBM] [Warning] No further splits with positive gain, best gain: -inf\n",
      "[LightGBM] [Warning] No further splits with positive gain, best gain: -inf\n",
      "[LightGBM] [Warning] No further splits with positive gain, best gain: -inf\n",
      "[LightGBM] [Warning] No further splits with positive gain, best gain: -inf\n",
      "[LightGBM] [Warning] No further splits with positive gain, best gain: -inf\n",
      "[LightGBM] [Warning] No further splits with positive gain, best gain: -inf\n",
      "[LightGBM] [Warning] No further splits with positive gain, best gain: -inf\n",
      "[LightGBM] [Warning] No further splits with positive gain, best gain: -inf\n",
      "[LightGBM] [Warning] No further splits with positive gain, best gain: -inf\n",
      "[LightGBM] [Warning] No further splits with positive gain, best gain: -inf\n",
      "[LightGBM] [Warning] No further splits with positive gain, best gain: -inf\n",
      "[LightGBM] [Warning] No further splits with positive gain, best gain: -inf\n",
      "[LightGBM] [Warning] No further splits with positive gain, best gain: -inf\n",
      "[LightGBM] [Warning] No further splits with positive gain, best gain: -inf\n",
      "[LightGBM] [Warning] No further splits with positive gain, best gain: -inf\n",
      "[LightGBM] [Warning] No further splits with positive gain, best gain: -inf\n",
      "[LightGBM] [Warning] No further splits with positive gain, best gain: -inf\n",
      "[LightGBM] [Warning] No further splits with positive gain, best gain: -inf\n",
      "[LightGBM] [Warning] No further splits with positive gain, best gain: -inf\n",
      "[LightGBM] [Warning] No further splits with positive gain, best gain: -inf\n",
      "[LightGBM] [Warning] No further splits with positive gain, best gain: -inf\n",
      "[LightGBM] [Warning] No further splits with positive gain, best gain: -inf\n",
      "[LightGBM] [Warning] No further splits with positive gain, best gain: -inf\n",
      "[25]\ttraining's rmse: 7.99807\tvalid_1's rmse: 1.23834\n",
      "[LightGBM] [Warning] No further splits with positive gain, best gain: -inf\n",
      "[LightGBM] [Warning] No further splits with positive gain, best gain: -inf\n",
      "[LightGBM] [Warning] No further splits with positive gain, best gain: -inf\n",
      "[LightGBM] [Warning] No further splits with positive gain, best gain: -inf\n",
      "[LightGBM] [Warning] No further splits with positive gain, best gain: -inf\n",
      "[LightGBM] [Warning] No further splits with positive gain, best gain: -inf\n",
      "[LightGBM] [Warning] No further splits with positive gain, best gain: -inf\n",
      "[LightGBM] [Warning] No further splits with positive gain, best gain: -inf\n",
      "[LightGBM] [Warning] No further splits with positive gain, best gain: -inf\n",
      "[LightGBM] [Warning] No further splits with positive gain, best gain: -inf\n",
      "[LightGBM] [Warning] No further splits with positive gain, best gain: -inf\n",
      "[LightGBM] [Warning] No further splits with positive gain, best gain: -inf\n",
      "[LightGBM] [Warning] No further splits with positive gain, best gain: -inf\n",
      "[LightGBM] [Warning] No further splits with positive gain, best gain: -inf\n",
      "[LightGBM] [Warning] No further splits with positive gain, best gain: -inf\n",
      "[LightGBM] [Warning] No further splits with positive gain, best gain: -inf\n",
      "[LightGBM] [Warning] No further splits with positive gain, best gain: -inf\n",
      "[LightGBM] [Warning] No further splits with positive gain, best gain: -inf\n",
      "[LightGBM] [Warning] No further splits with positive gain, best gain: -inf\n",
      "[LightGBM] [Warning] No further splits with positive gain, best gain: -inf\n",
      "[LightGBM] [Warning] No further splits with positive gain, best gain: -inf\n",
      "[LightGBM] [Warning] No further splits with positive gain, best gain: -inf\n",
      "[LightGBM] [Warning] No further splits with positive gain, best gain: -inf\n",
      "[LightGBM] [Warning] No further splits with positive gain, best gain: -inf\n",
      "[LightGBM] [Warning] No further splits with positive gain, best gain: -inf\n",
      "[50]\ttraining's rmse: 7.10574\tvalid_1's rmse: 0.878502\n",
      "[LightGBM] [Warning] No further splits with positive gain, best gain: -inf\n",
      "[LightGBM] [Warning] No further splits with positive gain, best gain: -inf\n",
      "[LightGBM] [Warning] No further splits with positive gain, best gain: -inf\n",
      "[LightGBM] [Warning] No further splits with positive gain, best gain: -inf\n",
      "[LightGBM] [Warning] No further splits with positive gain, best gain: -inf\n",
      "[LightGBM] [Warning] No further splits with positive gain, best gain: -inf\n",
      "[LightGBM] [Warning] No further splits with positive gain, best gain: -inf\n",
      "[LightGBM] [Warning] No further splits with positive gain, best gain: -inf\n",
      "[LightGBM] [Warning] No further splits with positive gain, best gain: -inf\n",
      "[LightGBM] [Warning] No further splits with positive gain, best gain: -inf\n",
      "[LightGBM] [Warning] No further splits with positive gain, best gain: -inf\n",
      "[LightGBM] [Warning] No further splits with positive gain, best gain: -inf\n",
      "[LightGBM] [Warning] No further splits with positive gain, best gain: -inf\n",
      "[LightGBM] [Warning] No further splits with positive gain, best gain: -inf\n",
      "[LightGBM] [Warning] No further splits with positive gain, best gain: -inf\n",
      "[LightGBM] [Warning] No further splits with positive gain, best gain: -inf\n",
      "[LightGBM] [Warning] No further splits with positive gain, best gain: -inf\n",
      "[LightGBM] [Warning] No further splits with positive gain, best gain: -inf\n",
      "[LightGBM] [Warning] No further splits with positive gain, best gain: -inf\n",
      "[LightGBM] [Warning] No further splits with positive gain, best gain: -inf\n",
      "[LightGBM] [Warning] No further splits with positive gain, best gain: -inf\n",
      "[LightGBM] [Warning] No further splits with positive gain, best gain: -inf\n",
      "[LightGBM] [Warning] No further splits with positive gain, best gain: -inf\n",
      "[LightGBM] [Warning] No further splits with positive gain, best gain: -inf\n",
      "[LightGBM] [Warning] No further splits with positive gain, best gain: -inf\n",
      "[75]\ttraining's rmse: 6.50236\tvalid_1's rmse: 0.780773\n",
      "[LightGBM] [Warning] No further splits with positive gain, best gain: -inf\n",
      "[LightGBM] [Warning] No further splits with positive gain, best gain: -inf\n",
      "[LightGBM] [Warning] No further splits with positive gain, best gain: -inf\n",
      "[LightGBM] [Warning] No further splits with positive gain, best gain: -inf\n",
      "[LightGBM] [Warning] No further splits with positive gain, best gain: -inf\n",
      "[LightGBM] [Warning] No further splits with positive gain, best gain: -inf\n",
      "[LightGBM] [Warning] No further splits with positive gain, best gain: -inf\n",
      "[LightGBM] [Warning] No further splits with positive gain, best gain: -inf\n",
      "[LightGBM] [Warning] No further splits with positive gain, best gain: -inf\n",
      "[LightGBM] [Warning] No further splits with positive gain, best gain: -inf\n",
      "[LightGBM] [Warning] No further splits with positive gain, best gain: -inf\n",
      "[LightGBM] [Warning] No further splits with positive gain, best gain: -inf\n",
      "[LightGBM] [Warning] No further splits with positive gain, best gain: -inf\n",
      "[LightGBM] [Warning] No further splits with positive gain, best gain: -inf\n",
      "[LightGBM] [Warning] No further splits with positive gain, best gain: -inf\n",
      "[LightGBM] [Warning] No further splits with positive gain, best gain: -inf\n",
      "[LightGBM] [Warning] No further splits with positive gain, best gain: -inf\n",
      "[LightGBM] [Warning] No further splits with positive gain, best gain: -inf\n",
      "[LightGBM] [Warning] No further splits with positive gain, best gain: -inf\n",
      "[LightGBM] [Warning] No further splits with positive gain, best gain: -inf\n",
      "[LightGBM] [Warning] No further splits with positive gain, best gain: -inf\n",
      "[LightGBM] [Warning] No further splits with positive gain, best gain: -inf\n",
      "[LightGBM] [Warning] No further splits with positive gain, best gain: -inf\n",
      "[LightGBM] [Warning] No further splits with positive gain, best gain: -inf\n",
      "[LightGBM] [Warning] No further splits with positive gain, best gain: -inf\n",
      "[100]\ttraining's rmse: 6.4293\tvalid_1's rmse: 0.773439\n",
      "[LightGBM] [Warning] No further splits with positive gain, best gain: -inf\n",
      "[LightGBM] [Warning] No further splits with positive gain, best gain: -inf\n",
      "[LightGBM] [Warning] No further splits with positive gain, best gain: -inf\n",
      "[LightGBM] [Warning] No further splits with positive gain, best gain: -inf\n",
      "[LightGBM] [Warning] No further splits with positive gain, best gain: -inf\n",
      "[LightGBM] [Warning] No further splits with positive gain, best gain: -inf\n",
      "[LightGBM] [Warning] No further splits with positive gain, best gain: -inf\n",
      "[LightGBM] [Warning] No further splits with positive gain, best gain: -inf\n",
      "[LightGBM] [Warning] No further splits with positive gain, best gain: -inf\n",
      "[LightGBM] [Warning] No further splits with positive gain, best gain: -inf\n",
      "[LightGBM] [Warning] No further splits with positive gain, best gain: -inf\n",
      "[LightGBM] [Warning] No further splits with positive gain, best gain: -inf\n",
      "[LightGBM] [Warning] No further splits with positive gain, best gain: -inf\n",
      "[LightGBM] [Warning] No further splits with positive gain, best gain: -inf\n",
      "[LightGBM] [Warning] No further splits with positive gain, best gain: -inf\n",
      "[LightGBM] [Warning] No further splits with positive gain, best gain: -inf\n",
      "Early stopping, best iteration is:\n",
      "[96]\ttraining's rmse: 6.43751\tvalid_1's rmse: 0.767912\n",
      "\n",
      "\n",
      "****** 5W45 ******\n",
      "****** Split Criteria: CENSHARE_CAT_1 = 55 ******\n"
     ]
    },
    {
     "name": "stderr",
     "output_type": "stream",
     "text": [
      "c:\\dev\\verteiler\\venv\\lib\\site-packages\\lightgbm\\basic.py:1551: UserWarning: Using categorical_feature in Dataset.\n",
      "  warnings.warn('Using categorical_feature in Dataset.')\n",
      "c:\\dev\\verteiler\\venv\\lib\\site-packages\\lightgbm\\basic.py:1286: UserWarning: Overriding the parameters from Reference Dataset.\n",
      "  warnings.warn('Overriding the parameters from Reference Dataset.')\n",
      "c:\\dev\\verteiler\\venv\\lib\\site-packages\\lightgbm\\basic.py:1098: UserWarning: categorical_column in param dict is overridden.\n",
      "  warnings.warn('{} in param dict is overridden.'.format(cat_alias))\n"
     ]
    },
    {
     "name": "stdout",
     "output_type": "stream",
     "text": [
      "[LightGBM] [Warning] Auto-choosing col-wise multi-threading, the overhead of testing was 0.000079 seconds.\n",
      "You can set `force_col_wise=true` to remove the overhead.\n",
      "[LightGBM] [Info] Total Bins 86\n",
      "[LightGBM] [Info] Number of data points in the train set: 118, number of used features: 7\n",
      "[LightGBM] [Info] Start training from score 4.770291\n",
      "[LightGBM] [Warning] No further splits with positive gain, best gain: -inf\n",
      "Training until validation scores don't improve for 20 rounds\n",
      "[LightGBM] [Warning] No further splits with positive gain, best gain: -inf\n",
      "[LightGBM] [Warning] No further splits with positive gain, best gain: -inf\n",
      "[LightGBM] [Warning] No further splits with positive gain, best gain: -inf\n",
      "[LightGBM] [Warning] No further splits with positive gain, best gain: -inf\n",
      "[LightGBM] [Warning] No further splits with positive gain, best gain: -inf\n",
      "[LightGBM] [Warning] No further splits with positive gain, best gain: -inf\n",
      "[LightGBM] [Warning] No further splits with positive gain, best gain: -inf\n",
      "[LightGBM] [Warning] No further splits with positive gain, best gain: -inf\n",
      "[LightGBM] [Warning] No further splits with positive gain, best gain: -inf\n",
      "[LightGBM] [Warning] No further splits with positive gain, best gain: -inf\n",
      "[LightGBM] [Warning] No further splits with positive gain, best gain: -inf\n",
      "[LightGBM] [Warning] No further splits with positive gain, best gain: -inf\n",
      "[LightGBM] [Warning] No further splits with positive gain, best gain: -inf\n",
      "[LightGBM] [Warning] No further splits with positive gain, best gain: -inf\n",
      "[LightGBM] [Warning] No further splits with positive gain, best gain: -inf\n",
      "[LightGBM] [Warning] No further splits with positive gain, best gain: -inf\n",
      "[LightGBM] [Warning] No further splits with positive gain, best gain: -inf\n",
      "[LightGBM] [Warning] No further splits with positive gain, best gain: -inf\n",
      "[LightGBM] [Warning] No further splits with positive gain, best gain: -inf\n",
      "[LightGBM] [Warning] No further splits with positive gain, best gain: -inf\n",
      "[LightGBM] [Warning] No further splits with positive gain, best gain: -inf\n",
      "[LightGBM] [Warning] No further splits with positive gain, best gain: -inf\n",
      "[LightGBM] [Warning] No further splits with positive gain, best gain: -inf\n",
      "[LightGBM] [Warning] No further splits with positive gain, best gain: -inf\n",
      "[25]\ttraining's rmse: 133.436\tvalid_1's rmse: 122.318\n",
      "[LightGBM] [Warning] No further splits with positive gain, best gain: -inf\n",
      "[LightGBM] [Warning] No further splits with positive gain, best gain: -inf\n",
      "[LightGBM] [Warning] No further splits with positive gain, best gain: -inf\n",
      "[LightGBM] [Warning] No further splits with positive gain, best gain: -inf\n",
      "[LightGBM] [Warning] No further splits with positive gain, best gain: -inf\n",
      "[LightGBM] [Warning] No further splits with positive gain, best gain: -inf\n",
      "[LightGBM] [Warning] No further splits with positive gain, best gain: -inf\n",
      "[LightGBM] [Warning] No further splits with positive gain, best gain: -inf\n",
      "[LightGBM] [Warning] No further splits with positive gain, best gain: -inf\n",
      "[LightGBM] [Warning] No further splits with positive gain, best gain: -inf\n",
      "[LightGBM] [Warning] No further splits with positive gain, best gain: -inf\n",
      "[LightGBM] [Warning] No further splits with positive gain, best gain: -inf\n",
      "[LightGBM] [Warning] No further splits with positive gain, best gain: -inf\n",
      "[LightGBM] [Warning] No further splits with positive gain, best gain: -inf\n",
      "[LightGBM] [Warning] No further splits with positive gain, best gain: -inf\n",
      "[LightGBM] [Warning] No further splits with positive gain, best gain: -inf\n",
      "[LightGBM] [Warning] No further splits with positive gain, best gain: -inf\n",
      "[LightGBM] [Warning] No further splits with positive gain, best gain: -inf\n",
      "[LightGBM] [Warning] No further splits with positive gain, best gain: -inf\n",
      "[LightGBM] [Warning] No further splits with positive gain, best gain: -inf\n",
      "[LightGBM] [Warning] No further splits with positive gain, best gain: -inf\n",
      "[LightGBM] [Warning] No further splits with positive gain, best gain: -inf\n",
      "[LightGBM] [Warning] No further splits with positive gain, best gain: -inf\n",
      "[LightGBM] [Warning] No further splits with positive gain, best gain: -inf\n",
      "[LightGBM] [Warning] No further splits with positive gain, best gain: -inf\n",
      "[50]\ttraining's rmse: 124.365\tvalid_1's rmse: 121.826\n",
      "[LightGBM] [Warning] No further splits with positive gain, best gain: -inf\n",
      "[LightGBM] [Warning] No further splits with positive gain, best gain: -inf\n",
      "[LightGBM] [Warning] No further splits with positive gain, best gain: -inf\n",
      "[LightGBM] [Warning] No further splits with positive gain, best gain: -inf\n",
      "[LightGBM] [Warning] No further splits with positive gain, best gain: -inf\n",
      "[LightGBM] [Warning] No further splits with positive gain, best gain: -inf\n",
      "[LightGBM] [Warning] No further splits with positive gain, best gain: -inf\n",
      "[LightGBM] [Warning] No further splits with positive gain, best gain: -inf\n",
      "[LightGBM] [Warning] No further splits with positive gain, best gain: -inf\n",
      "[LightGBM] [Warning] No further splits with positive gain, best gain: -inf\n",
      "[LightGBM] [Warning] No further splits with positive gain, best gain: -inf\n",
      "[LightGBM] [Warning] No further splits with positive gain, best gain: -inf\n",
      "[LightGBM] [Warning] No further splits with positive gain, best gain: -inf\n",
      "[LightGBM] [Warning] No further splits with positive gain, best gain: -inf\n",
      "[LightGBM] [Warning] No further splits with positive gain, best gain: -inf\n",
      "[LightGBM] [Warning] No further splits with positive gain, best gain: -inf\n",
      "[LightGBM] [Warning] No further splits with positive gain, best gain: -inf\n",
      "[LightGBM] [Warning] No further splits with positive gain, best gain: -inf\n",
      "[LightGBM] [Warning] No further splits with positive gain, best gain: -inf\n",
      "[LightGBM] [Warning] No further splits with positive gain, best gain: -inf\n",
      "[LightGBM] [Warning] No further splits with positive gain, best gain: -inf\n",
      "[LightGBM] [Warning] No further splits with positive gain, best gain: -inf\n",
      "[LightGBM] [Warning] No further splits with positive gain, best gain: -inf\n",
      "[75]\ttraining's rmse: 119.03\tvalid_1's rmse: 120.779\n",
      "[LightGBM] [Warning] No further splits with positive gain, best gain: -inf\n",
      "[LightGBM] [Warning] No further splits with positive gain, best gain: -inf\n",
      "[LightGBM] [Warning] No further splits with positive gain, best gain: -inf\n",
      "[LightGBM] [Warning] No further splits with positive gain, best gain: -inf\n",
      "[LightGBM] [Warning] No further splits with positive gain, best gain: -inf\n",
      "[LightGBM] [Warning] No further splits with positive gain, best gain: -inf\n",
      "[LightGBM] [Warning] No further splits with positive gain, best gain: -inf\n",
      "[LightGBM] [Warning] No further splits with positive gain, best gain: -inf\n",
      "[LightGBM] [Warning] No further splits with positive gain, best gain: -inf\n",
      "[LightGBM] [Warning] No further splits with positive gain, best gain: -inf\n",
      "[LightGBM] [Warning] No further splits with positive gain, best gain: -inf\n",
      "[LightGBM] [Warning] No further splits with positive gain, best gain: -inf\n",
      "[LightGBM] [Warning] No further splits with positive gain, best gain: -inf\n",
      "[LightGBM] [Warning] No further splits with positive gain, best gain: -inf\n",
      "[LightGBM] [Warning] No further splits with positive gain, best gain: -inf\n",
      "[LightGBM] [Warning] No further splits with positive gain, best gain: -inf\n",
      "[LightGBM] [Warning] No further splits with positive gain, best gain: -inf\n",
      "[LightGBM] [Warning] No further splits with positive gain, best gain: -inf\n",
      "[LightGBM] [Warning] No further splits with positive gain, best gain: -inf\n",
      "[LightGBM] [Warning] No further splits with positive gain, best gain: -inf\n",
      "[LightGBM] [Warning] No further splits with positive gain, best gain: -inf\n",
      "[LightGBM] [Warning] No further splits with positive gain, best gain: -inf\n",
      "[LightGBM] [Warning] No further splits with positive gain, best gain: -inf\n",
      "[LightGBM] [Warning] No further splits with positive gain, best gain: -inf\n",
      "[LightGBM] [Warning] No further splits with positive gain, best gain: -inf\n",
      "[100]\ttraining's rmse: 115.441\tvalid_1's rmse: 120.479\n",
      "[LightGBM] [Warning] No further splits with positive gain, best gain: -inf\n",
      "[LightGBM] [Warning] No further splits with positive gain, best gain: -inf\n",
      "[LightGBM] [Warning] No further splits with positive gain, best gain: -inf\n",
      "[LightGBM] [Warning] No further splits with positive gain, best gain: -inf\n",
      "[LightGBM] [Warning] No further splits with positive gain, best gain: -inf\n",
      "[LightGBM] [Warning] No further splits with positive gain, best gain: -inf\n",
      "[LightGBM] [Warning] No further splits with positive gain, best gain: -inf\n",
      "[LightGBM] [Warning] No further splits with positive gain, best gain: -inf\n",
      "[LightGBM] [Warning] No further splits with positive gain, best gain: -inf\n",
      "[LightGBM] [Warning] No further splits with positive gain, best gain: -inf\n",
      "[LightGBM] [Warning] No further splits with positive gain, best gain: -inf\n",
      "[LightGBM] [Warning] No further splits with positive gain, best gain: -inf\n",
      "[LightGBM] [Warning] No further splits with positive gain, best gain: -inf\n",
      "[LightGBM] [Warning] No further splits with positive gain, best gain: -inf\n",
      "[LightGBM] [Warning] No further splits with positive gain, best gain: -inf\n",
      "[LightGBM] [Warning] No further splits with positive gain, best gain: -inf\n",
      "[LightGBM] [Warning] No further splits with positive gain, best gain: -inf\n",
      "[LightGBM] [Warning] No further splits with positive gain, best gain: -inf\n",
      "[LightGBM] [Warning] No further splits with positive gain, best gain: -inf\n",
      "[LightGBM] [Warning] No further splits with positive gain, best gain: -inf\n",
      "[LightGBM] [Warning] No further splits with positive gain, best gain: -inf\n",
      "[LightGBM] [Warning] No further splits with positive gain, best gain: -inf\n",
      "[LightGBM] [Warning] No further splits with positive gain, best gain: -inf\n",
      "[LightGBM] [Warning] No further splits with positive gain, best gain: -inf\n",
      "[LightGBM] [Warning] No further splits with positive gain, best gain: -inf\n",
      "[125]\ttraining's rmse: 111.761\tvalid_1's rmse: 119.376\n",
      "[LightGBM] [Warning] No further splits with positive gain, best gain: -inf\n",
      "[LightGBM] [Warning] No further splits with positive gain, best gain: -inf\n",
      "[LightGBM] [Warning] No further splits with positive gain, best gain: -inf\n",
      "[LightGBM] [Warning] No further splits with positive gain, best gain: -inf\n",
      "[LightGBM] [Warning] No further splits with positive gain, best gain: -inf\n",
      "[LightGBM] [Warning] No further splits with positive gain, best gain: -inf\n",
      "[LightGBM] [Warning] No further splits with positive gain, best gain: -inf\n",
      "[LightGBM] [Warning] No further splits with positive gain, best gain: -inf\n",
      "[LightGBM] [Warning] No further splits with positive gain, best gain: -inf\n",
      "[LightGBM] [Warning] No further splits with positive gain, best gain: -inf\n",
      "[LightGBM] [Warning] No further splits with positive gain, best gain: -inf\n",
      "[LightGBM] [Warning] No further splits with positive gain, best gain: -inf\n",
      "[LightGBM] [Warning] No further splits with positive gain, best gain: -inf\n",
      "[LightGBM] [Warning] No further splits with positive gain, best gain: -inf\n",
      "[LightGBM] [Warning] No further splits with positive gain, best gain: -inf\n",
      "[LightGBM] [Warning] No further splits with positive gain, best gain: -inf\n",
      "[LightGBM] [Warning] No further splits with positive gain, best gain: -inf\n",
      "[LightGBM] [Warning] No further splits with positive gain, best gain: -inf\n",
      "[LightGBM] [Warning] No further splits with positive gain, best gain: -inf\n",
      "[LightGBM] [Warning] No further splits with positive gain, best gain: -inf\n",
      "[LightGBM] [Warning] No further splits with positive gain, best gain: -inf\n",
      "[150]\ttraining's rmse: 108.889\tvalid_1's rmse: 118.236\n",
      "[LightGBM] [Warning] No further splits with positive gain, best gain: -inf\n",
      "[LightGBM] [Warning] No further splits with positive gain, best gain: -inf\n",
      "[LightGBM] [Warning] No further splits with positive gain, best gain: -inf\n",
      "[LightGBM] [Warning] No further splits with positive gain, best gain: -inf\n",
      "[LightGBM] [Warning] No further splits with positive gain, best gain: -inf\n",
      "[LightGBM] [Warning] No further splits with positive gain, best gain: -inf\n",
      "[LightGBM] [Warning] No further splits with positive gain, best gain: -inf\n",
      "[LightGBM] [Warning] No further splits with positive gain, best gain: -inf\n",
      "[LightGBM] [Warning] No further splits with positive gain, best gain: -inf\n",
      "[LightGBM] [Warning] No further splits with positive gain, best gain: -inf\n",
      "[LightGBM] [Warning] No further splits with positive gain, best gain: -inf\n",
      "[LightGBM] [Warning] No further splits with positive gain, best gain: -inf\n",
      "[LightGBM] [Warning] No further splits with positive gain, best gain: -inf\n",
      "[LightGBM] [Warning] No further splits with positive gain, best gain: -inf\n",
      "[LightGBM] [Warning] No further splits with positive gain, best gain: -inf\n",
      "[LightGBM] [Warning] No further splits with positive gain, best gain: -inf\n",
      "[LightGBM] [Warning] No further splits with positive gain, best gain: -inf\n",
      "[LightGBM] [Warning] No further splits with positive gain, best gain: -inf\n",
      "[LightGBM] [Warning] No further splits with positive gain, best gain: -inf\n",
      "[LightGBM] [Warning] No further splits with positive gain, best gain: -inf\n",
      "[LightGBM] [Warning] No further splits with positive gain, best gain: -inf\n",
      "[175]\ttraining's rmse: 105.632\tvalid_1's rmse: 117.155\n",
      "[LightGBM] [Warning] No further splits with positive gain, best gain: -inf\n",
      "[LightGBM] [Warning] No further splits with positive gain, best gain: -inf\n",
      "[LightGBM] [Warning] No further splits with positive gain, best gain: -inf\n",
      "[LightGBM] [Warning] No further splits with positive gain, best gain: -inf\n",
      "[LightGBM] [Warning] No further splits with positive gain, best gain: -inf\n",
      "[LightGBM] [Warning] No further splits with positive gain, best gain: -inf\n",
      "[LightGBM] [Warning] No further splits with positive gain, best gain: -inf\n",
      "[LightGBM] [Warning] No further splits with positive gain, best gain: -inf\n",
      "[LightGBM] [Warning] No further splits with positive gain, best gain: -inf\n",
      "[LightGBM] [Warning] No further splits with positive gain, best gain: -inf\n",
      "[LightGBM] [Warning] No further splits with positive gain, best gain: -inf\n",
      "[LightGBM] [Warning] No further splits with positive gain, best gain: -inf\n",
      "[LightGBM] [Warning] No further splits with positive gain, best gain: -inf\n",
      "[LightGBM] [Warning] No further splits with positive gain, best gain: -inf\n",
      "[LightGBM] [Warning] No further splits with positive gain, best gain: -inf\n",
      "[LightGBM] [Warning] No further splits with positive gain, best gain: -inf\n"
     ]
    },
    {
     "name": "stdout",
     "output_type": "stream",
     "text": [
      "[LightGBM] [Warning] No further splits with positive gain, best gain: -inf\n",
      "[LightGBM] [Warning] No further splits with positive gain, best gain: -inf\n",
      "[LightGBM] [Warning] No further splits with positive gain, best gain: -inf\n",
      "[LightGBM] [Warning] No further splits with positive gain, best gain: -inf\n",
      "[200]\ttraining's rmse: 100.357\tvalid_1's rmse: 115.016\n",
      "[LightGBM] [Warning] No further splits with positive gain, best gain: -inf\n",
      "[LightGBM] [Warning] No further splits with positive gain, best gain: -inf\n",
      "[LightGBM] [Warning] No further splits with positive gain, best gain: -inf\n",
      "[LightGBM] [Warning] No further splits with positive gain, best gain: -inf\n",
      "[LightGBM] [Warning] No further splits with positive gain, best gain: -inf\n",
      "[LightGBM] [Warning] No further splits with positive gain, best gain: -inf\n",
      "[LightGBM] [Warning] No further splits with positive gain, best gain: -inf\n",
      "[LightGBM] [Warning] No further splits with positive gain, best gain: -inf\n",
      "[LightGBM] [Warning] No further splits with positive gain, best gain: -inf\n",
      "[LightGBM] [Warning] No further splits with positive gain, best gain: -inf\n",
      "[LightGBM] [Warning] No further splits with positive gain, best gain: -inf\n",
      "[LightGBM] [Warning] No further splits with positive gain, best gain: -inf\n",
      "[LightGBM] [Warning] No further splits with positive gain, best gain: -inf\n",
      "[LightGBM] [Warning] No further splits with positive gain, best gain: -inf\n",
      "[LightGBM] [Warning] No further splits with positive gain, best gain: -inf\n",
      "[LightGBM] [Warning] No further splits with positive gain, best gain: -inf\n",
      "[LightGBM] [Warning] No further splits with positive gain, best gain: -inf\n",
      "[225]\ttraining's rmse: 96.8848\tvalid_1's rmse: 115.263\n",
      "[LightGBM] [Warning] No further splits with positive gain, best gain: -inf\n",
      "[LightGBM] [Warning] No further splits with positive gain, best gain: -inf\n",
      "[LightGBM] [Warning] No further splits with positive gain, best gain: -inf\n",
      "[LightGBM] [Warning] No further splits with positive gain, best gain: -inf\n",
      "[LightGBM] [Warning] No further splits with positive gain, best gain: -inf\n",
      "Early stopping, best iteration is:\n",
      "[212]\ttraining's rmse: 98.3344\tvalid_1's rmse: 114.781\n"
     ]
    }
   ],
   "source": [
    "rmse = []\n",
    "\n",
    "\n",
    "\n",
    "save_models = False\n",
    "\n",
    "for week, year in splits:\n",
    "    for split in df[split_criteria].drop_duplicates():\n",
    "        print(f'\\n\\n****** {year}W{week} ******')\n",
    "        print(f'****** Split Criteria: {split_criteria} = {i} ******')\n",
    "        \n",
    "        df_class = df.loc[df.Classification == 'C'].loc[df[split_criteria] == split].copy()\n",
    "        if df_class.empty:\n",
    "            continue\n",
    "        \n",
    "        evals_result = {}\n",
    "\n",
    "        week=int(week)\n",
    "        year=int(year)\n",
    "\n",
    "        # Train data: same year and past week OR past year\n",
    "        x_train = df_class.loc[((df_class.Year == (Week(year, week))[0]) & (df_class.Week <= (Week(year, week))[1])) | (df_class.Year < (Week(year, week))[0])][features]\n",
    "        y_train = df_class.loc[((df_class.Year == (Week(year, week))[0]) & (df_class.Week <= (Week(year, week))[1])) | (df_class.Year < (Week(year, week))[0])][target_variable]\n",
    "\n",
    "        x_test = df_class.loc[df_class.Year == (Week(year, week)+1)[0]].loc[df_class.Week == (Week(year, week)+1)[1]][features]\n",
    "        y_test = df_class.loc[df_class.Year == (Week(year, week)+1)[0]].loc[df_class.Week == (Week(year, week)+1)[1]][target_variable]\n",
    "\n",
    "\n",
    "\n",
    "        train_data = lgb.Dataset(x_train, label=y_train,\n",
    "                                 categorical_feature=cat_features, free_raw_data=False,\n",
    "                               )\n",
    "        validation_data = lgb.Dataset(\n",
    "            x_test, label=y_test, categorical_feature=cat_features, free_raw_data=False, reference=train_data,\n",
    "        )\n",
    "\n",
    "\n",
    "\n",
    "        gbm = lgb.train(model_params, train_data, valid_sets=[train_data, validation_data],\n",
    "                        evals_result=evals_result, num_boost_round=1000,\n",
    "                        verbose_eval=25, early_stopping_rounds=20,\n",
    "                       )\n",
    "\n",
    "\n",
    "        y_pred = gbm.predict(x_test, num_iteration=gbm.best_iteration)\n",
    "\n",
    "\n",
    "        if save_models:\n",
    "            print('log: save model and evals result')\n",
    "            gbm.save_model(path_models + f'gbm_{year}w{week}.txt', num_iteration=gbm.best_iteration) \n",
    "\n",
    "            evals_result_p = open(path_models+ f'evals_result_{year}w{week}.pkl', 'wb')\n",
    "            pickle.dump(evals_result, evals_result_p)\n",
    "            evals_result_p.close()\n",
    "\n",
    "        rmse.append(mean_squared_error(y_test, y_pred, squared=False))\n",
    "        \n",
    "        # Gather results of this article category and store them in general result_df\n",
    "        result_class = x_test[['Week', 'Year', 'Site_ID', 'SKU']].copy()\n",
    "        result_class[target_variable] = list(y_test)\n",
    "        result_class['Prediction'] = list(y_pred)\n",
    "\n",
    "\n",
    "        result_df = result_df.append(result_class)"
   ]
  },
  {
   "cell_type": "code",
   "execution_count": 335,
   "metadata": {
    "ExecuteTime": {
     "end_time": "2021-03-13T12:56:36.015819Z",
     "start_time": "2021-03-13T12:56:36.001857Z"
    }
   },
   "outputs": [
    {
     "name": "stdout",
     "output_type": "stream",
     "text": [
      "RMSE:\n",
      " [239.84708003061846, 35.64577294977227, 52.58615061858261, 20.641890640533063, 15.874123928127021, 87.38846749898752, 36.88421655965037, 13.267811017942359, 38.908352368289485, 64.05496117658376, 20.106337750574653, 39.51968948805011, 82.03269512636047, 67.98445282741287, 66.10581423575681, 0.009697341821831079, 0.7679116741460678, 114.78054376821723]\n",
      "\n",
      "Crossvalidated RMSE:  55.35588716674594\n"
     ]
    }
   ],
   "source": [
    "print('RMSE:\\n', rmse)\n",
    "    \n",
    "print('\\nCrossvalidated RMSE: ', np.mean(rmse))"
   ]
  },
  {
   "cell_type": "code",
   "execution_count": 336,
   "metadata": {
    "ExecuteTime": {
     "end_time": "2021-03-13T12:56:36.046736Z",
     "start_time": "2021-03-13T12:56:36.017814Z"
    }
   },
   "outputs": [
    {
     "data": {
      "text/html": [
       "<div>\n",
       "<style scoped>\n",
       "    .dataframe tbody tr th:only-of-type {\n",
       "        vertical-align: middle;\n",
       "    }\n",
       "\n",
       "    .dataframe tbody tr th {\n",
       "        vertical-align: top;\n",
       "    }\n",
       "\n",
       "    .dataframe thead th {\n",
       "        text-align: right;\n",
       "    }\n",
       "</style>\n",
       "<table border=\"1\" class=\"dataframe\">\n",
       "  <thead>\n",
       "    <tr style=\"text-align: right;\">\n",
       "      <th></th>\n",
       "      <th>Week</th>\n",
       "      <th>Year</th>\n",
       "      <th>Site_ID</th>\n",
       "      <th>SKU</th>\n",
       "      <th>Prediction</th>\n",
       "      <th>Turnover</th>\n",
       "    </tr>\n",
       "  </thead>\n",
       "  <tbody>\n",
       "    <tr>\n",
       "      <th>307</th>\n",
       "      <td>46</td>\n",
       "      <td>5</td>\n",
       "      <td>0</td>\n",
       "      <td>0</td>\n",
       "      <td>32.703613</td>\n",
       "      <td>29.900000</td>\n",
       "    </tr>\n",
       "    <tr>\n",
       "      <th>3034</th>\n",
       "      <td>46</td>\n",
       "      <td>5</td>\n",
       "      <td>0</td>\n",
       "      <td>1</td>\n",
       "      <td>20.781631</td>\n",
       "      <td>0.000000</td>\n",
       "    </tr>\n",
       "    <tr>\n",
       "      <th>5409</th>\n",
       "      <td>46</td>\n",
       "      <td>5</td>\n",
       "      <td>0</td>\n",
       "      <td>2</td>\n",
       "      <td>19.651486</td>\n",
       "      <td>0.000000</td>\n",
       "    </tr>\n",
       "    <tr>\n",
       "      <th>8097</th>\n",
       "      <td>46</td>\n",
       "      <td>5</td>\n",
       "      <td>0</td>\n",
       "      <td>3</td>\n",
       "      <td>51.940374</td>\n",
       "      <td>0.000000</td>\n",
       "    </tr>\n",
       "    <tr>\n",
       "      <th>9329</th>\n",
       "      <td>46</td>\n",
       "      <td>5</td>\n",
       "      <td>4</td>\n",
       "      <td>3</td>\n",
       "      <td>49.319050</td>\n",
       "      <td>0.000000</td>\n",
       "    </tr>\n",
       "    <tr>\n",
       "      <th>...</th>\n",
       "      <td>...</td>\n",
       "      <td>...</td>\n",
       "      <td>...</td>\n",
       "      <td>...</td>\n",
       "      <td>...</td>\n",
       "      <td>...</td>\n",
       "    </tr>\n",
       "    <tr>\n",
       "      <th>8415100</th>\n",
       "      <td>46</td>\n",
       "      <td>5</td>\n",
       "      <td>4</td>\n",
       "      <td>8975</td>\n",
       "      <td>76.566424</td>\n",
       "      <td>79.199997</td>\n",
       "    </tr>\n",
       "    <tr>\n",
       "      <th>8415106</th>\n",
       "      <td>46</td>\n",
       "      <td>5</td>\n",
       "      <td>5</td>\n",
       "      <td>8975</td>\n",
       "      <td>54.327838</td>\n",
       "      <td>0.000000</td>\n",
       "    </tr>\n",
       "    <tr>\n",
       "      <th>8415110</th>\n",
       "      <td>46</td>\n",
       "      <td>5</td>\n",
       "      <td>6</td>\n",
       "      <td>8975</td>\n",
       "      <td>38.668586</td>\n",
       "      <td>0.000000</td>\n",
       "    </tr>\n",
       "    <tr>\n",
       "      <th>8415115</th>\n",
       "      <td>46</td>\n",
       "      <td>5</td>\n",
       "      <td>7</td>\n",
       "      <td>8975</td>\n",
       "      <td>78.065214</td>\n",
       "      <td>59.400002</td>\n",
       "    </tr>\n",
       "    <tr>\n",
       "      <th>8415120</th>\n",
       "      <td>46</td>\n",
       "      <td>5</td>\n",
       "      <td>8</td>\n",
       "      <td>8975</td>\n",
       "      <td>224.471527</td>\n",
       "      <td>0.000000</td>\n",
       "    </tr>\n",
       "  </tbody>\n",
       "</table>\n",
       "<p>64782 rows × 6 columns</p>\n",
       "</div>"
      ],
      "text/plain": [
       "        Week Year Site_ID   SKU  Prediction   Turnover\n",
       "307       46    5       0     0   32.703613  29.900000\n",
       "3034      46    5       0     1   20.781631   0.000000\n",
       "5409      46    5       0     2   19.651486   0.000000\n",
       "8097      46    5       0     3   51.940374   0.000000\n",
       "9329      46    5       4     3   49.319050   0.000000\n",
       "...      ...  ...     ...   ...         ...        ...\n",
       "8415100   46    5       4  8975   76.566424  79.199997\n",
       "8415106   46    5       5  8975   54.327838   0.000000\n",
       "8415110   46    5       6  8975   38.668586   0.000000\n",
       "8415115   46    5       7  8975   78.065214  59.400002\n",
       "8415120   46    5       8  8975  224.471527   0.000000\n",
       "\n",
       "[64782 rows x 6 columns]"
      ]
     },
     "execution_count": 336,
     "metadata": {},
     "output_type": "execute_result"
    }
   ],
   "source": [
    "result_df"
   ]
  },
  {
   "cell_type": "markdown",
   "metadata": {},
   "source": [
    "## Validate Overall Performance"
   ]
  },
  {
   "cell_type": "code",
   "execution_count": 337,
   "metadata": {
    "ExecuteTime": {
     "end_time": "2021-03-13T12:56:36.062694Z",
     "start_time": "2021-03-13T12:56:36.048731Z"
    }
   },
   "outputs": [
    {
     "data": {
      "text/plain": [
       "96.1175013451851"
      ]
     },
     "execution_count": 337,
     "metadata": {},
     "output_type": "execute_result"
    }
   ],
   "source": [
    "mean_squared_error(result_df.Prediction, result_df.Turnover, squared=False)"
   ]
  }
 ],
 "metadata": {
  "kernelspec": {
   "display_name": "Python 3",
   "language": "python",
   "name": "python3"
  },
  "language_info": {
   "codemirror_mode": {
    "name": "ipython",
    "version": 3
   },
   "file_extension": ".py",
   "mimetype": "text/x-python",
   "name": "python",
   "nbconvert_exporter": "python",
   "pygments_lexer": "ipython3",
   "version": "3.7.6"
  }
 },
 "nbformat": 4,
 "nbformat_minor": 4
}
