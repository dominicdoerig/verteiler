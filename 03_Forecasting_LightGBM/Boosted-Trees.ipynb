{
 "cells": [
  {
   "cell_type": "markdown",
   "metadata": {},
   "source": [
    "# Import Packages"
   ]
  },
  {
   "cell_type": "code",
   "execution_count": 1,
   "metadata": {
    "ExecuteTime": {
     "end_time": "2021-05-23T12:19:26.516535Z",
     "start_time": "2021-05-23T12:19:24.700551Z"
    }
   },
   "outputs": [],
   "source": [
    "import sys\n",
    "sys.path.append('..')\n",
    "import pandas as pd\n",
    "import utils\n",
    "from sklearn.metrics import mean_squared_error\n",
    "import numpy as np\n",
    "from isoweek import Week\n",
    "import math\n",
    "from sklearn.preprocessing import LabelEncoder\n",
    "import lightgbm as lgb\n",
    "import pickle\n",
    "import matplotlib.pyplot as plt\n",
    "from IPython.display import clear_output"
   ]
  },
  {
   "cell_type": "markdown",
   "metadata": {},
   "source": [
    "# Settings"
   ]
  },
  {
   "cell_type": "code",
   "execution_count": 2,
   "metadata": {
    "ExecuteTime": {
     "end_time": "2021-05-23T12:19:26.580657Z",
     "start_time": "2021-05-23T12:19:26.568693Z"
    }
   },
   "outputs": [],
   "source": [
    "path_models = utils.get_project_root() + '/03_Forecasting_LightGBM/models/'\n",
    "\n",
    "forecast_horizon = 1\n",
    "\n",
    "n_splits = 4\n",
    "\n",
    "target_variable = 'Turnover' # Either 'Turnover' or 'Sales_QTY'"
   ]
  },
  {
   "cell_type": "markdown",
   "metadata": {},
   "source": [
    "# Import Sales Data"
   ]
  },
  {
   "cell_type": "code",
   "execution_count": null,
   "metadata": {
    "ExecuteTime": {
     "end_time": "2021-05-23T12:19:01.185123Z",
     "start_time": "2021-05-23T12:18:46.003830Z"
    },
    "scrolled": true
   },
   "outputs": [],
   "source": [
    "query = 'SELECT * FROM `globus-datahub-dev.Verteiler_PoC.timeseries_sales_weekly` where Year >= 2015 and (Year <= 2019 OR (Year = 2020 AND Week <= 47))  order by sku, site_id, year, week'\n",
    "df_raw = utils.bq_to_dataframe(\n",
    "    query, verbose=True).pipe(utils.reduce_memory_usage)"
   ]
  },
  {
   "cell_type": "code",
   "execution_count": null,
   "metadata": {
    "ExecuteTime": {
     "end_time": "2021-05-23T12:19:01.187118Z",
     "start_time": "2021-05-23T12:18:43.965Z"
    }
   },
   "outputs": [],
   "source": [
    "df = df_raw.copy()\n",
    "df"
   ]
  },
  {
   "cell_type": "markdown",
   "metadata": {},
   "source": [
    "# Data Preprocessing"
   ]
  },
  {
   "cell_type": "code",
   "execution_count": null,
   "metadata": {
    "ExecuteTime": {
     "end_time": "2021-05-23T12:19:01.188116Z",
     "start_time": "2021-05-23T12:18:43.967Z"
    }
   },
   "outputs": [],
   "source": [
    "# keep only relevant columns\n",
    "df = df[['Week', 'Year', 'Site_ID', 'SKU', 'Sales_QTY', 'Turnover','Season_Year',\n",
    "       'Vendor_ID','Price_Level','Web_Article','CENSHARE_CAT_1', 'CENSHARE_CAT_2', 'CENSHARE_CAT_3']].copy()"
   ]
  },
  {
   "cell_type": "code",
   "execution_count": null,
   "metadata": {
    "ExecuteTime": {
     "end_time": "2021-05-23T12:19:01.188116Z",
     "start_time": "2021-05-23T12:18:43.968Z"
    }
   },
   "outputs": [],
   "source": [
    "# Get rid of negative Sales / Turnover\n",
    "df.loc[:, 'Sales_QTY'] = df.Sales_QTY.clip(lower=0)\n",
    "df.loc[:, 'Turnover'] = df.Turnover.clip(lower=0)\n",
    "\n",
    "# Replace Censhare Cat if not applicable\n",
    "df.loc[df.CENSHARE_CAT_1.isna(), 'CENSHARE_CAT_1'] = 'NA'"
   ]
  },
  {
   "cell_type": "code",
   "execution_count": 11,
   "metadata": {
    "ExecuteTime": {
     "end_time": "2021-05-23T12:58:56.235241Z",
     "start_time": "2021-05-23T12:58:28.807502Z"
    }
   },
   "outputs": [
    {
     "name": "stderr",
     "output_type": "stream",
     "text": [
      "c:\\dev\\verteiler\\venv5\\lib\\site-packages\\IPython\\core\\interactiveshell.py:3147: DtypeWarning: Columns (14) have mixed types.Specify dtype option on import or set low_memory=False.\n",
      "  interactivity=interactivity, compiler=compiler, result=result)\n"
     ]
    }
   ],
   "source": [
    "df = pd.read_csv('data.csv')"
   ]
  },
  {
   "cell_type": "code",
   "execution_count": 12,
   "metadata": {
    "ExecuteTime": {
     "end_time": "2021-05-23T12:58:56.250255Z",
     "start_time": "2021-05-23T12:58:56.237237Z"
    }
   },
   "outputs": [],
   "source": [
    "cat_features = [\n",
    "'Week', 'Year', 'Site_ID', 'SKU','Season_Year',\n",
    "       'Vendor_ID', 'Price_Level', 'Web_Article', 'CENSHARE_CAT_1',\n",
    "       'CENSHARE_CAT_2', 'CENSHARE_CAT_3'\n",
    "]\n",
    "\n",
    "num_features = [\n",
    "'rolling_mean_w4', 'lag_w1',\n",
    "       'lag_w2', 'lag_w3', 'lag_w4', 'lag_y1', 'lag_y2','rolling_std_w4','rolling_std_w8'\n",
    "]\n",
    "\n",
    "features = cat_features + num_features"
   ]
  },
  {
   "cell_type": "code",
   "execution_count": 13,
   "metadata": {
    "ExecuteTime": {
     "end_time": "2021-05-23T12:59:06.660391Z",
     "start_time": "2021-05-23T12:58:56.252198Z"
    }
   },
   "outputs": [],
   "source": [
    "# Convert categorical features to integers \n",
    "df, encoders_dict = utils.encode_categorical(df, cat_features, return_encoders = True)"
   ]
  },
  {
   "cell_type": "markdown",
   "metadata": {},
   "source": [
    "# Feature Engineering"
   ]
  },
  {
   "cell_type": "code",
   "execution_count": 14,
   "metadata": {
    "ExecuteTime": {
     "end_time": "2021-05-23T13:02:45.363228Z",
     "start_time": "2021-05-23T12:59:06.662336Z"
    }
   },
   "outputs": [],
   "source": [
    "df['rolling_mean_w4'] = df.sort_values(by=['Year', 'Week']).groupby(\n",
    "    ['SKU', 'Site_ID'])[target_variable].transform(lambda x: x.shift(1).rolling(window=4).mean())\n",
    "\n",
    "df['rolling_mean_w8'] = df.sort_values(by=['Year', 'Week']).groupby(\n",
    "    ['SKU', 'Site_ID'])[target_variable].transform(lambda x: x.shift(1).rolling(window=8).mean())\n",
    "\n",
    "df['rolling_std_w4'] = df.sort_values(by=['Year', 'Week']).groupby(\n",
    "    ['SKU', 'Site_ID'])[target_variable].transform(lambda x: x.shift(1).rolling(window=4).std())\n",
    "\n",
    "df['rolling_std_w8'] = df.sort_values(by=['Year', 'Week']).groupby(\n",
    "    ['SKU', 'Site_ID'])[target_variable].transform(lambda x: x.shift(1).rolling(window=8).std())\n",
    "\n",
    "df['lag_w1'] = df.sort_values(by=['Year', 'Week']).groupby(\n",
    "    ['SKU', 'Site_ID'])[target_variable].transform(lambda x: x.shift(1))\n",
    "\n",
    "df['lag_w2'] = df.sort_values(by=['Year', 'Week']).groupby(\n",
    "    ['SKU', 'Site_ID'])[target_variable].transform(lambda x: x.shift(2))\n",
    "\n",
    "df['lag_w3'] = df.sort_values(by=['Year', 'Week']).groupby(\n",
    "    ['SKU', 'Site_ID'])[target_variable].transform(lambda x: x.shift(3))\n",
    "\n",
    "df['lag_w4'] = df.sort_values(by=['Year', 'Week']).groupby(\n",
    "    ['SKU', 'Site_ID'])[target_variable].transform(lambda x: x.shift(4))\n",
    "\n",
    "df['lag_y1'] = df.sort_values(by=['Year', 'Week']).groupby(\n",
    "    ['SKU', 'Site_ID'])[target_variable].transform(lambda x: x.shift(52))\n",
    "\n",
    "df['lag_y2'] = df.sort_values(by=['Year', 'Week']).groupby(\n",
    "    ['SKU', 'Site_ID'])[target_variable].transform(lambda x: x.shift(104))\n"
   ]
  },
  {
   "cell_type": "code",
   "execution_count": 15,
   "metadata": {
    "ExecuteTime": {
     "end_time": "2021-05-23T13:02:47.737517Z",
     "start_time": "2021-05-23T13:02:45.366179Z"
    }
   },
   "outputs": [
    {
     "data": {
      "text/html": [
       "<div>\n",
       "<style scoped>\n",
       "    .dataframe tbody tr th:only-of-type {\n",
       "        vertical-align: middle;\n",
       "    }\n",
       "\n",
       "    .dataframe tbody tr th {\n",
       "        vertical-align: top;\n",
       "    }\n",
       "\n",
       "    .dataframe thead th {\n",
       "        text-align: right;\n",
       "    }\n",
       "</style>\n",
       "<table border=\"1\" class=\"dataframe\">\n",
       "  <thead>\n",
       "    <tr style=\"text-align: right;\">\n",
       "      <th></th>\n",
       "      <th>Week</th>\n",
       "      <th>Year</th>\n",
       "      <th>Date</th>\n",
       "      <th>Site_ID</th>\n",
       "      <th>SKU</th>\n",
       "      <th>Sales_QTY</th>\n",
       "      <th>Turnover</th>\n",
       "      <th>Price</th>\n",
       "      <th>Season_Year</th>\n",
       "      <th>Vendor_ID</th>\n",
       "      <th>...</th>\n",
       "      <th>rolling_mean_w4</th>\n",
       "      <th>rolling_mean_w8</th>\n",
       "      <th>rolling_std_w4</th>\n",
       "      <th>rolling_std_w8</th>\n",
       "      <th>lag_w1</th>\n",
       "      <th>lag_w2</th>\n",
       "      <th>lag_w3</th>\n",
       "      <th>lag_w4</th>\n",
       "      <th>lag_y1</th>\n",
       "      <th>lag_y2</th>\n",
       "    </tr>\n",
       "  </thead>\n",
       "  <tbody>\n",
       "    <tr>\n",
       "      <th>0</th>\n",
       "      <td>0</td>\n",
       "      <td>0</td>\n",
       "      <td>2015W1</td>\n",
       "      <td>0</td>\n",
       "      <td>0</td>\n",
       "      <td>5.0</td>\n",
       "      <td>129.50</td>\n",
       "      <td>25.90</td>\n",
       "      <td>4</td>\n",
       "      <td>24</td>\n",
       "      <td>...</td>\n",
       "      <td>NaN</td>\n",
       "      <td>NaN</td>\n",
       "      <td>NaN</td>\n",
       "      <td>NaN</td>\n",
       "      <td>NaN</td>\n",
       "      <td>NaN</td>\n",
       "      <td>NaN</td>\n",
       "      <td>NaN</td>\n",
       "      <td>NaN</td>\n",
       "      <td>NaN</td>\n",
       "    </tr>\n",
       "    <tr>\n",
       "      <th>1</th>\n",
       "      <td>1</td>\n",
       "      <td>0</td>\n",
       "      <td>2015W2</td>\n",
       "      <td>0</td>\n",
       "      <td>0</td>\n",
       "      <td>2.0</td>\n",
       "      <td>51.80</td>\n",
       "      <td>25.90</td>\n",
       "      <td>4</td>\n",
       "      <td>24</td>\n",
       "      <td>...</td>\n",
       "      <td>NaN</td>\n",
       "      <td>NaN</td>\n",
       "      <td>NaN</td>\n",
       "      <td>NaN</td>\n",
       "      <td>129.5</td>\n",
       "      <td>NaN</td>\n",
       "      <td>NaN</td>\n",
       "      <td>NaN</td>\n",
       "      <td>NaN</td>\n",
       "      <td>NaN</td>\n",
       "    </tr>\n",
       "    <tr>\n",
       "      <th>2</th>\n",
       "      <td>2</td>\n",
       "      <td>0</td>\n",
       "      <td>2015W3</td>\n",
       "      <td>0</td>\n",
       "      <td>0</td>\n",
       "      <td>0.0</td>\n",
       "      <td>0.00</td>\n",
       "      <td>25.90</td>\n",
       "      <td>4</td>\n",
       "      <td>24</td>\n",
       "      <td>...</td>\n",
       "      <td>NaN</td>\n",
       "      <td>NaN</td>\n",
       "      <td>NaN</td>\n",
       "      <td>NaN</td>\n",
       "      <td>51.8</td>\n",
       "      <td>129.5</td>\n",
       "      <td>NaN</td>\n",
       "      <td>NaN</td>\n",
       "      <td>NaN</td>\n",
       "      <td>NaN</td>\n",
       "    </tr>\n",
       "    <tr>\n",
       "      <th>3</th>\n",
       "      <td>3</td>\n",
       "      <td>0</td>\n",
       "      <td>2015W4</td>\n",
       "      <td>0</td>\n",
       "      <td>0</td>\n",
       "      <td>1.0</td>\n",
       "      <td>25.90</td>\n",
       "      <td>25.90</td>\n",
       "      <td>4</td>\n",
       "      <td>24</td>\n",
       "      <td>...</td>\n",
       "      <td>NaN</td>\n",
       "      <td>NaN</td>\n",
       "      <td>NaN</td>\n",
       "      <td>NaN</td>\n",
       "      <td>0.0</td>\n",
       "      <td>51.8</td>\n",
       "      <td>129.5</td>\n",
       "      <td>NaN</td>\n",
       "      <td>NaN</td>\n",
       "      <td>NaN</td>\n",
       "    </tr>\n",
       "    <tr>\n",
       "      <th>4</th>\n",
       "      <td>4</td>\n",
       "      <td>0</td>\n",
       "      <td>2015W5</td>\n",
       "      <td>0</td>\n",
       "      <td>0</td>\n",
       "      <td>0.0</td>\n",
       "      <td>0.00</td>\n",
       "      <td>25.90</td>\n",
       "      <td>4</td>\n",
       "      <td>24</td>\n",
       "      <td>...</td>\n",
       "      <td>51.8</td>\n",
       "      <td>NaN</td>\n",
       "      <td>55.950395</td>\n",
       "      <td>NaN</td>\n",
       "      <td>25.9</td>\n",
       "      <td>0.0</td>\n",
       "      <td>51.8</td>\n",
       "      <td>129.5</td>\n",
       "      <td>NaN</td>\n",
       "      <td>NaN</td>\n",
       "    </tr>\n",
       "    <tr>\n",
       "      <th>...</th>\n",
       "      <td>...</td>\n",
       "      <td>...</td>\n",
       "      <td>...</td>\n",
       "      <td>...</td>\n",
       "      <td>...</td>\n",
       "      <td>...</td>\n",
       "      <td>...</td>\n",
       "      <td>...</td>\n",
       "      <td>...</td>\n",
       "      <td>...</td>\n",
       "      <td>...</td>\n",
       "      <td>...</td>\n",
       "      <td>...</td>\n",
       "      <td>...</td>\n",
       "      <td>...</td>\n",
       "      <td>...</td>\n",
       "      <td>...</td>\n",
       "      <td>...</td>\n",
       "      <td>...</td>\n",
       "      <td>...</td>\n",
       "      <td>...</td>\n",
       "    </tr>\n",
       "    <tr>\n",
       "      <th>7821434</th>\n",
       "      <td>46</td>\n",
       "      <td>5</td>\n",
       "      <td>2020W47</td>\n",
       "      <td>0</td>\n",
       "      <td>9498</td>\n",
       "      <td>4.0</td>\n",
       "      <td>56.09</td>\n",
       "      <td>14.90</td>\n",
       "      <td>4</td>\n",
       "      <td>211</td>\n",
       "      <td>...</td>\n",
       "      <td>NaN</td>\n",
       "      <td>NaN</td>\n",
       "      <td>NaN</td>\n",
       "      <td>NaN</td>\n",
       "      <td>NaN</td>\n",
       "      <td>NaN</td>\n",
       "      <td>NaN</td>\n",
       "      <td>NaN</td>\n",
       "      <td>NaN</td>\n",
       "      <td>NaN</td>\n",
       "    </tr>\n",
       "    <tr>\n",
       "      <th>7821435</th>\n",
       "      <td>46</td>\n",
       "      <td>5</td>\n",
       "      <td>2020W47</td>\n",
       "      <td>0</td>\n",
       "      <td>9499</td>\n",
       "      <td>2.0</td>\n",
       "      <td>29.80</td>\n",
       "      <td>14.90</td>\n",
       "      <td>4</td>\n",
       "      <td>211</td>\n",
       "      <td>...</td>\n",
       "      <td>NaN</td>\n",
       "      <td>NaN</td>\n",
       "      <td>NaN</td>\n",
       "      <td>NaN</td>\n",
       "      <td>NaN</td>\n",
       "      <td>NaN</td>\n",
       "      <td>NaN</td>\n",
       "      <td>NaN</td>\n",
       "      <td>NaN</td>\n",
       "      <td>NaN</td>\n",
       "    </tr>\n",
       "    <tr>\n",
       "      <th>7821436</th>\n",
       "      <td>46</td>\n",
       "      <td>5</td>\n",
       "      <td>2020W47</td>\n",
       "      <td>0</td>\n",
       "      <td>9500</td>\n",
       "      <td>5.0</td>\n",
       "      <td>32.87</td>\n",
       "      <td>6.57</td>\n",
       "      <td>4</td>\n",
       "      <td>211</td>\n",
       "      <td>...</td>\n",
       "      <td>NaN</td>\n",
       "      <td>NaN</td>\n",
       "      <td>NaN</td>\n",
       "      <td>NaN</td>\n",
       "      <td>NaN</td>\n",
       "      <td>NaN</td>\n",
       "      <td>NaN</td>\n",
       "      <td>NaN</td>\n",
       "      <td>NaN</td>\n",
       "      <td>NaN</td>\n",
       "    </tr>\n",
       "    <tr>\n",
       "      <th>7821437</th>\n",
       "      <td>46</td>\n",
       "      <td>5</td>\n",
       "      <td>2020W47</td>\n",
       "      <td>0</td>\n",
       "      <td>9501</td>\n",
       "      <td>4.0</td>\n",
       "      <td>27.60</td>\n",
       "      <td>6.90</td>\n",
       "      <td>4</td>\n",
       "      <td>211</td>\n",
       "      <td>...</td>\n",
       "      <td>NaN</td>\n",
       "      <td>NaN</td>\n",
       "      <td>NaN</td>\n",
       "      <td>NaN</td>\n",
       "      <td>NaN</td>\n",
       "      <td>NaN</td>\n",
       "      <td>NaN</td>\n",
       "      <td>NaN</td>\n",
       "      <td>NaN</td>\n",
       "      <td>NaN</td>\n",
       "    </tr>\n",
       "    <tr>\n",
       "      <th>7821438</th>\n",
       "      <td>46</td>\n",
       "      <td>5</td>\n",
       "      <td>2020W47</td>\n",
       "      <td>4</td>\n",
       "      <td>9501</td>\n",
       "      <td>2.0</td>\n",
       "      <td>13.80</td>\n",
       "      <td>6.90</td>\n",
       "      <td>4</td>\n",
       "      <td>211</td>\n",
       "      <td>...</td>\n",
       "      <td>NaN</td>\n",
       "      <td>NaN</td>\n",
       "      <td>NaN</td>\n",
       "      <td>NaN</td>\n",
       "      <td>NaN</td>\n",
       "      <td>NaN</td>\n",
       "      <td>NaN</td>\n",
       "      <td>NaN</td>\n",
       "      <td>NaN</td>\n",
       "      <td>NaN</td>\n",
       "    </tr>\n",
       "  </tbody>\n",
       "</table>\n",
       "<p>7821439 rows × 40 columns</p>\n",
       "</div>"
      ],
      "text/plain": [
       "         Week  Year     Date  Site_ID   SKU  Sales_QTY  Turnover  Price  \\\n",
       "0           0     0   2015W1        0     0        5.0    129.50  25.90   \n",
       "1           1     0   2015W2        0     0        2.0     51.80  25.90   \n",
       "2           2     0   2015W3        0     0        0.0      0.00  25.90   \n",
       "3           3     0   2015W4        0     0        1.0     25.90  25.90   \n",
       "4           4     0   2015W5        0     0        0.0      0.00  25.90   \n",
       "...       ...   ...      ...      ...   ...        ...       ...    ...   \n",
       "7821434    46     5  2020W47        0  9498        4.0     56.09  14.90   \n",
       "7821435    46     5  2020W47        0  9499        2.0     29.80  14.90   \n",
       "7821436    46     5  2020W47        0  9500        5.0     32.87   6.57   \n",
       "7821437    46     5  2020W47        0  9501        4.0     27.60   6.90   \n",
       "7821438    46     5  2020W47        4  9501        2.0     13.80   6.90   \n",
       "\n",
       "         Season_Year  Vendor_ID  ... rolling_mean_w4 rolling_mean_w8  \\\n",
       "0                  4         24  ...             NaN             NaN   \n",
       "1                  4         24  ...             NaN             NaN   \n",
       "2                  4         24  ...             NaN             NaN   \n",
       "3                  4         24  ...             NaN             NaN   \n",
       "4                  4         24  ...            51.8             NaN   \n",
       "...              ...        ...  ...             ...             ...   \n",
       "7821434            4        211  ...             NaN             NaN   \n",
       "7821435            4        211  ...             NaN             NaN   \n",
       "7821436            4        211  ...             NaN             NaN   \n",
       "7821437            4        211  ...             NaN             NaN   \n",
       "7821438            4        211  ...             NaN             NaN   \n",
       "\n",
       "         rolling_std_w4  rolling_std_w8 lag_w1  lag_w2 lag_w3  lag_w4 lag_y1  \\\n",
       "0                   NaN             NaN    NaN     NaN    NaN     NaN    NaN   \n",
       "1                   NaN             NaN  129.5     NaN    NaN     NaN    NaN   \n",
       "2                   NaN             NaN   51.8   129.5    NaN     NaN    NaN   \n",
       "3                   NaN             NaN    0.0    51.8  129.5     NaN    NaN   \n",
       "4             55.950395             NaN   25.9     0.0   51.8   129.5    NaN   \n",
       "...                 ...             ...    ...     ...    ...     ...    ...   \n",
       "7821434             NaN             NaN    NaN     NaN    NaN     NaN    NaN   \n",
       "7821435             NaN             NaN    NaN     NaN    NaN     NaN    NaN   \n",
       "7821436             NaN             NaN    NaN     NaN    NaN     NaN    NaN   \n",
       "7821437             NaN             NaN    NaN     NaN    NaN     NaN    NaN   \n",
       "7821438             NaN             NaN    NaN     NaN    NaN     NaN    NaN   \n",
       "\n",
       "         lag_y2  \n",
       "0           NaN  \n",
       "1           NaN  \n",
       "2           NaN  \n",
       "3           NaN  \n",
       "4           NaN  \n",
       "...         ...  \n",
       "7821434     NaN  \n",
       "7821435     NaN  \n",
       "7821436     NaN  \n",
       "7821437     NaN  \n",
       "7821438     NaN  \n",
       "\n",
       "[7821439 rows x 40 columns]"
      ]
     },
     "execution_count": 15,
     "metadata": {},
     "output_type": "execute_result"
    }
   ],
   "source": [
    "df"
   ]
  },
  {
   "cell_type": "markdown",
   "metadata": {},
   "source": [
    "#  Forecasting"
   ]
  },
  {
   "cell_type": "code",
   "execution_count": 16,
   "metadata": {
    "ExecuteTime": {
     "end_time": "2021-05-23T13:02:48.519566Z",
     "start_time": "2021-05-23T13:02:47.739513Z"
    }
   },
   "outputs": [],
   "source": [
    "splits = utils.get_splits(df, fh=forecast_horizon, n_splits=n_splits)"
   ]
  },
  {
   "cell_type": "code",
   "execution_count": 17,
   "metadata": {
    "ExecuteTime": {
     "end_time": "2021-05-23T13:02:48.535472Z",
     "start_time": "2021-05-23T13:02:48.521548Z"
    }
   },
   "outputs": [],
   "source": [
    "model_params = {\n",
    "    'seed': 10,\n",
    "    'objective': 'regression',\n",
    "    'metric': 'rmse',\n",
    "    'num_leaves': 2^7,\n",
    "    'learning_rate': 0.25\n",
    "    }"
   ]
  },
  {
   "cell_type": "code",
   "execution_count": 58,
   "metadata": {
    "ExecuteTime": {
     "end_time": "2021-05-23T13:27:42.064789Z",
     "start_time": "2021-05-23T13:26:03.708222Z"
    },
    "scrolled": false
   },
   "outputs": [],
   "source": [
    "rmse = []\n",
    "rmse_per_class = {\"A\": [], \"B\": [], \"C\": []}\n",
    "\n",
    "for week, year in splits:\n",
    "    print(f'\\n\\n****** {year}W{week} ******')\n",
    "    \n",
    "    evals_result = {}\n",
    "    \n",
    "    week=int(week)\n",
    "    year=int(year)\n",
    "    \n",
    "    # Train data: same year and past week OR past year\n",
    "    x_train = df.loc[((df.Year == (Week(year, week))[0]) & (df.Week <= (Week(year, week))[1])) | (df.Year < (Week(year, week))[0])][features]\n",
    "    y_train = df.loc[((df.Year == (Week(year, week))[0]) & (df.Week <= (Week(year, week))[1])) | (df.Year < (Week(year, week))[0])][target_variable]\n",
    "\n",
    "    x_test = df.loc[df.Year == (Week(year, week)+1)[0]].loc[df.Week == (Week(year, week)+1)[1]][features]\n",
    "    y_test = df.loc[df.Year == (Week(year, week)+1)[0]].loc[df.Week == (Week(year, week)+1)[1]][target_variable]\n",
    "    \n",
    "    \n",
    "    \n",
    "    train_data = lgb.Dataset(x_train, label=y_train,\n",
    "                             categorical_feature=cat_features, free_raw_data=False,\n",
    "                           )\n",
    "    validation_data = lgb.Dataset(\n",
    "        x_test, label=y_test, categorical_feature=cat_features, free_raw_data=False, reference=train_data,\n",
    "    )\n",
    "    \n",
    "    \n",
    "    \n",
    "    gbm = lgb.train(model_params, train_data, valid_sets=[train_data, validation_data],\n",
    "                    evals_result=evals_result, num_boost_round=1000,\n",
    "                    verbose_eval=25, early_stopping_rounds=20,\n",
    "                   )\n",
    "\n",
    "    \n",
    "    y_pred = gbm.predict(x_test, num_iteration=gbm.best_iteration)\n",
    "    \n",
    "    for classification in ['A','B','C']:\n",
    "        df_class = x_test.copy()\n",
    "        df_class['Prediction'] = y_pred\n",
    "        df_class[target_variable] = y_test\n",
    "        df_class = df_class.merge(df[['Site_ID', 'SKU','Classification']].drop_duplicates(), on=['Site_ID', 'SKU'])\n",
    "        df_class = df_class.loc[df_class.Classification == classification]\n",
    "        rmse_per_class[classification].append(\n",
    "            mean_squared_error(df_class.Prediction, df_class[target_variable], squared=False))\n",
    "\n",
    "    \n",
    "    gbm.save_model(path_models + f'gbm_{year}w{week}.txt', num_iteration=gbm.best_iteration) \n",
    "    \n",
    "    evals_result_p = open(path_models+ f'evals_result_{year}w{week}.pkl', 'wb')\n",
    "    pickle.dump(evals_result, evals_result_p)\n",
    "    evals_result_p.close()\n",
    "    \n",
    "    rmse.append(mean_squared_error(y_test, y_pred, squared=False))\n",
    "\n",
    "    clear_output()"
   ]
  },
  {
   "cell_type": "code",
   "execution_count": 59,
   "metadata": {
    "ExecuteTime": {
     "end_time": "2021-05-23T13:30:04.766041Z",
     "start_time": "2021-05-23T13:30:04.759092Z"
    }
   },
   "outputs": [
    {
     "name": "stdout",
     "output_type": "stream",
     "text": [
      "RMSE:\n",
      " [101.45641938588844, 68.53024309336509, 63.14953044067182, 69.30858610383727]\n",
      "\n",
      "Crossvalidated RMSE:  75.61119475594066\n",
      "Per Class RMSE RMSE:\n",
      " {'A': [77.2549776403981, 71.28307576381145, 62.957294479432406, 78.2628195693562], 'B': [70.27936471991524, 62.06784025366548, 61.036253305754705, 69.38850099232103], 'C': [120.5480760416837, 72.08990950285606, 64.58233718235898, 67.56346852797762]}\n"
     ]
    }
   ],
   "source": [
    "print('RMSE:\\n', rmse) \n",
    "print('\\nCrossvalidated RMSE: ', np.mean(rmse))\n",
    "\n",
    "\n",
    "# Print results\n",
    "print('Per Class RMSE RMSE:\\n', rmse_per_class)"
   ]
  },
  {
   "cell_type": "code",
   "execution_count": 90,
   "metadata": {
    "ExecuteTime": {
     "end_time": "2021-05-23T15:28:11.774007Z",
     "start_time": "2021-05-23T15:28:11.325212Z"
    }
   },
   "outputs": [
    {
     "name": "stdout",
     "output_type": "stream",
     "text": [
      "****** 5W45 ******\n"
     ]
    },
    {
     "data": {
      "image/png": "[encoded data removed]",
      "text/plain": [
       "<Figure size 288x288 with 1 Axes>"
      ]
     },
     "metadata": {
      "needs_background": "light"
     },
     "output_type": "display_data"
    },
    {
     "data": {
      "image/png": "[encoded data removed]",
      "text/plain": [
       "<Figure size 432x288 with 1 Axes>"
      ]
     },
     "metadata": {
      "needs_background": "light"
     },
     "output_type": "display_data"
    }
   ],
   "source": [
    "for week, year in splits:\n",
    "    print(f'****** {year}W{week} ******')\n",
    "    \n",
    "    mod = lgb.Booster(model_file=path_models + f'gbm_{year}w{week}.txt')\n",
    "    evals = pickle.load(open(path_models + f'evals_result_{year}w{week}.pkl', 'rb'))\n",
    "\n",
    "    ax = lgb.plot_metric(evals,figsize=(4,4))\n",
    "    plt.gcf().subplots_adjust(left=0.2)\n",
    "    plt.savefig('fig1.pdf')\n",
    "    plt.show()\n",
    "    \n",
    "    ax = lgb.plot_importance(mod, figsize=(6,4))\n",
    "    plt.gcf().subplots_adjust(left=0.3)\n",
    "    plt.savefig('fig2.pdf')\n",
    "    plt.show()\n",
    "    \n",
    "    break"
   ]
  }
 ],
 "metadata": {
  "kernelspec": {
   "display_name": "Python 3",
   "language": "python",
   "name": "python3"
  },
  "language_info": {
   "codemirror_mode": {
    "name": "ipython",
    "version": 3
   },
   "file_extension": ".py",
   "mimetype": "text/x-python",
   "name": "python",
   "nbconvert_exporter": "python",
   "pygments_lexer": "ipython3",
   "version": "3.7.6"
  }
 },
 "nbformat": 4,
 "nbformat_minor": 4
}
