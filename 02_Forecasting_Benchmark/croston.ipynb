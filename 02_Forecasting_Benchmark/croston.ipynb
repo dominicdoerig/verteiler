{
 "cells": [
  {
   "cell_type": "markdown",
   "metadata": {},
   "source": [
    "# Import Packages"
   ]
  },
  {
   "cell_type": "code",
   "execution_count": 1,
   "metadata": {
    "ExecuteTime": {
     "end_time": "2021-05-14T11:53:07.518204Z",
     "start_time": "2021-05-14T11:53:05.620609Z"
    }
   },
   "outputs": [],
   "source": [
    "from croston import croston\n",
    "import sys\n",
    "sys.path.append('..')\n",
    "\n",
    "import matplotlib.pyplot as plt\n",
    "import utils\n",
    "import pandas as pd\n",
    "import numpy as np\n",
    "import math\n",
    "import random\n",
    "from isoweek import Week\n",
    "import lightgbm as lgb\n",
    "import pickle\n",
    "from sklearn.metrics import mean_squared_error\n",
    "from tqdm.notebook import tqdm\n",
    "from IPython.display import clear_output"
   ]
  },
  {
   "cell_type": "markdown",
   "metadata": {},
   "source": [
    "# Settings"
   ]
  },
  {
   "cell_type": "code",
   "execution_count": 2,
   "metadata": {
    "ExecuteTime": {
     "end_time": "2021-05-14T11:53:07.534162Z",
     "start_time": "2021-05-14T11:53:07.519151Z"
    }
   },
   "outputs": [],
   "source": [
    "target_variable = 'Turnover' # Either 'Turnover' or 'Sales_QTY'\n",
    "\n",
    "forecast_horizon = 1\n",
    "\n",
    "n_splits = 1 # Number of cross validation splits"
   ]
  },
  {
   "cell_type": "markdown",
   "metadata": {},
   "source": [
    "# Import Sales Data"
   ]
  },
  {
   "cell_type": "markdown",
   "metadata": {},
   "source": [
    "- We do not import the data of 2021 so that we get the same data again when we execute the notebook in the future.\n"
   ]
  },
  {
   "cell_type": "markdown",
   "metadata": {},
   "source": [
    "- For this approach, we just need Week, Year, Site_ID, SKU, Sales_QTY"
   ]
  },
  {
   "cell_type": "code",
   "execution_count": 3,
   "metadata": {
    "ExecuteTime": {
     "end_time": "2021-05-14T11:54:21.441153Z",
     "start_time": "2021-05-14T11:53:07.536107Z"
    }
   },
   "outputs": [
    {
     "name": "stdout",
     "output_type": "stream",
     "text": [
      "********************\n",
      "Query Duration:  0:01:12.402272\n",
      "Mem. usage decreased to 122.87 Mb (64.6% reduction)\n"
     ]
    }
   ],
   "source": [
    "query = 'SELECT Week, Year, Site_ID, SKU, Sales_QTY,Turnover FROM `globus-datahub-dev.Verteiler_PoC.timeseries_sales_weekly` where Year >= 2015 and (Year <= 2019 OR (Year = 2020 AND Week <= 47))  order by sku, site_id, year, week'\n",
    "df_raw = utils.bq_to_dataframe(\n",
    "    query, verbose=True).pipe(utils.reduce_memory_usage)"
   ]
  },
  {
   "cell_type": "code",
   "execution_count": 4,
   "metadata": {
    "ExecuteTime": {
     "end_time": "2021-05-14T11:54:21.504466Z",
     "start_time": "2021-05-14T11:54:21.443115Z"
    }
   },
   "outputs": [
    {
     "data": {
      "text/html": [
       "<div>\n",
       "<style scoped>\n",
       "    .dataframe tbody tr th:only-of-type {\n",
       "        vertical-align: middle;\n",
       "    }\n",
       "\n",
       "    .dataframe tbody tr th {\n",
       "        vertical-align: top;\n",
       "    }\n",
       "\n",
       "    .dataframe thead th {\n",
       "        text-align: right;\n",
       "    }\n",
       "</style>\n",
       "<table border=\"1\" class=\"dataframe\">\n",
       "  <thead>\n",
       "    <tr style=\"text-align: right;\">\n",
       "      <th></th>\n",
       "      <th>Week</th>\n",
       "      <th>Year</th>\n",
       "      <th>Site_ID</th>\n",
       "      <th>SKU</th>\n",
       "      <th>Sales_QTY</th>\n",
       "      <th>Turnover</th>\n",
       "    </tr>\n",
       "  </thead>\n",
       "  <tbody>\n",
       "    <tr>\n",
       "      <th>0</th>\n",
       "      <td>1</td>\n",
       "      <td>2015</td>\n",
       "      <td>101</td>\n",
       "      <td>1014557</td>\n",
       "      <td>5.0</td>\n",
       "      <td>129.500000</td>\n",
       "    </tr>\n",
       "    <tr>\n",
       "      <th>1</th>\n",
       "      <td>2</td>\n",
       "      <td>2015</td>\n",
       "      <td>101</td>\n",
       "      <td>1014557</td>\n",
       "      <td>2.0</td>\n",
       "      <td>51.799999</td>\n",
       "    </tr>\n",
       "    <tr>\n",
       "      <th>2</th>\n",
       "      <td>3</td>\n",
       "      <td>2015</td>\n",
       "      <td>101</td>\n",
       "      <td>1014557</td>\n",
       "      <td>0.0</td>\n",
       "      <td>0.000000</td>\n",
       "    </tr>\n",
       "    <tr>\n",
       "      <th>3</th>\n",
       "      <td>4</td>\n",
       "      <td>2015</td>\n",
       "      <td>101</td>\n",
       "      <td>1014557</td>\n",
       "      <td>1.0</td>\n",
       "      <td>25.900000</td>\n",
       "    </tr>\n",
       "    <tr>\n",
       "      <th>4</th>\n",
       "      <td>5</td>\n",
       "      <td>2015</td>\n",
       "      <td>101</td>\n",
       "      <td>1014557</td>\n",
       "      <td>0.0</td>\n",
       "      <td>0.000000</td>\n",
       "    </tr>\n",
       "    <tr>\n",
       "      <th>...</th>\n",
       "      <td>...</td>\n",
       "      <td>...</td>\n",
       "      <td>...</td>\n",
       "      <td>...</td>\n",
       "      <td>...</td>\n",
       "      <td>...</td>\n",
       "    </tr>\n",
       "    <tr>\n",
       "      <th>7578843</th>\n",
       "      <td>47</td>\n",
       "      <td>2020</td>\n",
       "      <td>101</td>\n",
       "      <td>1289328500</td>\n",
       "      <td>4.0</td>\n",
       "      <td>56.090000</td>\n",
       "    </tr>\n",
       "    <tr>\n",
       "      <th>7578844</th>\n",
       "      <td>47</td>\n",
       "      <td>2020</td>\n",
       "      <td>101</td>\n",
       "      <td>1289328600</td>\n",
       "      <td>2.0</td>\n",
       "      <td>29.799999</td>\n",
       "    </tr>\n",
       "    <tr>\n",
       "      <th>7578845</th>\n",
       "      <td>47</td>\n",
       "      <td>2020</td>\n",
       "      <td>101</td>\n",
       "      <td>1289328700</td>\n",
       "      <td>5.0</td>\n",
       "      <td>32.869999</td>\n",
       "    </tr>\n",
       "    <tr>\n",
       "      <th>7578846</th>\n",
       "      <td>47</td>\n",
       "      <td>2020</td>\n",
       "      <td>101</td>\n",
       "      <td>1289328800</td>\n",
       "      <td>4.0</td>\n",
       "      <td>27.600000</td>\n",
       "    </tr>\n",
       "    <tr>\n",
       "      <th>7578847</th>\n",
       "      <td>47</td>\n",
       "      <td>2020</td>\n",
       "      <td>107</td>\n",
       "      <td>1289328800</td>\n",
       "      <td>2.0</td>\n",
       "      <td>13.800000</td>\n",
       "    </tr>\n",
       "  </tbody>\n",
       "</table>\n",
       "<p>7578848 rows × 6 columns</p>\n",
       "</div>"
      ],
      "text/plain": [
       "         Week  Year  Site_ID         SKU  Sales_QTY    Turnover\n",
       "0           1  2015      101     1014557        5.0  129.500000\n",
       "1           2  2015      101     1014557        2.0   51.799999\n",
       "2           3  2015      101     1014557        0.0    0.000000\n",
       "3           4  2015      101     1014557        1.0   25.900000\n",
       "4           5  2015      101     1014557        0.0    0.000000\n",
       "...       ...   ...      ...         ...        ...         ...\n",
       "7578843    47  2020      101  1289328500        4.0   56.090000\n",
       "7578844    47  2020      101  1289328600        2.0   29.799999\n",
       "7578845    47  2020      101  1289328700        5.0   32.869999\n",
       "7578846    47  2020      101  1289328800        4.0   27.600000\n",
       "7578847    47  2020      107  1289328800        2.0   13.800000\n",
       "\n",
       "[7578848 rows x 6 columns]"
      ]
     },
     "execution_count": 4,
     "metadata": {},
     "output_type": "execute_result"
    }
   ],
   "source": [
    "df = df_raw.copy()\n",
    "df"
   ]
  },
  {
   "cell_type": "code",
   "execution_count": 5,
   "metadata": {
    "ExecuteTime": {
     "end_time": "2021-05-14T11:54:21.612751Z",
     "start_time": "2021-05-14T11:54:21.506314Z"
    }
   },
   "outputs": [],
   "source": [
    "# Get rid of negative Sales / Turnover\n",
    "df.loc[:, 'Sales_QTY'] = df.Sales_QTY.clip(lower=0)\n",
    "df.loc[:, 'Turnover'] = df.Turnover.clip(lower=0)\n"
   ]
  },
  {
   "cell_type": "markdown",
   "metadata": {},
   "source": [
    "# Forecasting using Croston"
   ]
  },
  {
   "cell_type": "code",
   "execution_count": 6,
   "metadata": {
    "ExecuteTime": {
     "end_time": "2021-05-14T11:54:22.033661Z",
     "start_time": "2021-05-14T11:54:21.616783Z"
    }
   },
   "outputs": [
    {
     "data": {
      "text/plain": [
       "(57909, 2)"
      ]
     },
     "execution_count": 6,
     "metadata": {},
     "output_type": "execute_result"
    }
   ],
   "source": [
    "# count number of timeseries\n",
    "df[['Site_ID', 'SKU']].drop_duplicates().shape"
   ]
  },
  {
   "cell_type": "code",
   "execution_count": 7,
   "metadata": {
    "ExecuteTime": {
     "end_time": "2021-05-14T11:54:22.049265Z",
     "start_time": "2021-05-14T11:54:22.034661Z"
    }
   },
   "outputs": [],
   "source": [
    "def run_croston(ts_list: list,fh: int) -> list:\n",
    "    \"\"\"\n",
    "    Forecast timeseries using Croson's Method.\n",
    "    :param ts_list: timeseries to be forecasted (list)\n",
    "    :param fh: forecast horizon (int)\n",
    "    :return: predicted value without historacal timeries (list)\n",
    "    \"\"\"\n",
    "    fit_pred = croston.fit_croston(ts_list, fh, croston_variant='adjusted')\n",
    "    return list(fit_pred['croston_forecast'])"
   ]
  },
  {
   "cell_type": "code",
   "execution_count": 8,
   "metadata": {
    "ExecuteTime": {
     "end_time": "2021-05-14T12:08:06.611065Z",
     "start_time": "2021-05-14T11:54:22.051246Z"
    }
   },
   "outputs": [
    {
     "name": "stdout",
     "output_type": "stream",
     "text": [
      "RMSE:\n",
      " [82.4400084873183]\n",
      "\n",
      "Crossvalidated RMSE:  82.4400084873183\n"
     ]
    }
   ],
   "source": [
    "rmse = []\n",
    "\n",
    "splits = utils.get_splits(df, fh=forecast_horizon, n_splits=1)\n",
    "\n",
    "for week, year in splits:\n",
    "    week=int(week)\n",
    "    year=int(year)\n",
    "    \n",
    "    results_dict = {\"Site_ID\":[],\"SKU\":[],\"Forecast\":[]}\n",
    "    error_log    = {\"Site_ID\":[],\"SKU\":[]};\n",
    "    \n",
    "    # Prepare data\n",
    "    df_train = df.loc[((df.Year == (Week(year, week))[0]) & (df.Week <= (Week(year, week))[1])) | (df.Year < (Week(year, week))[0])]\n",
    "    targets = df.loc[df.Year == (Week(year, week)+1)[0]].loc[df.Week == (Week(year, week)+1)[1]][['SKU','Site_ID', 'Year','Week']+[target_variable]]\n",
    "\n",
    "    # Forecast\n",
    "    for i, sku_df in tqdm(df_train.groupby(['Site_ID','SKU'])):\n",
    "        try:\n",
    "            yhat = run_croston(sku_df[target_variable].to_list(),1 )\n",
    "        except:\n",
    "            yhat=[0]\n",
    "            error_log[\"Site_ID\"].append(sku_df.Site_ID.values[0])\n",
    "            error_log[\"SKU\"].append(sku_df.SKU.values[0])\n",
    "\n",
    "        results_dict[\"Site_ID\"].append(sku_df.Site_ID.values[0])\n",
    "        results_dict[\"SKU\"].append(sku_df.SKU.values[0])\n",
    "        results_dict[\"Forecast\"].append(yhat[0])\n",
    "        \n",
    "        \n",
    "    result_df = pd.DataFrame(results_dict)\n",
    "    result_df = result_df.merge(targets, on=['SKU', 'Site_ID'])\n",
    "\n",
    "    rmse.append(mean_squared_error(result_df.Forecast, result_df[target_variable], squared=False))\n",
    "    \n",
    "    # Clear Cell Output\n",
    "    clear_output()\n",
    "\n",
    "print('RMSE:\\n', rmse)\n",
    "    \n",
    "print('\\nCrossvalidated RMSE: ', np.mean(rmse))"
   ]
  }
 ],
 "metadata": {
  "kernelspec": {
   "display_name": "Python 3",
   "language": "python",
   "name": "python3"
  },
  "language_info": {
   "codemirror_mode": {
    "name": "ipython",
    "version": 3
   },
   "file_extension": ".py",
   "mimetype": "text/x-python",
   "name": "python",
   "nbconvert_exporter": "python",
   "pygments_lexer": "ipython3",
   "version": "3.7.6"
  }
 },
 "nbformat": 4,
 "nbformat_minor": 4
}
