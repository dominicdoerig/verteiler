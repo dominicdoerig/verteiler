{
 "cells": [
  {
   "cell_type": "markdown",
   "metadata": {},
   "source": [
    "# Import Packages"
   ]
  },
  {
   "cell_type": "code",
   "execution_count": 2,
   "metadata": {
    "ExecuteTime": {
     "end_time": "2021-05-21T23:00:35.538178Z",
     "start_time": "2021-05-21T23:00:35.527187Z"
    }
   },
   "outputs": [],
   "source": [
    "from croston import croston\n",
    "import sys\n",
    "sys.path.append('..')\n",
    "\n",
    "import matplotlib.pyplot as plt\n",
    "import utils\n",
    "import pandas as pd\n",
    "import numpy as np\n",
    "import math\n",
    "import random\n",
    "from isoweek import Week\n",
    "import lightgbm as lgb\n",
    "import pickle\n",
    "from sklearn.metrics import mean_squared_error\n",
    "from tqdm.notebook import tqdm\n",
    "from IPython.display import clear_output"
   ]
  },
  {
   "cell_type": "markdown",
   "metadata": {},
   "source": [
    "# Settings"
   ]
  },
  {
   "cell_type": "code",
   "execution_count": 3,
   "metadata": {
    "ExecuteTime": {
     "end_time": "2021-05-21T23:00:37.905058Z",
     "start_time": "2021-05-21T23:00:37.900071Z"
    }
   },
   "outputs": [],
   "source": [
    "target_variable = 'Turnover' # Either 'Turnover' or 'Sales_QTY'\n",
    "\n",
    "forecast_horizon = 1\n",
    "\n",
    "n_splits = 4 # Number of cross validation splits"
   ]
  },
  {
   "cell_type": "markdown",
   "metadata": {},
   "source": [
    "# Import Sales Data"
   ]
  },
  {
   "cell_type": "markdown",
   "metadata": {},
   "source": [
    "- We do not import the data of 2021 so that we get the same data again when we execute the notebook in the future.\n"
   ]
  },
  {
   "cell_type": "markdown",
   "metadata": {},
   "source": [
    "- For this approach, we just need Week, Year, Site_ID, SKU, Sales_QTY"
   ]
  },
  {
   "cell_type": "code",
   "execution_count": 3,
   "metadata": {
    "ExecuteTime": {
     "end_time": "2021-05-21T21:03:56.726833Z",
     "start_time": "2021-05-21T21:01:14.942910Z"
    }
   },
   "outputs": [
    {
     "name": "stdout",
     "output_type": "stream",
     "text": [
      "********************\n",
      "Query Duration:  0:02:39.741328\n",
      "Mem. usage decreased to 122.58 Mb (64.6% reduction)\n"
     ]
    }
   ],
   "source": [
    "query = 'SELECT Week, Year, Site_ID, SKU, Sales_QTY,Turnover FROM `globus-datahub-dev.Verteiler_PoC.timeseries_sales_weekly` where Year >= 2015 and (Year <= 2019 OR (Year = 2020 AND Week <= 47))  order by sku, site_id, year, week'\n",
    "df_raw = utils.bq_to_dataframe(\n",
    "    query, verbose=True).pipe(utils.reduce_memory_usage)"
   ]
  },
  {
   "cell_type": "code",
   "execution_count": 4,
   "metadata": {
    "ExecuteTime": {
     "end_time": "2021-05-21T21:03:56.788670Z",
     "start_time": "2021-05-21T21:03:56.727781Z"
    }
   },
   "outputs": [
    {
     "data": {
      "text/html": [
       "<div>\n",
       "<style scoped>\n",
       "    .dataframe tbody tr th:only-of-type {\n",
       "        vertical-align: middle;\n",
       "    }\n",
       "\n",
       "    .dataframe tbody tr th {\n",
       "        vertical-align: top;\n",
       "    }\n",
       "\n",
       "    .dataframe thead th {\n",
       "        text-align: right;\n",
       "    }\n",
       "</style>\n",
       "<table border=\"1\" class=\"dataframe\">\n",
       "  <thead>\n",
       "    <tr style=\"text-align: right;\">\n",
       "      <th></th>\n",
       "      <th>Week</th>\n",
       "      <th>Year</th>\n",
       "      <th>Site_ID</th>\n",
       "      <th>SKU</th>\n",
       "      <th>Sales_QTY</th>\n",
       "      <th>Turnover</th>\n",
       "    </tr>\n",
       "  </thead>\n",
       "  <tbody>\n",
       "    <tr>\n",
       "      <th>0</th>\n",
       "      <td>1</td>\n",
       "      <td>2015</td>\n",
       "      <td>101</td>\n",
       "      <td>1014557</td>\n",
       "      <td>5.0</td>\n",
       "      <td>129.500000</td>\n",
       "    </tr>\n",
       "    <tr>\n",
       "      <th>1</th>\n",
       "      <td>2</td>\n",
       "      <td>2015</td>\n",
       "      <td>101</td>\n",
       "      <td>1014557</td>\n",
       "      <td>2.0</td>\n",
       "      <td>51.799999</td>\n",
       "    </tr>\n",
       "    <tr>\n",
       "      <th>2</th>\n",
       "      <td>3</td>\n",
       "      <td>2015</td>\n",
       "      <td>101</td>\n",
       "      <td>1014557</td>\n",
       "      <td>0.0</td>\n",
       "      <td>0.000000</td>\n",
       "    </tr>\n",
       "    <tr>\n",
       "      <th>3</th>\n",
       "      <td>4</td>\n",
       "      <td>2015</td>\n",
       "      <td>101</td>\n",
       "      <td>1014557</td>\n",
       "      <td>1.0</td>\n",
       "      <td>25.900000</td>\n",
       "    </tr>\n",
       "    <tr>\n",
       "      <th>4</th>\n",
       "      <td>5</td>\n",
       "      <td>2015</td>\n",
       "      <td>101</td>\n",
       "      <td>1014557</td>\n",
       "      <td>0.0</td>\n",
       "      <td>0.000000</td>\n",
       "    </tr>\n",
       "    <tr>\n",
       "      <th>...</th>\n",
       "      <td>...</td>\n",
       "      <td>...</td>\n",
       "      <td>...</td>\n",
       "      <td>...</td>\n",
       "      <td>...</td>\n",
       "      <td>...</td>\n",
       "    </tr>\n",
       "    <tr>\n",
       "      <th>7561049</th>\n",
       "      <td>47</td>\n",
       "      <td>2020</td>\n",
       "      <td>101</td>\n",
       "      <td>1289328500</td>\n",
       "      <td>4.0</td>\n",
       "      <td>56.090000</td>\n",
       "    </tr>\n",
       "    <tr>\n",
       "      <th>7561050</th>\n",
       "      <td>47</td>\n",
       "      <td>2020</td>\n",
       "      <td>101</td>\n",
       "      <td>1289328600</td>\n",
       "      <td>2.0</td>\n",
       "      <td>29.799999</td>\n",
       "    </tr>\n",
       "    <tr>\n",
       "      <th>7561051</th>\n",
       "      <td>47</td>\n",
       "      <td>2020</td>\n",
       "      <td>101</td>\n",
       "      <td>1289328700</td>\n",
       "      <td>5.0</td>\n",
       "      <td>32.869999</td>\n",
       "    </tr>\n",
       "    <tr>\n",
       "      <th>7561052</th>\n",
       "      <td>47</td>\n",
       "      <td>2020</td>\n",
       "      <td>101</td>\n",
       "      <td>1289328800</td>\n",
       "      <td>4.0</td>\n",
       "      <td>27.600000</td>\n",
       "    </tr>\n",
       "    <tr>\n",
       "      <th>7561053</th>\n",
       "      <td>47</td>\n",
       "      <td>2020</td>\n",
       "      <td>107</td>\n",
       "      <td>1289328800</td>\n",
       "      <td>2.0</td>\n",
       "      <td>13.800000</td>\n",
       "    </tr>\n",
       "  </tbody>\n",
       "</table>\n",
       "<p>7561054 rows × 6 columns</p>\n",
       "</div>"
      ],
      "text/plain": [
       "         Week  Year  Site_ID         SKU  Sales_QTY    Turnover\n",
       "0           1  2015      101     1014557        5.0  129.500000\n",
       "1           2  2015      101     1014557        2.0   51.799999\n",
       "2           3  2015      101     1014557        0.0    0.000000\n",
       "3           4  2015      101     1014557        1.0   25.900000\n",
       "4           5  2015      101     1014557        0.0    0.000000\n",
       "...       ...   ...      ...         ...        ...         ...\n",
       "7561049    47  2020      101  1289328500        4.0   56.090000\n",
       "7561050    47  2020      101  1289328600        2.0   29.799999\n",
       "7561051    47  2020      101  1289328700        5.0   32.869999\n",
       "7561052    47  2020      101  1289328800        4.0   27.600000\n",
       "7561053    47  2020      107  1289328800        2.0   13.800000\n",
       "\n",
       "[7561054 rows x 6 columns]"
      ]
     },
     "execution_count": 4,
     "metadata": {},
     "output_type": "execute_result"
    }
   ],
   "source": [
    "df = df_raw.copy()\n",
    "df"
   ]
  },
  {
   "cell_type": "code",
   "execution_count": 5,
   "metadata": {
    "ExecuteTime": {
     "end_time": "2021-05-21T21:03:56.932235Z",
     "start_time": "2021-05-21T21:03:56.790613Z"
    }
   },
   "outputs": [],
   "source": [
    "# Get rid of negative Sales / Turnover\n",
    "df.loc[:, 'Sales_QTY'] = df.Sales_QTY.clip(lower=0)\n",
    "df.loc[:, 'Turnover'] = df.Turnover.clip(lower=0)\n"
   ]
  },
  {
   "cell_type": "markdown",
   "metadata": {},
   "source": [
    "# Forecasting using Croston"
   ]
  },
  {
   "cell_type": "code",
   "execution_count": 5,
   "metadata": {
    "ExecuteTime": {
     "end_time": "2021-05-21T23:01:12.992534Z",
     "start_time": "2021-05-21T23:01:12.606384Z"
    }
   },
   "outputs": [
    {
     "data": {
      "text/plain": [
       "(59269, 2)"
      ]
     },
     "execution_count": 5,
     "metadata": {},
     "output_type": "execute_result"
    }
   ],
   "source": [
    "# count number of timeseries\n",
    "df[['Site_ID', 'SKU']].drop_duplicates().shape"
   ]
  },
  {
   "cell_type": "code",
   "execution_count": 6,
   "metadata": {
    "ExecuteTime": {
     "end_time": "2021-05-21T23:01:13.008683Z",
     "start_time": "2021-05-21T23:01:12.993532Z"
    }
   },
   "outputs": [],
   "source": [
    "def run_croston(ts_list: list,fh: int) -> list:\n",
    "    \"\"\"\n",
    "    Forecast timeseries using Croson's Method.\n",
    "    :param ts_list: timeseries to be forecasted (list)\n",
    "    :param fh: forecast horizon (int)\n",
    "    :return: predicted value without historacal timeries (list)\n",
    "    \"\"\"\n",
    "    fit_pred = croston.fit_croston(ts_list, fh)\n",
    "    return list(fit_pred['croston_forecast'])"
   ]
  },
  {
   "cell_type": "code",
   "execution_count": 7,
   "metadata": {
    "ExecuteTime": {
     "end_time": "2021-05-21T23:58:29.821738Z",
     "start_time": "2021-05-21T23:01:13.010549Z"
    }
   },
   "outputs": [
    {
     "name": "stdout",
     "output_type": "stream",
     "text": [
      "RMSE:\n",
      " [81.63929941009482, 70.98587476372798, 65.23137440818711, 70.85295219892164]\n",
      "\n",
      "Crossvalidated RMSE:  72.17737519523288\n"
     ]
    }
   ],
   "source": [
    "rmse = []\n",
    "\n",
    "splits = utils.get_splits(df, fh=forecast_horizon, n_splits=n_splits)\n",
    "\n",
    "for week, year in tqdm(splits, desc='n Cross-Validation Split'):\n",
    "    week=int(week)\n",
    "    year=int(year)\n",
    "    \n",
    "    results_dict = {\"Site_ID\":[],\"SKU\":[],\"Forecast\":[]}\n",
    "    error_log    = {\"Site_ID\":[],\"SKU\":[]};\n",
    "    \n",
    "    # Prepare data\n",
    "    df_train = df.loc[((df.Year == (Week(year, week))[0]) & (df.Week <= (Week(year, week))[1])) | (df.Year < (Week(year, week))[0])]\n",
    "    targets = df.loc[df.Year == (Week(year, week)+1)[0]].loc[df.Week == (Week(year, week)+1)[1]][['SKU','Site_ID', 'Year','Week']+[target_variable]]\n",
    "\n",
    "    # Forecast\n",
    "    for i, sku_df in tqdm(df_train.groupby(['Site_ID','SKU']), desc='Time Series'):\n",
    "        try:\n",
    "            yhat = run_croston(sku_df[target_variable].to_list(),1 )\n",
    "        except:\n",
    "            yhat=[0]\n",
    "            error_log[\"Site_ID\"].append(sku_df.Site_ID.values[0])\n",
    "            error_log[\"SKU\"].append(sku_df.SKU.values[0])\n",
    "\n",
    "        results_dict[\"Site_ID\"].append(sku_df.Site_ID.values[0])\n",
    "        results_dict[\"SKU\"].append(sku_df.SKU.values[0])\n",
    "        results_dict[\"Forecast\"].append(yhat[0])\n",
    "        \n",
    "        \n",
    "    result_df = pd.DataFrame(results_dict)\n",
    "    result_df = result_df.merge(targets, on=['SKU', 'Site_ID'])\n",
    "\n",
    "    rmse.append(mean_squared_error(result_df.Forecast, result_df[target_variable], squared=False))\n",
    "    \n",
    "    # Clear Cell Output\n",
    "    clear_output()\n",
    "\n",
    "print('RMSE:\\n', rmse)\n",
    "    \n",
    "print('\\nCrossvalidated RMSE: ', np.mean(rmse))"
   ]
  },
  {
   "cell_type": "code",
   "execution_count": 8,
   "metadata": {
    "ExecuteTime": {
     "end_time": "2021-05-21T23:58:29.852655Z",
     "start_time": "2021-05-21T23:58:29.828721Z"
    }
   },
   "outputs": [
    {
     "data": {
      "text/html": [
       "<div>\n",
       "<style scoped>\n",
       "    .dataframe tbody tr th:only-of-type {\n",
       "        vertical-align: middle;\n",
       "    }\n",
       "\n",
       "    .dataframe tbody tr th {\n",
       "        vertical-align: top;\n",
       "    }\n",
       "\n",
       "    .dataframe thead th {\n",
       "        text-align: right;\n",
       "    }\n",
       "</style>\n",
       "<table border=\"1\" class=\"dataframe\">\n",
       "  <thead>\n",
       "    <tr style=\"text-align: right;\">\n",
       "      <th></th>\n",
       "      <th>Site_ID</th>\n",
       "      <th>SKU</th>\n",
       "      <th>Forecast</th>\n",
       "      <th>Year</th>\n",
       "      <th>Week</th>\n",
       "      <th>Turnover</th>\n",
       "    </tr>\n",
       "  </thead>\n",
       "  <tbody>\n",
       "    <tr>\n",
       "      <th>0</th>\n",
       "      <td>101</td>\n",
       "      <td>1014557</td>\n",
       "      <td>39.714225</td>\n",
       "      <td>2020</td>\n",
       "      <td>44</td>\n",
       "      <td>29.9</td>\n",
       "    </tr>\n",
       "    <tr>\n",
       "      <th>1</th>\n",
       "      <td>101</td>\n",
       "      <td>1014824</td>\n",
       "      <td>3.928686</td>\n",
       "      <td>2020</td>\n",
       "      <td>44</td>\n",
       "      <td>0.0</td>\n",
       "    </tr>\n",
       "    <tr>\n",
       "      <th>2</th>\n",
       "      <td>101</td>\n",
       "      <td>1016525</td>\n",
       "      <td>72.394127</td>\n",
       "      <td>2020</td>\n",
       "      <td>44</td>\n",
       "      <td>0.0</td>\n",
       "    </tr>\n",
       "    <tr>\n",
       "      <th>3</th>\n",
       "      <td>101</td>\n",
       "      <td>1016800</td>\n",
       "      <td>38.389998</td>\n",
       "      <td>2020</td>\n",
       "      <td>44</td>\n",
       "      <td>46.9</td>\n",
       "    </tr>\n",
       "    <tr>\n",
       "      <th>4</th>\n",
       "      <td>101</td>\n",
       "      <td>1017246</td>\n",
       "      <td>8.500609</td>\n",
       "      <td>2020</td>\n",
       "      <td>44</td>\n",
       "      <td>30.0</td>\n",
       "    </tr>\n",
       "    <tr>\n",
       "      <th>...</th>\n",
       "      <td>...</td>\n",
       "      <td>...</td>\n",
       "      <td>...</td>\n",
       "      <td>...</td>\n",
       "      <td>...</td>\n",
       "      <td>...</td>\n",
       "    </tr>\n",
       "    <tr>\n",
       "      <th>56927</th>\n",
       "      <td>590</td>\n",
       "      <td>1288237700</td>\n",
       "      <td>0.000000</td>\n",
       "      <td>2020</td>\n",
       "      <td>44</td>\n",
       "      <td>17.7</td>\n",
       "    </tr>\n",
       "    <tr>\n",
       "      <th>56928</th>\n",
       "      <td>590</td>\n",
       "      <td>1288237800</td>\n",
       "      <td>0.000000</td>\n",
       "      <td>2020</td>\n",
       "      <td>44</td>\n",
       "      <td>13.8</td>\n",
       "    </tr>\n",
       "    <tr>\n",
       "      <th>56929</th>\n",
       "      <td>590</td>\n",
       "      <td>1288237900</td>\n",
       "      <td>0.000000</td>\n",
       "      <td>2020</td>\n",
       "      <td>44</td>\n",
       "      <td>37.9</td>\n",
       "    </tr>\n",
       "    <tr>\n",
       "      <th>56930</th>\n",
       "      <td>590</td>\n",
       "      <td>1288341800</td>\n",
       "      <td>0.000000</td>\n",
       "      <td>2020</td>\n",
       "      <td>44</td>\n",
       "      <td>0.0</td>\n",
       "    </tr>\n",
       "    <tr>\n",
       "      <th>56931</th>\n",
       "      <td>590</td>\n",
       "      <td>1288442000</td>\n",
       "      <td>0.000000</td>\n",
       "      <td>2020</td>\n",
       "      <td>44</td>\n",
       "      <td>0.0</td>\n",
       "    </tr>\n",
       "  </tbody>\n",
       "</table>\n",
       "<p>56932 rows × 6 columns</p>\n",
       "</div>"
      ],
      "text/plain": [
       "       Site_ID         SKU   Forecast  Year  Week  Turnover\n",
       "0          101     1014557  39.714225  2020    44      29.9\n",
       "1          101     1014824   3.928686  2020    44       0.0\n",
       "2          101     1016525  72.394127  2020    44       0.0\n",
       "3          101     1016800  38.389998  2020    44      46.9\n",
       "4          101     1017246   8.500609  2020    44      30.0\n",
       "...        ...         ...        ...   ...   ...       ...\n",
       "56927      590  1288237700   0.000000  2020    44      17.7\n",
       "56928      590  1288237800   0.000000  2020    44      13.8\n",
       "56929      590  1288237900   0.000000  2020    44      37.9\n",
       "56930      590  1288341800   0.000000  2020    44       0.0\n",
       "56931      590  1288442000   0.000000  2020    44       0.0\n",
       "\n",
       "[56932 rows x 6 columns]"
      ]
     },
     "execution_count": 8,
     "metadata": {},
     "output_type": "execute_result"
    }
   ],
   "source": [
    "result_df"
   ]
  }
 ],
 "metadata": {
  "kernelspec": {
   "display_name": "Python 3",
   "language": "python",
   "name": "python3"
  },
  "language_info": {
   "codemirror_mode": {
    "name": "ipython",
    "version": 3
   },
   "file_extension": ".py",
   "mimetype": "text/x-python",
   "name": "python",
   "nbconvert_exporter": "python",
   "pygments_lexer": "ipython3",
   "version": "3.7.6"
  }
 },
 "nbformat": 4,
 "nbformat_minor": 4
}
